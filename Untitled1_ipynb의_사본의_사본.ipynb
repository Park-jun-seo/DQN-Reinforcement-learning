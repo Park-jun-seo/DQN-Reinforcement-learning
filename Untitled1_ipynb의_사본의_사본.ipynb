{
  "cells": [
    {
      "cell_type": "markdown",
      "metadata": {
        "id": "view-in-github",
        "colab_type": "text"
      },
      "source": [
        "<a href=\"https://colab.research.google.com/github/Park-jun-seo/DQN-Reinforcement-learning/blob/main/Untitled1_ipynb%EC%9D%98_%EC%82%AC%EB%B3%B8%EC%9D%98_%EC%82%AC%EB%B3%B8.ipynb\" target=\"_parent\"><img src=\"https://colab.research.google.com/assets/colab-badge.svg\" alt=\"Open In Colab\"/></a>"
      ]
    },
    {
      "cell_type": "markdown",
      "source": [
        "#pip install"
      ],
      "metadata": {
        "id": "N5eG0uvKiYFB"
      }
    },
    {
      "cell_type": "code",
      "execution_count": null,
      "metadata": {
        "colab": {
          "base_uri": "https://localhost:8080/"
        },
        "id": "ggZ-CEh9ZUMm",
        "outputId": "76b83fb7-aa56-4ce4-838a-9c1d636926ce"
      },
      "outputs": [
        {
          "output_type": "stream",
          "name": "stdout",
          "text": [
            "Reading package lists... Done\n",
            "Building dependency tree       \n",
            "Reading state information... Done\n",
            "The following package was automatically installed and is no longer required:\n",
            "  libnvidia-common-460\n",
            "Use 'apt autoremove' to remove it.\n",
            "The following additional packages will be installed:\n",
            "  libxxf86dga1\n",
            "Suggested packages:\n",
            "  mesa-utils\n",
            "The following NEW packages will be installed:\n",
            "  libxxf86dga1 x11-utils xvfb\n",
            "0 upgraded, 3 newly installed, 0 to remove and 7 not upgraded.\n",
            "Need to get 994 kB of archives.\n",
            "After this operation, 2,982 kB of additional disk space will be used.\n",
            "Get:1 http://archive.ubuntu.com/ubuntu bionic/main amd64 libxxf86dga1 amd64 2:1.1.4-1 [13.7 kB]\n",
            "Get:2 http://archive.ubuntu.com/ubuntu bionic/main amd64 x11-utils amd64 7.7+3build1 [196 kB]\n",
            "Get:3 http://archive.ubuntu.com/ubuntu bionic-updates/universe amd64 xvfb amd64 2:1.19.6-1ubuntu4.12 [785 kB]\n",
            "Fetched 994 kB in 1s (1,518 kB/s)\n",
            "Selecting previously unselected package libxxf86dga1:amd64.\n",
            "(Reading database ... 124015 files and directories currently installed.)\n",
            "Preparing to unpack .../libxxf86dga1_2%3a1.1.4-1_amd64.deb ...\n",
            "Unpacking libxxf86dga1:amd64 (2:1.1.4-1) ...\n",
            "Selecting previously unselected package x11-utils.\n",
            "Preparing to unpack .../x11-utils_7.7+3build1_amd64.deb ...\n",
            "Unpacking x11-utils (7.7+3build1) ...\n",
            "Selecting previously unselected package xvfb.\n",
            "Preparing to unpack .../xvfb_2%3a1.19.6-1ubuntu4.12_amd64.deb ...\n",
            "Unpacking xvfb (2:1.19.6-1ubuntu4.12) ...\n",
            "Setting up xvfb (2:1.19.6-1ubuntu4.12) ...\n",
            "Setting up libxxf86dga1:amd64 (2:1.1.4-1) ...\n",
            "Setting up x11-utils (7.7+3build1) ...\n",
            "Processing triggers for man-db (2.8.3-2ubuntu0.1) ...\n",
            "Processing triggers for libc-bin (2.27-3ubuntu1.6) ...\n",
            "Looking in indexes: https://pypi.org/simple, https://us-python.pkg.dev/colab-wheels/public/simple/\n",
            "Requirement already satisfied: PyOpenGL in /usr/local/lib/python3.8/dist-packages (3.1.6)\n",
            "Looking in indexes: https://pypi.org/simple, https://us-python.pkg.dev/colab-wheels/public/simple/\n",
            "Collecting PyOpenGL-accelerate\n",
            "  Downloading PyOpenGL-accelerate-3.1.5.tar.gz (538 kB)\n",
            "\u001b[K     |████████████████████████████████| 538 kB 33.1 MB/s \n",
            "\u001b[?25hBuilding wheels for collected packages: PyOpenGL-accelerate\n",
            "  Building wheel for PyOpenGL-accelerate (setup.py) ... \u001b[?25l\u001b[?25hdone\n",
            "  Created wheel for PyOpenGL-accelerate: filename=PyOpenGL_accelerate-3.1.5-cp38-cp38-linux_x86_64.whl size=1876868 sha256=da99a0800c292ed09092620bb920edb2fa75de6655076cd4f47d50028c206bb5\n",
            "  Stored in directory: /root/.cache/pip/wheels/78/c1/00/02b87e2b442a92cfa76c4650476396a245dc7e1bcbfc010ae2\n",
            "Successfully built PyOpenGL-accelerate\n",
            "Installing collected packages: PyOpenGL-accelerate\n",
            "Successfully installed PyOpenGL-accelerate-3.1.5\n",
            "Looking in indexes: https://pypi.org/simple, https://us-python.pkg.dev/colab-wheels/public/simple/\n",
            "Collecting imageio==2.4.1\n",
            "  Downloading imageio-2.4.1.tar.gz (3.3 MB)\n",
            "\u001b[K     |████████████████████████████████| 3.3 MB 37.5 MB/s \n",
            "\u001b[?25hRequirement already satisfied: numpy in /usr/local/lib/python3.8/dist-packages (from imageio==2.4.1) (1.21.6)\n",
            "Requirement already satisfied: pillow in /usr/local/lib/python3.8/dist-packages (from imageio==2.4.1) (7.1.2)\n",
            "Building wheels for collected packages: imageio\n",
            "  Building wheel for imageio (setup.py) ... \u001b[?25l\u001b[?25hdone\n",
            "  Created wheel for imageio: filename=imageio-2.4.1-py3-none-any.whl size=3303886 sha256=3a5373658dcb37f81a8b80fa4ecc879293199e186d252ba1be61e4b4b9727990\n",
            "  Stored in directory: /root/.cache/pip/wheels/be/7b/04/4d8d56f1d503e5c404f0de6018c0cfa592c71588a39b49e002\n",
            "Successfully built imageio\n",
            "Installing collected packages: imageio\n",
            "  Attempting uninstall: imageio\n",
            "    Found existing installation: imageio 2.9.0\n",
            "    Uninstalling imageio-2.9.0:\n",
            "      Successfully uninstalled imageio-2.9.0\n",
            "Successfully installed imageio-2.4.1\n",
            "Looking in indexes: https://pypi.org/simple, https://us-python.pkg.dev/colab-wheels/public/simple/\n",
            "Collecting imageio-ffmpeg\n",
            "  Downloading imageio_ffmpeg-0.4.7-py3-none-manylinux2010_x86_64.whl (26.9 MB)\n",
            "\u001b[K     |████████████████████████████████| 26.9 MB 1.4 MB/s \n",
            "\u001b[?25hInstalling collected packages: imageio-ffmpeg\n",
            "Successfully installed imageio-ffmpeg-0.4.7\n",
            "Looking in indexes: https://pypi.org/simple, https://us-python.pkg.dev/colab-wheels/public/simple/\n",
            "Collecting colabgymrender\n",
            "  Downloading colabgymrender-1.1.0.tar.gz (3.5 kB)\n",
            "Requirement already satisfied: moviepy in /usr/local/lib/python3.8/dist-packages (from colabgymrender) (0.2.3.5)\n",
            "Requirement already satisfied: decorator<5.0,>=4.0.2 in /usr/local/lib/python3.8/dist-packages (from moviepy->colabgymrender) (4.4.2)\n",
            "Requirement already satisfied: imageio<3.0,>=2.1.2 in /usr/local/lib/python3.8/dist-packages (from moviepy->colabgymrender) (2.4.1)\n",
            "Requirement already satisfied: tqdm<5.0,>=4.11.2 in /usr/local/lib/python3.8/dist-packages (from moviepy->colabgymrender) (4.64.1)\n",
            "Requirement already satisfied: numpy in /usr/local/lib/python3.8/dist-packages (from moviepy->colabgymrender) (1.21.6)\n",
            "Requirement already satisfied: pillow in /usr/local/lib/python3.8/dist-packages (from imageio<3.0,>=2.1.2->moviepy->colabgymrender) (7.1.2)\n",
            "Building wheels for collected packages: colabgymrender\n",
            "  Building wheel for colabgymrender (setup.py) ... \u001b[?25l\u001b[?25hdone\n",
            "  Created wheel for colabgymrender: filename=colabgymrender-1.1.0-py3-none-any.whl size=3130 sha256=4caccc8765ea78a4c2f2054d1bbc0cabcefedf59335d04ccc2d9c9339bbe2e44\n",
            "  Stored in directory: /root/.cache/pip/wheels/e4/d2/e1/cc1c940178ad92438325422b51c3e8c3d927b9ef8381da8840\n",
            "Successfully built colabgymrender\n",
            "Installing collected packages: colabgymrender\n",
            "Successfully installed colabgymrender-1.1.0\n",
            "Looking in indexes: https://pypi.org/simple, https://us-python.pkg.dev/colab-wheels/public/simple/\n",
            "Collecting pyvirtualdisplay\n",
            "  Downloading PyVirtualDisplay-3.0-py3-none-any.whl (15 kB)\n",
            "Installing collected packages: pyvirtualdisplay\n",
            "Successfully installed pyvirtualdisplay-3.0\n",
            "Looking in indexes: https://pypi.org/simple, https://us-python.pkg.dev/colab-wheels/public/simple/\n",
            "Requirement already satisfied: gym in /usr/local/lib/python3.8/dist-packages (0.25.2)\n",
            "Requirement already satisfied: numpy>=1.18.0 in /usr/local/lib/python3.8/dist-packages (from gym) (1.21.6)\n",
            "Requirement already satisfied: cloudpickle>=1.2.0 in /usr/local/lib/python3.8/dist-packages (from gym) (1.5.0)\n",
            "Requirement already satisfied: importlib-metadata>=4.8.0 in /usr/local/lib/python3.8/dist-packages (from gym) (4.13.0)\n",
            "Requirement already satisfied: gym-notices>=0.0.4 in /usr/local/lib/python3.8/dist-packages (from gym) (0.0.8)\n",
            "Requirement already satisfied: zipp>=0.5 in /usr/local/lib/python3.8/dist-packages (from importlib-metadata>=4.8.0->gym) (3.10.0)\n",
            "Looking in indexes: https://pypi.org/simple, https://us-python.pkg.dev/colab-wheels/public/simple/\n",
            "Requirement already satisfied: gym in /usr/local/lib/python3.8/dist-packages (0.25.2)\n",
            "Collecting gym\n",
            "  Downloading gym-0.26.2.tar.gz (721 kB)\n",
            "\u001b[K     |████████████████████████████████| 721 kB 38.6 MB/s \n",
            "\u001b[?25h  Installing build dependencies ... \u001b[?25l\u001b[?25hdone\n",
            "  Getting requirements to build wheel ... \u001b[?25l\u001b[?25hdone\n",
            "    Preparing wheel metadata ... \u001b[?25l\u001b[?25hdone\n",
            "Requirement already satisfied: numpy>=1.18.0 in /usr/local/lib/python3.8/dist-packages (from gym) (1.21.6)\n",
            "Requirement already satisfied: cloudpickle>=1.2.0 in /usr/local/lib/python3.8/dist-packages (from gym) (1.5.0)\n",
            "Requirement already satisfied: gym-notices>=0.0.4 in /usr/local/lib/python3.8/dist-packages (from gym) (0.0.8)\n",
            "Requirement already satisfied: importlib-metadata>=4.8.0 in /usr/local/lib/python3.8/dist-packages (from gym) (4.13.0)\n",
            "Requirement already satisfied: zipp>=0.5 in /usr/local/lib/python3.8/dist-packages (from importlib-metadata>=4.8.0->gym) (3.10.0)\n",
            "Building wheels for collected packages: gym\n",
            "  Building wheel for gym (PEP 517) ... \u001b[?25l\u001b[?25hdone\n",
            "  Created wheel for gym: filename=gym-0.26.2-py3-none-any.whl size=827650 sha256=0095ef3d17173a9289fbbe328b6e4072bb1b22978f0e33dfeea115df53c01453\n",
            "  Stored in directory: /root/.cache/pip/wheels/17/79/65/7afedc162d858b02708a3b8f7a6dd5b1000dcd5b0f894f7cc1\n",
            "Successfully built gym\n",
            "Installing collected packages: gym\n",
            "  Attempting uninstall: gym\n",
            "    Found existing installation: gym 0.25.2\n",
            "    Uninstalling gym-0.25.2:\n",
            "      Successfully uninstalled gym-0.25.2\n",
            "Successfully installed gym-0.26.2\n"
          ]
        }
      ],
      "source": [
        "!apt-get install -y xvfb x11-utils\n",
        "!pip install PyOpenGL\n",
        "!pip install PyOpenGL-accelerate\n",
        "#!pip install gym[all]==0.17.*\n",
        "!apt-get install -y xvfb python-opengl ffmpeg > /dev/null 2>&1\n",
        "!pip install imageio==2.4.1\n",
        "!pip install imageio-ffmpeg\n",
        "!pip install colabgymrender\n",
        "!pip install pyvirtualdisplay\n",
        "!pip install gym\n",
        "!pip install --upgrade gym"
      ]
    },
    {
      "cell_type": "code",
      "execution_count": null,
      "metadata": {
        "colab": {
          "base_uri": "https://localhost:8080/"
        },
        "id": "YMOvPw93cdSG",
        "outputId": "e061736b-1582-48ae-d3dd-4fb52cce30b0"
      },
      "outputs": [
        {
          "output_type": "stream",
          "name": "stdout",
          "text": [
            "Looking in indexes: https://pypi.org/simple, https://us-python.pkg.dev/colab-wheels/public/simple/\n",
            "Requirement already satisfied: gym[atari] in /usr/local/lib/python3.8/dist-packages (0.26.2)\n",
            "Requirement already satisfied: importlib-metadata>=4.8.0 in /usr/local/lib/python3.8/dist-packages (from gym[atari]) (4.13.0)\n",
            "Requirement already satisfied: numpy>=1.18.0 in /usr/local/lib/python3.8/dist-packages (from gym[atari]) (1.21.6)\n",
            "Requirement already satisfied: gym-notices>=0.0.4 in /usr/local/lib/python3.8/dist-packages (from gym[atari]) (0.0.8)\n",
            "Requirement already satisfied: cloudpickle>=1.2.0 in /usr/local/lib/python3.8/dist-packages (from gym[atari]) (1.5.0)\n",
            "Collecting ale-py~=0.8.0\n",
            "  Downloading ale_py-0.8.0-cp38-cp38-manylinux_2_17_x86_64.manylinux2014_x86_64.whl (1.7 MB)\n",
            "\u001b[K     |████████████████████████████████| 1.7 MB 33.0 MB/s \n",
            "\u001b[?25hRequirement already satisfied: importlib-resources in /usr/local/lib/python3.8/dist-packages (from ale-py~=0.8.0->gym[atari]) (5.10.0)\n",
            "Requirement already satisfied: typing-extensions in /usr/local/lib/python3.8/dist-packages (from ale-py~=0.8.0->gym[atari]) (4.1.1)\n",
            "Requirement already satisfied: zipp>=0.5 in /usr/local/lib/python3.8/dist-packages (from importlib-metadata>=4.8.0->gym[atari]) (3.10.0)\n",
            "Installing collected packages: ale-py\n",
            "Successfully installed ale-py-0.8.0\n"
          ]
        }
      ],
      "source": [
        "!pip install gym[atari]"
      ]
    },
    {
      "cell_type": "code",
      "execution_count": null,
      "metadata": {
        "colab": {
          "base_uri": "https://localhost:8080/"
        },
        "id": "oj8-ADocc-an",
        "outputId": "a0e2069f-8223-4fa7-d16f-62c0c028d177"
      },
      "outputs": [
        {
          "output_type": "stream",
          "name": "stdout",
          "text": [
            "Looking in indexes: https://pypi.org/simple, https://us-python.pkg.dev/colab-wheels/public/simple/\n",
            "Collecting autorom[accept-rom-license]\n",
            "  Downloading AutoROM-0.4.2-py3-none-any.whl (16 kB)\n",
            "Requirement already satisfied: tqdm in /usr/local/lib/python3.8/dist-packages (from autorom[accept-rom-license]) (4.64.1)\n",
            "Requirement already satisfied: importlib-resources in /usr/local/lib/python3.8/dist-packages (from autorom[accept-rom-license]) (5.10.0)\n",
            "Requirement already satisfied: click in /usr/local/lib/python3.8/dist-packages (from autorom[accept-rom-license]) (7.1.2)\n",
            "Requirement already satisfied: requests in /usr/local/lib/python3.8/dist-packages (from autorom[accept-rom-license]) (2.23.0)\n",
            "Collecting AutoROM.accept-rom-license\n",
            "  Downloading AutoROM.accept-rom-license-0.4.2.tar.gz (9.8 kB)\n",
            "  Installing build dependencies ... \u001b[?25l\u001b[?25hdone\n",
            "  Getting requirements to build wheel ... \u001b[?25l\u001b[?25hdone\n",
            "    Preparing wheel metadata ... \u001b[?25l\u001b[?25hdone\n",
            "Requirement already satisfied: zipp>=3.1.0 in /usr/local/lib/python3.8/dist-packages (from importlib-resources->autorom[accept-rom-license]) (3.10.0)\n",
            "Requirement already satisfied: idna<3,>=2.5 in /usr/local/lib/python3.8/dist-packages (from requests->autorom[accept-rom-license]) (2.10)\n",
            "Requirement already satisfied: chardet<4,>=3.0.2 in /usr/local/lib/python3.8/dist-packages (from requests->autorom[accept-rom-license]) (3.0.4)\n",
            "Requirement already satisfied: certifi>=2017.4.17 in /usr/local/lib/python3.8/dist-packages (from requests->autorom[accept-rom-license]) (2022.9.24)\n",
            "Requirement already satisfied: urllib3!=1.25.0,!=1.25.1,<1.26,>=1.21.1 in /usr/local/lib/python3.8/dist-packages (from requests->autorom[accept-rom-license]) (1.24.3)\n",
            "Building wheels for collected packages: AutoROM.accept-rom-license\n",
            "  Building wheel for AutoROM.accept-rom-license (PEP 517) ... \u001b[?25l\u001b[?25hdone\n",
            "  Created wheel for AutoROM.accept-rom-license: filename=AutoROM.accept_rom_license-0.4.2-py3-none-any.whl size=441028 sha256=cd10e4bc161315f48c7279a8b59fd5020fee07e6061763d4b30c2907a20d061d\n",
            "  Stored in directory: /root/.cache/pip/wheels/51/08/c5/28b973078691a3f8baf99fcaec1ed8f0e05ef6e54d2390212c\n",
            "Successfully built AutoROM.accept-rom-license\n",
            "Installing collected packages: AutoROM.accept-rom-license, autorom\n",
            "Successfully installed AutoROM.accept-rom-license-0.4.2 autorom-0.4.2\n"
          ]
        }
      ],
      "source": [
        "!pip install autorom[accept-rom-license]"
      ]
    },
    {
      "cell_type": "markdown",
      "source": [
        "#test"
      ],
      "metadata": {
        "id": "PZkywk57icCC"
      }
    },
    {
      "cell_type": "code",
      "execution_count": null,
      "metadata": {
        "colab": {
          "base_uri": "https://localhost:8080/"
        },
        "id": "KVocUB73Zu2V",
        "outputId": "2ce2dc28-64cf-4166-9e75-60ca77af3eaa"
      },
      "outputs": [
        {
          "output_type": "stream",
          "name": "stderr",
          "text": [
            "/usr/local/lib/python3.8/dist-packages/gym/utils/passive_env_checker.py:289: UserWarning: \u001b[33mWARN: No render fps was declared in the environment (env.metadata['render_fps'] is None or not defined), rendering may occur at inconsistent fps.\u001b[0m\n",
            "  logger.warn(\n"
          ]
        }
      ],
      "source": [
        "import gym\n",
        "from gym.utils.save_video import save_video\n",
        "import numpy as np\n",
        "\n",
        "#ENV = \"FrozenLake-v1\"\n",
        "#ENV = 'ALE/Breakout-v5'\n",
        "#ENV = 'Breakout-v4'\n",
        "#ENV ='ALE/Freeway-v5'\n",
        "#ENV =\"ALE/KungFuMaster-v5\"\n",
        "ENV = 'ALE/Tennis-v5'\n",
        "#ENV =\"ALE/Pong-v5\"\n",
        "#env = gym.make(ENV, render_mode=\"rgb_array_list\")\n",
        "env = gym.make(ENV,render_mode='rgb_array')\n",
        "frames = []\n",
        "env.reset()\n",
        "step_starting_index = 0\n",
        "episode_index = 0\n",
        "terminated = False\n",
        "\n",
        "#env.unwrapped.get_action_meanings()\n",
        "\n",
        "for step_index in range(500):\n",
        "   #action = env.action_space.sample()\n",
        "   action = np.random.randint(0, len(env.unwrapped.get_action_meanings()))\n",
        "\n",
        "   env.render()\n",
        "   observation, reward, terminated, truncated, info = env.step(1)\n",
        "   \n",
        "   frames.append(observation)\n",
        "   #obs, reward, done, info = env.step(action)\n",
        "   if reward == -1:\n",
        "      #env.reset()\n",
        "   if terminated or truncated:\n",
        "      #save_video(env.render(),\"videos\",fps=env.metadata[\"render_fps\"],step_starting_index=step_starting_index,episode_index=episode_index)\n",
        "      step_starting_index = step_index + 1\n",
        "      episode_index += 1\n",
        "      env.reset()\n",
        "  \n",
        "env.close()"
      ]
    },
    {
      "cell_type": "code",
      "execution_count": null,
      "metadata": {
        "id": "EGeWneNxr4Zv"
      },
      "outputs": [],
      "source": [
        "observation"
      ]
    },
    {
      "cell_type": "code",
      "execution_count": null,
      "metadata": {
        "colab": {
          "base_uri": "https://localhost:8080/"
        },
        "id": "nk12aTM86Cmr",
        "outputId": "bcc0158c-dc30-4e0a-f57c-9fef380cae90"
      },
      "outputs": [
        {
          "name": "stdout",
          "output_type": "stream",
          "text": [
            "<OrderEnforcing<PassiveEnvChecker<AtariEnv<ALE/Tennis-v5>>>>\n"
          ]
        }
      ],
      "source": [
        "print(env)"
      ]
    },
    {
      "cell_type": "markdown",
      "metadata": {
        "id": "MG7iv0pSlvjt"
      },
      "source": []
    },
    {
      "cell_type": "code",
      "execution_count": null,
      "metadata": {
        "colab": {
          "base_uri": "https://localhost:8080/"
        },
        "id": "TaXsWKgxMEI3",
        "outputId": "c42b947d-8639-46ea-f765-6995982d9809"
      },
      "outputs": [
        {
          "data": {
            "text/plain": [
              "500"
            ]
          },
          "execution_count": 68,
          "metadata": {},
          "output_type": "execute_result"
        }
      ],
      "source": [
        "len(frames)"
      ]
    },
    {
      "cell_type": "code",
      "execution_count": null,
      "metadata": {
        "colab": {
          "base_uri": "https://localhost:8080/"
        },
        "id": "D29WOx2VoSAw",
        "outputId": "36bbb5c6-a0c6-486f-b5eb-6fb8be5dec83"
      },
      "outputs": [
        {
          "data": {
            "text/plain": [
              "(210, 160, 3)"
            ]
          },
          "execution_count": 28,
          "metadata": {},
          "output_type": "execute_result"
        }
      ],
      "source": [
        "frames[0].shape"
      ]
    },
    {
      "cell_type": "code",
      "execution_count": null,
      "metadata": {
        "colab": {
          "base_uri": "https://localhost:8080/",
          "height": 287
        },
        "id": "aLzk3E7ltGZ1",
        "outputId": "5755a32d-a1ac-4cb6-fe51-eaa815fea6da"
      },
      "outputs": [
        {
          "output_type": "execute_result",
          "data": {
            "text/plain": [
              "<matplotlib.image.AxesImage at 0x7f563d2c10a0>"
            ]
          },
          "metadata": {},
          "execution_count": 190
        },
        {
          "output_type": "display_data",
          "data": {
            "text/plain": [
              "<Figure size 432x288 with 1 Axes>"
            ],
            "image/png": "[encoded data removed]"
          },
          "metadata": {
            "needs_background": "light"
          }
        }
      ],
      "source": [
        "import matplotlib.pyplot as plt\n",
        "#observation = env.reset()\n",
        "plt.imshow(observation)"
      ]
    },
    {
      "cell_type": "code",
      "execution_count": null,
      "metadata": {
        "colab": {
          "base_uri": "https://localhost:8080/",
          "height": 287
        },
        "id": "n4aDnv3wMH7W",
        "outputId": "0fc367e9-e0b3-4584-8558-56c93bc8a32c"
      },
      "outputs": [
        {
          "output_type": "execute_result",
          "data": {
            "text/plain": [
              "<matplotlib.image.AxesImage at 0x7f563d2f5340>"
            ]
          },
          "metadata": {},
          "execution_count": 191
        },
        {
          "output_type": "display_data",
          "data": {
            "text/plain": [
              "<Figure size 432x288 with 1 Axes>"
            ],
            "image/png": "[encoded data removed]"
          },
          "metadata": {
            "needs_background": "light"
          }
        }
      ],
      "source": [
        "plt.imshow(frames[100])"
      ]
    },
    {
      "cell_type": "code",
      "execution_count": null,
      "metadata": {
        "id": "CPqimZvTMv3L",
        "colab": {
          "base_uri": "https://localhost:8080/"
        },
        "outputId": "4be11c0f-5a56-4525-fab6-6707e8251921"
      },
      "outputs": [
        {
          "output_type": "stream",
          "name": "stdout",
          "text": [
            "Looking in indexes: https://pypi.org/simple, https://us-python.pkg.dev/colab-wheels/public/simple/\n",
            "Collecting JSAnimation\n",
            "  Downloading JSAnimation-0.1.tar.gz (8.9 kB)\n",
            "Building wheels for collected packages: JSAnimation\n",
            "  Building wheel for JSAnimation (setup.py) ... \u001b[?25l\u001b[?25hdone\n",
            "  Created wheel for JSAnimation: filename=JSAnimation-0.1-py3-none-any.whl size=11423 sha256=97a44e03f6209fe0618758cd533bb369948fe359ead5e493b0797d419ed10612\n",
            "  Stored in directory: /root/.cache/pip/wheels/b1/78/80/8fa3ee5db5b384c086dcc7e6c4e4e22caae0687a4f71ba08f8\n",
            "Successfully built JSAnimation\n",
            "Installing collected packages: JSAnimation\n",
            "Successfully installed JSAnimation-0.1\n"
          ]
        }
      ],
      "source": [
        "!pip install JSAnimation"
      ]
    },
    {
      "cell_type": "code",
      "execution_count": null,
      "metadata": {
        "id": "PDF_aXlhMq69"
      },
      "outputs": [],
      "source": [
        "from JSAnimation.IPython_display import display_animation\n",
        "from matplotlib import animation\n",
        "from IPython.display import display\n",
        "from IPython.display import HTML\n",
        "\n",
        "%matplotlib inline\n",
        "\n",
        "def display_frames_as_gif(frames):\n",
        "    \"\"\"\n",
        "    Displays a list of frames as a gif, with controls\n",
        "    \"\"\"\n",
        "    plt.figure(figsize=(frames[0].shape[1]/72.0, frames[0].shape[0]/72.0),dpi=72)\n",
        "    patch = plt.imshow(frames[0])\n",
        "    plt.axis('off')\n",
        "\n",
        "    def animate(i):\n",
        "        patch.set_data(frames[i])\n",
        "\n",
        "    anim = animation.FuncAnimation(plt.gcf(), animate, frames=len(frames),interval=100)\n",
        "\n",
        "\n",
        "    anim.save('tennis_no_ai.mp4')  # 주석 추가 : 애니메이션을 저장하는 부분\n",
        "    #display(display_animation(anim.to_jshtml(), default_mode='loop'))\n",
        "    #display(anim.to_jshtml())\n",
        "    #rc('animation', html='html5')\n",
        "    HTML(anim.to_html5_video())\n",
        "    #display(anim.to_html5_video())"
      ]
    },
    {
      "cell_type": "markdown",
      "source": [
        "#frame render"
      ],
      "metadata": {
        "id": "ZXsISsaKipn4"
      }
    },
    {
      "cell_type": "code",
      "execution_count": null,
      "metadata": {
        "colab": {
          "base_uri": "https://localhost:8080/",
          "height": 189
        },
        "id": "901bTHocMrk8",
        "outputId": "aa59eed4-e83a-4419-8fb2-3cf45d042087"
      },
      "outputs": [
        {
          "output_type": "display_data",
          "data": {
            "text/plain": [
              "<Figure size 160x210 with 1 Axes>"
            ],
            "image/png": "[encoded data removed]"
          },
          "metadata": {
            "needs_background": "light"
          }
        }
      ],
      "source": [
        "#@title 기본 제목 텍스트\n",
        "display_frames_as_gif(frames)"
      ]
    },
    {
      "cell_type": "code",
      "execution_count": null,
      "metadata": {
        "colab": {
          "base_uri": "https://localhost:8080/",
          "height": 189
        },
        "id": "ymmH6UPObl6v",
        "outputId": "da5f4c57-f822-4c4d-f014-5637e71cedd4"
      },
      "outputs": [
        {
          "output_type": "display_data",
          "data": {
            "text/plain": [
              "<Figure size 160x210 with 1 Axes>"
            ],
            "image/png": "[encoded data removed]"
          },
          "metadata": {
            "needs_background": "light"
          }
        }
      ],
      "source": [
        "plt.figure(figsize=(frames[0].shape[1]/72.0, frames[0].shape[0]/72.0),dpi=72)\n",
        "#patch = plt.imshow(frames[0])\n",
        "patch = plt.imshow(frames[0])\n",
        "plt.axis('off')\n",
        "def animate(i):\n",
        "  patch.set_data(frames[i])\n",
        "\n",
        "anim = animation.FuncAnimation(plt.gcf(), animate, frames=len(frames),interval=100)\n"
      ]
    },
    {
      "cell_type": "code",
      "execution_count": null,
      "metadata": {
        "colab": {
          "base_uri": "https://localhost:8080/",
          "height": 232
        },
        "id": "S4lNVaUFcxLX",
        "outputId": "5bd2a9c1-9b18-4fc1-e9b9-8df8a2dda906"
      },
      "outputs": [
        {
          "output_type": "execute_result",
          "data": {
            "text/plain": [
              "<IPython.core.display.HTML object>"
            ],
            "text/html": [
              "<video width=\"160\" height=\"210\" controls autoplay loop>\n",
              "  <source type=\"video/mp4\" src=\"data:video/mp4;base64,AAAAHGZ0eXBNNFYgAAACAGlzb21pc28yYXZjMQAAAAhmcmVlAACRLW1kYXQAAAKuBgX//6rcRem9\n",
              "5tlIt5Ys2CDZI+7veDI2NCAtIGNvcmUgMTUyIHIyODU0IGU5YTU5MDMgLSBILjI2NC9NUEVHLTQg\n",
              "QVZDIGNvZGVjIC0gQ29weWxlZnQgMjAwMy0yMDE3IC0gaHR0cDovL3d3dy52aWRlb2xhbi5vcmcv\n",
              "eDI2NC5odG1sIC0gb3B0aW9uczogY2FiYWM9MSByZWY9MyBkZWJsb2NrPTE6MDowIGFuYWx5c2U9\n",
              "MHgzOjB4MTEzIG1lPWhleCBzdWJtZT03IHBzeT0xIHBzeV9yZD0xLjAwOjAuMDAgbWl4ZWRfcmVm\n",
              "PTEgbWVfcmFuZ2U9MTYgY2hyb21hX21lPTEgdHJlbGxpcz0xIDh4OGRjdD0xIGNxbT0wIGRlYWR6\n",
              "b25lPTIxLDExIGZhc3RfcHNraXA9MSBjaHJvbWFfcXBfb2Zmc2V0PS0yIHRocmVhZHM9MyBsb29r\n",
              "YWhlYWRfdGhyZWFkcz0xIHNsaWNlZF90aHJlYWRzPTAgbnI9MCBkZWNpbWF0ZT0xIGludGVybGFj\n",
              "ZWQ9MCBibHVyYXlfY29tcGF0PTAgY29uc3RyYWluZWRfaW50cmE9MCBiZnJhbWVzPTMgYl9weXJh\n",
              "bWlkPTIgYl9hZGFwdD0xIGJfYmlhcz0wIGRpcmVjdD0xIHdlaWdodGI9MSBvcGVuX2dvcD0wIHdl\n",
              "aWdodHA9MiBrZXlpbnQ9MjUwIGtleWludF9taW49MTAgc2NlbmVjdXQ9NDAgaW50cmFfcmVmcmVz\n",
              "aD0wIHJjX2xvb2thaGVhZD00MCByYz1jcmYgbWJ0cmVlPTEgY3JmPTIzLjAgcWNvbXA9MC42MCBx\n",
              "cG1pbj0wIHFwbWF4PTY5IHFwc3RlcD00IGlwX3JhdGlvPTEuNDAgYXE9MToxLjAwAIAAAAYBZYiE\n",
              "ABH//veIHzLLafk613IR560urR9Q7kZ4RD/0aNdtgAquqrXldjtXP4Ks+zKNtYAk6RtKLweQJrbh\n",
              "J5AKKHVPgZSbDwTQmQLUIX3gFNwDthOWVOptIS03knPwghIrnK1grL1aiy1AfPPveenzgJk3sDFJ\n",
              "aWcAIGmcs6mHLVMtvn9ubXFzgNwZV1XZ7EPwMRrawDrmkKYCQ8XSMGT9f/CF2IRoC2exnK9hwDfy\n",
              "U+65iaa5u+xmH32kqagYZ0wpXCqZNHdYT+xpsb7L1PfbcgHYieFCXRzdx0Xd98qBU925nEwA+u4v\n",
              "7ydr48vr6tiZYeOXPjYRXQH1FVU1xT7KDFS1q2B/AeGL4IKFgyY8f4dtw/xivgx1adOzILgcBYjM\n",
              "KotvWeRXWF2boJFGJgUU6biMley5oDH1150iE9rexUMS7n8wm2JSgC3z0Yi1j22pwRABQPaNo5Km\n",
              "wIAQQi+yUMEZOHRFfMsNfEaU9/v+VPaMMQOOOWooKa6/Z5Mh4N1PJ0hkGk3lVP8kreBcS3X6Bqy+\n",
              "F+fyQMROGfK3nnNbKj+X+JIdTA49m7RQIcSkD1smKc770CLHAxhWrRT3mRJ4ot29ojyCLiLbY2nb\n",
              "5XEmCAiBYrhnJqA//yLE9A7cdFrQE5JRJ1V4XA0ZW1cZ5xcsw7T81nn3RDFF2KCST7t3Fujtfle/\n",
              "iGm1y/gRaXInj8gQqlt9IUH2joUmaevM1qJb2PkKy/wja2Rhf+DowuFdwROK0BcB+QIpzv9gf63Y\n",
              "ZInSmAJMH9x/3B8+4M3X/7nQNwl3YmfdTC8JIzptEPMzBPbcVUXHdY56I3XJk7YHFq3Rn7WAI+O3\n",
              "FIBCMG1UiqmCiQeqefcjZ0QSUNpV3leck0ChevzzBaY+XksmcUV3E1XvxNRaG6nSmhIfxhH+/8VM\n",
              "1d0GyUnD9NgJQM1JGzvnn5dyYxeyNprJYphSJFUoS84SOiI8DpRaHVlXm6/nhkhth8gqHlhUAmvQ\n",
              "j50InhcLqaXmK9I7A3IdLE7bzfkE6aciGotX5SHowHAP2poRCE+1l54wGbgfxvnkvoxgefa7rQt8\n",
              "XayF8tSLj/FEbRYvQQITgoA/0MU/eLETd54CU0kD5u3vAHYRA+Qqwz/V0sWHaIopmP1S0xpeDQJm\n",
              "AJeexSUUNZo2FmJSN+tZ0VMehjmm34D05MM/Va5ADJ3LIqwWMtx8WcYBWsKnS5ubrgBJfNTtHvif\n",
              "TRhRqhs7XAkG7CfgS6pFbszFkINzxYaGnbXGD1emLPO3cUu4UElNWS2v/xTaiN63Prz4dzibn1a/\n",
              "xOSare7U7qIE3BlUL/V+qIUJuMYLaLxTinMY7u3TiXwwhBFj7p8RxtF+k5TYNrcxQmEXubaxStn5\n",
              "ZlwiGro0hmNTZYTfa24zRs8tEMzDJVLsFM+Cjez4VG6aq2FwfM+4X/b53W95Q1VSmSgH0L5M5RDv\n",
              "sJmuhllmllwG0Lxc4qLUueeqXzJA4sfU2atzTjYCof9Sl7wk19egAj5nWLLbEifu6rSHGePbw2i1\n",
              "2dJSlY1ppSYUmW5/N+wftgUhf3/9o0Mjj4MiugLdIT1hToSI5ODyvXobAOf0Vh3VAMaOtaZYR4W0\n",
              "dOR/+vv/bIXnFvqXpULUJGSWrS8GJjKhYZINICT5qFgjLdnbfEP3xr4+o4vBgYFiJrF8Z98cmTGB\n",
              "CL9zr7E/SRmyRlPUoOOT6FPR+36ehmGqYpbLC3e1+cAIWp8HN0MNLuO0WjBiJ8P/aw9XNOS6se4I\n",
              "/mtRP3H33wHsCnTDy1+uCCNBiE6SJGfOD1HHJ9UaCtNWbum9ARb/9jFptGhsYVTWc0NujcsX9YK3\n",
              "TqP5JVOVR1j1Rf9McO3CpL4tgXhIIMxg9Nc2eI4s9pissCq2wx0GusxFBRGmqkYGxQxdG4wOjpM7\n",
              "ksXLrSPMIfTSn6PeyQ0XRZneyLuiCxo+gTaIJX3jpKUwAGYqf5XyzPRGg95V9wGkf8Ey/A/FxQ3t\n",
              "EmEAj2GI5ooASIzLWv+r1YCA288XO3z8oaS3I0bgUwO+AcfFxeDQAPzZIpTwCjUITlo86QAAAUZB\n",
              "miRsQR/+tSqN7q5QEpAHiq3Tjv3I2ZXdfnQlZ/dIvqtfA4G+bKpP4+I1oaqJv0Ody5/9WFeqeouy\n",
              "BxE9bG07vPUwVmWbc3+M1IYp65oLiFPBXOkcRrIlHmyuG6pEpvF5ZW1utvhtHPjEVobpYR8vQk9E\n",
              "sf/Q43utVFM8rwWDAEIveTY1vCBhEo6DFlussaIed3ltWJ0+XzqtmwIYDJnXCXw5TfG1gQdeAGdW\n",
              "eUSSJtRjOprSi9+aj1L4+vnbNL/DsxXcl69KsH56m9lAn9RPwQVVChbSN1+DFqqEelrrEb6F/O6M\n",
              "qGeX5bzmwZx1nvzBprhBpS4LiEfyks9555ezBmoAdlJtjBoY6QnQJqqBvWqC3vjtVqSW9hEvqg9+\n",
              "1PFMcvSEIO6MQxoxGqFsDvV8DNsnoi0tRG7oLp9tOP6bwo3baWLegAAAAG1BnkJ4h38CJ6J0AIys\n",
              "7+iqECkNuKH9iapyTv12ZrvAWJW6H0KYYO9E6DtUIS76qnx44SFbMYwUJcTgofStSvdqSMRr3aXP\n",
              "ejo0RreT+GESWZP/lX2hnMfvVrXQRwJHRdTsqnG8F5n05DgTdTLBAAAAVwGeYXRDfwLgSU49ySTQ\n",
              "AtORjdnc37Lvp1VjPKwODiDm1bq1XhU+iovf5j8UwUQoBlrMCt5Up0pYgjVfAc6oStwulR3ZW28u\n",
              "6dhcU/8dgWn696FJ3DI2oAAAAD8BnmNqQ38C3ngn33AAcVHtdlSxtOGMk7HFiImaaNSdxnZZrDQ/\n",
              "/Tv88a03rA8id0LrDou41SEwpMOakklMSsEAAABeQZpoSahBaJlMCCP//rUqgV+pCwBmC4p964IQ\n",
              "xLc32zIr79f281sXt05k5zxxNrP8BYLiEbFsYq/0/6gLNMR1jtWmV+F+wQLVdMEOMwNtaBuEFhK1\n",
              "FHiCWorPkxXZwQAAADpBnoZFESw7/wD/Y11EcAKuhQGyAVJv7LO8FiK1nCE3RVAYS7RFvBayriE1\n",
              "JaU1uxrWXFbMG02uS+r5AAAANAGepXRDfwFp1hjl/gA5oIK2AiMOqZ0kKf4K+sUiMN7v1uhWQv8J\n",
              "NxW1eo5fQJCg/qyOOzkAAAArAZ6nakN/AObPH7VOwBbSPAUFnPYgPwpPtfT94nuJS1gvBH8KIznF\n",
              "kdiuhQAAAE5BmqxJqEFsmUwIIf/+qlUAUzvUzSvqDKPXr9JrQA2+DOy+J7aUBRLYR7RbC1Ufe1WZ\n",
              "THmYCPH+prhMEuEBgHfPdqT1BzJCEvdEm3uH48AAAABJQZ7KRRUsO/8Ad3QrmlRQCk2tk7Xeb2uz\n",
              "fQk7B2Q0obGv4aQEYVpS1NXgdw8lWs549EQplwUZDbt45APl6q4bkdl/7Er/NjtEYQAAACkBnul0\n",
              "Q38ArR3+1PNTa+AvHq2ZCPwHouYPbkwmOtM61vHcOGQJ0qNI0AAAACIBnutqQ38AaUAUTYlr8VHP\n",
              "xEEAGlAjFG59iFsc26TwP2dAAAAAd0Ga7kmoQWyZTBRMEP/+qlUAHSb+hAAX4jJP8i98gJ0ye20O\n",
              "r4QFMcVhLEPP3j6UoeAVpPUnTzW1dEd0jlZkzAVEozHzNt4ElJFbcj22bfGzffcPyHiOIhjj951M\n",
              "VHAQ905q9RIkPsFv6JNIUrlqLh5/mYX8wGfFAAAAGgGfDWpDfwBRphm2iAo65Wtg4PR8rR+uucIR\n",
              "AAAAjUGbEknhClJlMCH//qmWAJQhDnBOaEryqJSkGT9zCSaS+Iro7vb5onhvv9/OPF7R+dsviqxS\n",
              "vOA5i/x+7td3os9vcS62WoSDzcgcgZeifUTZ0hB5yu5hUqGYArvGiGCi/hExC8GQcQBDXBE6PFq4\n",
              "+euHnfgxWEXZGQzNwkzWDxUNh1ACeNpqPgJkuWFB3wAAAFJBnzBFNEw7/wBKJAGfNX4QBlqkLHXu\n",
              "TLTJ5412Cf+/XH4EtHJSsL8umPd/xhdpeh90XLgDfxxFohbTmIR7JasS4Ea4lG9psa+4QYZ3Htot\n",
              "8NCAAAAAMQGfT3RDfwBRv5rWhQma2+VatzvACsmCABNG0ATkSWY6aPAOwDDaR+VM8dJf4E2mKXAA\n",
              "AABTAZ9RakN/AGlL85AHHBZsPr+jIa7dgW+K1UZXWxNayIKkx2B9X33OpErHkhoDOsduh3ImxoRE\n",
              "jphxHhoCEgdrgc+zJb6VoT19rYb6SAE3TZxDH1EAAABjQZtTSahBaJlMCCH//qpVFNTweDg7Luyi\n",
              "C4h72opGTDYAAsJmji6sBfrWPkwHdMIe1qjs5Jc8lgQ/LH9db785roO1uYmvDv+D/DWXuWbdqL0+\n",
              "pt9l3QwQ0y7Xrc5eQzBM8OYuAAAAhEGbdUnhClJlMFESw//+qZYBM9jhwA45KklBcscd8+6HfwGM\n",
              "YDjuKM67lw0z2vxqN/I/+un3wJMKp3fVG3mB5906BkuPvbbq2UKNsA8h+Uw1t8HYmr1zKIXlB3nw\n",
              "YYqs7NQ5mggySZsilKvg2V2ZamPGkuUNzbsEcjVyXOtTkqu5RQe6ZgAAAE8Bn5RqQ38ArT0ObuWA\n",
              "D4c/kYXQFdGfxhuoTFbt/RegIPxDZhZxvAF1oPzXV0beGBgq/q+VtW/VLqYCWnzRRfadrQfdVkni\n",
              "skzwMSd/opl1AAAAbEGblknhDomUwIIf/qpVAFGw75EvdT3bYEACwq6Vt9wYkY6A+JXYPhl56mSC\n",
              "5y+FD5s/5/roz+cfCUzLgROeQdsN5ZkyWHdPXX6lNZm1BW3CrkoyQHsyHxmHDS7ThwQdg4MCDhHn\n",
              "yMmF53I74AAAADhBm7dJ4Q8mUwIIf/6qVQBRshJA/l9zajgxCpahmylpivICf/aovhS6dSoOJnEF\n",
              "JrFy36afulrCgQAAAJxBm9lJ4Q8mUwURPBD//qpZHMtiAn1Saazvw2MkBI6T/gqUPXz3a7QCXur5\n",
              "DKft2OZQubD7StbitMhO8PWXCKWO0s6xObTaT3QqAAtfBKNZO1ZUlbuEbYOjX6x2msZbVUrCgULf\n",
              "iTNTHOjyYdaeu4PqON9MnOV9ha5rdPgJXJPSSKaQWdGe9Iq9/gVV0Uz6CCNtNLaCjS5nLQXXkmEA\n",
              "AABEAZ/4akN/AKsAUTRCsL6nWdYWZLHnXAEfHYVw0bbxFZGnkNsBWFgif34elGP6iNCJOXxkG6AW\n",
              "dFvR9Y6OXO+Kn3LxjoAAAAEVQZv6SeEPJlMCCP/+tSqN6+ftwnx6ApFlz/vhAh8vuVrzYQLRioCE\n",
              "/mPHYMRM7bw/feRg7pvi8mshyB0b1Qs9Od8te6vlQFdx4gl1IUFvjFps7VAXVCfmWWQKp8BWpFsA\n",
              "qtgnsngEHk7gzxmyeTvBWqPIkZHtBlFrJh6sKV+KZ6XtxnEu8B21OWWmPxkgUPaCJxpnSG1W8Qsv\n",
              "ROf2EmR2wKkwVy1c7dArwXa7SjHJLGSMSarNLP1Ys8c/69Ah8f6K9TyGZm1odkI12yFcjUVjLnCu\n",
              "P3wmuly3Sb6zHsVIQprCZLGTPc57y3RCNFZ32qfRn57yvWlHyaKpzvzodgA3zGAbyDCaCwasf0nQ\n",
              "GnVtdgdvpmrWWQAAAJVBmh5J4Q8mUwII//61KoFfjiABSrWXWJbXj/gIIhDkzM7g6ODvhgErcbsO\n",
              "YcbQSyko0iwgtz1BY5D7anZZ6h9tQD8kuZsEZuB6/iZauumWOJGiHnVz9aHXy0g9dfvieUw9fHGZ\n",
              "BY6Sffeu4mLWoJJuES5UDB0nXd1EOynZag2woA+5oX/IAMYuLx1clxcZqH2w8RsqQAAAAF5BnjxF\n",
              "ETw7/wDxkAt8LQBE32Ptri6RdW5T+yIIy69/AruwFFRlXM1vyBQtaJ4aMtiZDir9pw68mW9hKZ5G\n",
              "/cLtcsxYkqI8OXoOZtxdG6G76xM4UnBJ4ZKG5qUlhyejAAAANQGeW3RDfwDnCSvQSAL8fRkWJncR\n",
              "LRui1RDnnfgvUdGaNc67O1mdckFWpDa3YjYk34COldZhAAAAKAGeXWpDfwFNEOiT99AC2kDxGHov\n",
              "qSZVPNWhxNBaWp0hkvhxhhstR4IAAACRQZpCSahBaJlMCCH//qpVArm7cq7f4AbhF5Klbyq/ol71\n",
              "Buz0pa7FNRH6Rss/ESDCo+mf6Rxf06HAhGxZXS85TfZVLdastWsZG9dJ5LPFdBzZt5P/a3QeHxFA\n",
              "2uDKqjo4jn176IF9xy4EosWWPBr4s1ILf/3AjH4yLDYPDvj3fDZoTXicTmZDqFWmdCBbIVqRIwAA\n",
              "AJpBnmBFESw7/wH23WmR88AX4gG4TtLPzJclTBbJ+IFGpPErYMBMOdZN/dbJ9BheqQpp5Pz3AIM0\n",
              "C+A6pnIAXLuBJ0/zX4rGyPfX5OjnnJfNu+gykyjb591rpbWCq/C+9WW2quaeJf3IynWjRNhDsr3a\n",
              "kn+twxojq9VrHFMT4q2uZrWFLKWV0YKLnmJQbcIKKTIJxkWOCBT86BMfAAAAUQGen3RDfwKfNWkr\n",
              "XQqA16AFNqXUFzAVZ0gynoq0Oxi1Q9B4ZVVWe4hN/iDYdcEH/CwcIbAXlqrJmQYVFcU1Gsn08ArJ\n",
              "etq4ak3LacSbgNTCDQAAAE8BnoFqQ38Co/d5klwA29PKMiVMWk3ceYVl+L2Aj70WVLdNksyw0HZL\n",
              "x1EmUaK6Cp6kS5pjtbtuujMmzCTyWH5OP8P2wl64BtyuYaGxqU+bAAAAY0Gag0moQWyZTAgj//61\n",
              "KoEq6wTin4A28HLngAulJKtorkKB9yWJC/H6AwxhnPvUIZuLKYr+JGpGxtb15qfjO9m7YqfWN1bh\n",
              "pC+fhJrY3xhKM9xXvNhm0Swg3LyJ1s4rtxbNfAAAAE1BmqVJ4QpSZTBRUsEf/rUqgEx68slXfibT\n",
              "IMWAC6rz+Sn8dIrOJAfS1Gm05YxQi0SGU1OZU8hQCPVmlA8bz9QPqytZtECQ3N4BtKO9cQAAAE0B\n",
              "nsRqQ38A18BtIAt2fSoGvTeBGXYPWRQ3viCghgJhI4VC3xDzQIbpVtEZDCD4EaeDNOkGMT9JW+10\n",
              "vwPh+j+g/VDYdJP40L4pxuGS4QAAAINBmslJ4Q6JlMCCP/61KoAk/oMXGtxwyjcgAF1Xj1f7CmwG\n",
              "ZFmaiGgcqz1sdUzkW+BScbXndWMdlyw8Oo14+P+holCMPKYpxjZTMGQVLzsC+J2OH9uV+XMnLIJZ\n",
              "ZWofedxOcxqODeYA9onPgd42NZ1lMXV7/Qd+lJs1rKSf09aTa4H8vQAAAGhBnudFFTw7/wBx9CuW\n",
              "3R8bAdiTh9fccFamt1HOJV+e8+13VfASEc8zQKh6ZFmcIXS1TSie4EENEwX05vXD5wH1Q8YBzhSu\n",
              "md89/WAkcIRJ+L/G9tbAV6tM1Oa7rmQ+zVGY81kx0rVigQAAAEgBnwZ0Q38ApB80SAOZT28Jw27w\n",
              "ZdNKENnliZlnbQLIrLMZTyVq07rbxW5cntPekwfvQBqODepVsmqRE8DUSjkQZ5hDYs0czYAAAABk\n",
              "AZ8IakN/AGRLfq/xFoiUAcs+3OTDn5yQPBC/clp+g69kEoCXmy7J8yC939QIWCNk3ZdM7f+NlQ4U\n",
              "Nqh6Pgt85MIivBNoYVyATDoRApoVLHRwKNogbdu14m39GHbXVH5odH5LMAAAAIlBmw1JqEFomUwI\n",
              "I//+tSqADafHs2JzAAboNnBVjeLGCEHJvCaP+VVfdfgm/Cc6LnGjQxrZCuqsp9n6M6GMn0tDSD5M\n",
              "ofXpBW2hivUCmarYF7o7IUJKjOYOdbZPS1Gu+mh+M5NinM8zuEFmP1yH1es5UtUbZ2FSqAQ60SYt\n",
              "96O0/xQSY2OkTd0ggQAAAEJBnytFESw7/wBGKVJVTU9wtAEeIJWkX7jkO7Dq+2EyALHXduQLgfRq\n",
              "cd7CYOO/HD5O21t6K9I0wVIBVGFM7TcYXoQAAAApAZ9KdEN/AGQ6yinrFCxYs1x3aV2EAKtgELQT\n",
              "oG12OJxbdGBkoZc1tDQAAAAzAZ9MakN/AGRLuEtiz2vgCJtJcOvxNPPzn3bJTDFIRS784mgRfhvx\n",
              "gQeNefM/3ymN656NAAAAlEGbUUmoQWyZTAgj//61KoAWx/MdACaXChBpPiijxOPq9ALX47Ku7+7M\n",
              "6YB9HIk8eSWKGV6NlOQ4Pqq1G1e8mDqZJxl8JQ9OaxROIWzFK8987q3Z0/iFKCO5DFzWnTlC4tO1\n",
              "+nwT0AAM1i1PPfVMeUKMxacX20Gat/ZceG+1CJo2UNT1LrPWIne9DP2/08ymfFgQN8EAAABuQZ9v\n",
              "RRUsO/8AVxWD0cMhcnoHmEnoxW7qhcE0riyDXH/hkTazbQAHB5lMgeF+k5/hN3RvPbz1+alL+2sV\n",
              "UV+yEMy/kRsX/ESbOwmSeLE2x9NtQVmZScY9QU2hnpiCuTxb48tLxmAfwMq57I8evSsAAABTAZ+O\n",
              "dEN/AGQ6yi3yPCR2z0t6bcALTfLoffnVuh+kWbuBpwoC2izifyLu6FT379QPLTDNrfeISM5sFvFa\n",
              "w/4xNAdWxeVNT9Un2K1+9p8Tempr9s8AAABcAZ+QakN/AHlKLA9KvTaAL8ep7TlkdHEyc3KqS/r+\n",
              "a3SkLY+0w95s1g+HvKm32mwo2Y/5HM7BMb0nJDIXMxVMV66hZinJ5t/jGKiB++kUHSr82aTIds43\n",
              "Kg9LPZgAAAC2QZuVSahBbJlMCCP//rUqgCSKHUAC2TGLioTH4fi9c6Ijyq8tGQ7v8OJI8vRzJc1A\n",
              "nDIMrhgug4LQFFQnfDe7MB6G0zqUu6ym/hi1aW/N26tpCd97A3Jwlm+R3JG1gBd4ZHNntBoQ+Jdh\n",
              "msIvpBbW2GYi8zHZDaEYSI6APQn73UgYXrh7CtR4Y5DcnNoskcC33XsOVAObXZt/qRQRkBZxi0Go\n",
              "Is+dzK49Cny4DhSc44/IkgSYmYkAAABCQZ+zRRUsO/8Acf/G0v0AGycVCs7DSANzDqTzkwyBv2El\n",
              "TkKvcpUqQrXpuDL7FP1IpEFqP/iPu7aYgG7DhvceLfzAAAAASgGf0nRDfwCkRLq5V94QmuJIjxQU\n",
              "AazzahkyyXhVni+qUG3huNQr0QEXr87LRBIyUs8JBt+7ap1d4GfVWUT4i14STuZz2jJrWsyAAAAA\n",
              "NwGf1GpDfwCkIrDf4+QYtRIHaA9494cx7CF/nfqG1CeifDhWz7bb3Dtt6C4uxF1zLRB6OZUm/l0A\n",
              "AACMQZvZSahBbJlMCCP//rUqgCR9RxYAXSksTltH9UiRDctPSPk4NZ/xNAtZ9C0hAVCzrnV4dQyR\n",
              "mDC8WBqVFChlqqr9FAsUNo1PE5gwHzFZ8QrTYzRrjXnRl+7F7uuuMVAU/sR48EqDJNChU+rsR6LK\n",
              "qD42kXbYmVtLzsLSVbG0S9WOrN2iw94/pKqN0EgAAABcQZ/3RRUsO/8AcO2/havngC/3LFKVWFqc\n",
              "kVb8Thw/xv1c7pQQamDEsHWsIG6AyY21LLdyfc0ZXLH3Czk/NPdPifCtgLWLjRVBblsHiQhQJoL3\n",
              "NluWdiBAkcnAs4EAAAA7AZ4WdEN/AKQa5hlyBJ80+G44zQBQh34oiEIXaJTiB/9rfYN1tEMzERH5\n",
              "tLQ80pZR8fD03dElwzfNrC8AAAA5AZ4YakN/AKQisgXyQBdb/aGFVe1N7Rry5cMAJxMZkqHKYOyV\n",
              "uR797uqayzRVU9QEjnNHD7f1mup0AAAAckGaHUmoQWyZTAgj//61Kof9u6AC6r0yZ3UuXYXwJM52\n",
              "XRMhbYDtDmmEEyIz4+yfT1GryV2oxbbeV4eUfCiVYMRnWmTdbSrKo5z1CNNdZeJ+9kVPn45GBTf/\n",
              "iyYh2Y7Dtue9mnpd7/57VVYBDm/GPBbjGQAAAC9BnjtFFSw7/wHH/FBFwAW6hEldZZci+RMThd0k\n",
              "DB/t3tbmSmVBMOlkDMRVq9Z3TgAAACkBnlp0Q38BRg1nAbgDcchhc1BcuqaE9novRngd3Stom5aG\n",
              "ODKXxctIYQAAACMBnlxqQ38CbcZL3gwAHG8+T+P+21m7WQoEG5OsXslrXzYmgQAAAPRBmkFJqEFs\n",
              "mUwII//+tSvFXrEAR8jWePrB4Gx96VjC4WvcHff4mowbfjpTXfllvCzFMrE1FURINZ644cLjpQ38\n",
              "5Z8WilN+rH12z3KlBaWElrbRULgwK3Nv0n0+s3IVZ637BkO3yukpNVuBn1sP/BSoj78bzBuZaiAU\n",
              "wleBAtY8m35aefT0rhTMTR9FLRA/Tege4s9lyXgrxuN6iH/TBuJmD+3lRzMAGHQ3UG1gjNL46LYA\n",
              "8TjLGWMnxAtNTlxbXjDeJIuOxTuRX8Ap9uv0iHCRnpn8tj5oz5uuSWitsfOIJA8dq0cn99kb4h3+\n",
              "EBmO/rVjZT6IAAAALEGef0UVLDv/BZT//lzMNEvZESF0BMcA4jodLAFWsAQImB9l0wgWjbDZ+e4Q\n",
              "AAAAMAGennRDfwJrbMX0ZIoX+eDtx+sAFCmyRtZf++BgH5/Co1WsPbGGaBxI5ieReGkceQAAABEB\n",
              "noBqQ38HQeAOXBaxBmSeMgAAABlBmoVJqEFsmUwII//+tSqBX44gANQ4OzDxAAAAC0Geo0UVLDv/\n",
              "AA1YAAAACQGewnRDfwAS8QAAAAkBnsRqQ38AEvEAAAASQZrJSahBbJlMCCP//rUqgANrAAAAC0Ge\n",
              "50UVLDv/AA1ZAAAACQGfBnRDfwAS8AAAAAkBnwhqQ38AEvAAAAASQZsNSahBbJlMCCP//rUqgANr\n",
              "AAAAC0GfK0UVLDv/AA1YAAAACQGfSnRDfwAS8AAAAAkBn0xqQ38AEvEAAAASQZtRSahBbJlMCCP/\n",
              "/rUqgANrAAAAC0Gfb0UVLDv/AA1ZAAAACQGfjnRDfwAS8AAAAAkBn5BqQ38AEvAAAAAeQZuVSahB\n",
              "bJlMCCP//rUqgQvm6OCm/0+QmHBuwE05AAAAC0Gfs0UVLDv/AA1YAAAACQGf0nRDfwAS8AAAAAkB\n",
              "n9RqQ38AEvEAAAASQZvZSahBbJlMCCP//rUqgANqAAAAC0Gf90UVLDv/AA1ZAAAACQGeFnRDfwAS\n",
              "8QAAAAkBnhhqQ38AEvAAAAASQZodSahBbJlMCCP//rUqgANrAAAAC0GeO0UVLDv/AA1YAAAACQGe\n",
              "WnRDfwAS8QAAAAkBnlxqQ38AEvEAAADnQZpBSahBbJlMCCP//rUqixRKpChKRo1kGGgAide/gB49\n",
              "ifT4jkiyZuVZQY4p8th2zaWVxqemhBGgvHtRqf+YFjRyKulpScY9WJYOZKU/y4d2JieNJvDlhqxh\n",
              "Jy/fmirogHCJt95CkG3waR0oZ/M4QKfAZYjnoPx77I2y6kuB6gQWJHVq3De2qNKOHJ5IzQJwNyS8\n",
              "Z70cgpRjJDXGgZnvRRjjJou52BuiSjTOposwhSnn027SYhqd67x+hPKrUdDAEBsnRByCginYMSkN\n",
              "Io3R/WFWy/3ETefNeb0jK5pAnjQToGAmB99gAAAAGUGef0UVLDv/AfZANzlwS68ga6DYBUIEAhAA\n",
              "AAAJAZ6edEN/ABLxAAAAaAGegGpDfwKj+VXCggAcJEqhUEtcR62VUY1zeT6owCqpSvzYf3oS2d/s\n",
              "+Hz5q+K6590MZ5Uw6h/ko1rnw32nnPtoUMvfDufSpa7E5D5Qvj3Kv8P9h7MR6hl2IEJ3+ciecIoo\n",
              "Tcj8014rAAABAEGahUmoQWyZTAgj//61Ko3rJRgCIDuGIlWVafefLWV0k0NPOHY9cAHsiCnt2Gqp\n",
              "WiHNRuEI0XdqDATTUsC4iK3T5/T7iNGnFUFYs+rU9jpXj4jTWfNh+eOcbQYxjBiGU85YM6iMfWBP\n",
              "2G7n5zDP8h8gFjkoQc43X83HkHM0JNrZch/xuT5H5l86iozYJ2nzhVHH4fYxxI0cTOv6X5oE9KgE\n",
              "BwMH6nZOrS/+AiUeNltGcIVcN4wCHWPn+Q1k0Iyx5rv+ugkMtcBRrlPuYVW6g0dYZrGKTL7VLmmb\n",
              "AFcYGvZF2GE6LgS6CKjiBM5kWoHfiL1JKOFtxRz0/hEACrnzRz0AAABIQZ6jRRUsO/8CJ5Jt8nxg\n",
              "BLGR+QldO1Cfclglgh6VnqAqUH/J4jsOaN1dv2QGHOYktNhn6BmWNBjHyDkKMrHBgVQk+rpBSv2k\n",
              "AAAAXAGewnRDfwLd61QAsPkSJAQgNrAuI/u+0jahpTjYJJWUOFSLl56SD5ynyMC4oyT1qNvKwpQf\n",
              "4f8FJ/mF3ecj4htETXYXNXxqDc/zuqa08U9SXziHPDtKzTejXr9xAAAANgGexGpDfwFqBbkALdP/\n",
              "6A4rfPjxMfM//pBZqK5+w4LbYgZsIkFnLHXrd8StqubIaw6ZiwnwkQAAAGlBmslJqEFsmUwII//+\n",
              "tSqAWrYqeN/ZuaNrJhwBuU9s2KF/2h5BOQY8RKpeEHD3VYmp2w/qu0VYamFzt+A2mrw1NZc4dBeJ\n",
              "UQGpwd043R5mmS1WR2zKLJzPVISfHx3z6Dt4briQjUpHMNsAAAA3QZ7nRRUsO/8AoaqN3lsAR4Z0\n",
              "c8uvGQr3pZ9fLAjTrvZMMg8GtgRkSEt8ZNxi2AUsgHB3bStj2QAAACoBnwZ0Q38A5r5okAcb2uGK\n",
              "Pm/6wuMapBNn7wboSHs8kQkHEaoQMhdRNEAAAAAzAZ8IakN/AK0qCJAHLQGo5/YfGKvN56Hv/MzV\n",
              "5W63/LmofBPXWJ0IBltCbM6W4pVeu/LAAAAAYUGbDUmoQWyZTAgh//6qVQAlCzOCGw0wBuMnD9/A\n",
              "PJWDQuKZMS6uEWpcnvQNMbDn1QRkh3iG3ojqcGGqXycMf9xCTgDCYT9lTEpbHSiDqNZO1Sf5NQer\n",
              "lbzghsYc01T9ct8AAAA8QZ8rRRUsO/8ASBymqbLuSVMALD8Oyu1t8r5d12JNee6kzGMaHwarKMhB\n",
              "Y6XsY8pDuF1Boxi2Y8LdHU3gAAAAKgGfSnRDfwBpfuQEEncEqAryZBKt4myzAqQPu58495rSo5s3\n",
              "3r4GIi9GtgAAACABn0xqQ38AUaFLYMgC9DWg9lEZERLdXOduYckKyDwmgQAAAJNBm1FJqEFsmUwI\n",
              "If/+qlUAJgiBqAY3z1z1C3SzueeTw4BXoOXrO2vvtxRUUX/Mg8oO1ZUn5Qsmbid1/AM6GgtwGypa\n",
              "5y0rPM/cDhww+8Kdkd7ljyC1GLc3y4/A6/C/n45DAjlaL8ghtiRouPZQemQVRdNu15pvsR1Ru7Sw\n",
              "FXGnRkQsXOpnMXf1bkCXvI9lwVzPlTMAAABTQZ9vRRUsO/8ASiQBe6HVcQBWqSygoU7AQUl5ApCY\n",
              "yd8/SeaQNGzlEg/I990IXfSk1Fqr3mJeetmwCQ7oNlJDFWrQLk7WvqZvLmzhCEqIzL45A6MAAABC\n",
              "AZ+OdEN/AFG/mtawyQBfExSQ9E9S9FZpvceTG0+OSOLoDQWvmj2oaHuT7YS0h4nwlwGfMTDLlDqn\n",
              "u1ejQxld7DiAAAAAPQGfkGpDfwBpS65HcdiUvfUdH9ZSAGeBm3SuQkPxnnBgLyBvP5HVXsMeZfKI\n",
              "C5uSW5nHG25ID1ZzOs6y2CAAAABCQZuSSahBbJlMCCH//qpVACYLM2fdoCDQAQJsF2hf8gPbJIQa\n",
              "XPMuhzDKLSPqatdBqNsUBQOtfrYxe0bhDMZC3tRpAAAAikGbtUnhClJlMCH//qmWATPY4cAOOSpj\n",
              "0p4vGBSslBV3Zv4fb/qqQJUUd+k73ooHHl2G9FJdT8D/XdnuFz3236IkUz/Dom/k1ycvLln/9/Xn\n",
              "3eJgkIZX4GrapHF1fGDE1LU+9lu6SiYVlflLXwjfi36EnRM+pP7Y5BK05+19rcYpcszjQN6ed1/Y\n",
              "IAAAADtBn9NFNEw3/wCtPRHF3PcUDJ2tIreJSD2CAJYly9d0vm4dhp8+bIx08FMHGVjb6hMeHu/L\n",
              "ObzaSiuRYAAAAEsBn/RqQ38ArR49sOSuAOR2jAMW3jrF0lXUXc6m/xQMkPdecgwJ9gRHIFkNZNeJ\n",
              "OExDUK5JP+WDHM6XE7FW+6RD1r0RwpQCcoDm4LEAAABXQZv2SahBaJlMCCH//qpVAFHQva/EAAco\n",
              "Vtqn2F+PqKkKvHGgXT9xC1bHO2tb5cHHtF/Tjhdr5gaSsYjK1u9etRaOvOuVokCwwW3QPNHmiN6t\n",
              "HXqa9rt0AAAAa0GaF0nhClJlMCCH//6qVQBSF3XnzBcQAATtUdcs+6kgGBbNsFKVSha5Z0WRjrgU\n",
              "RBqfbt/XRghGeXCbo1aUfkhYqNQtPA7NYtNQ+T8H+SNUZUUk+yPmQvjOMaHyfXhJ51LBote/0h8l\n",
              "R2lpAAAA6UGaOUnhDomUwU0TBD/+qlUbvD3+VA6BOayikORlqxZtvssSkiiNtlNpduZnAba5AcvY\n",
              "edVw+M9MHE8Gcvsy2wWJlCQ1N/s1TspUA4eYGv3+Ycs+uGMz/QIjeGUyMLRQSZQjG+/6g8o3flIa\n",
              "I3FJv+cNyQU3awUauXieKjHFnapTwtLqP9ukNWPdChbt+TB4/g8JSMJbESeTIZ2zJMCz1PNFKq9D\n",
              "+7KqS9Idh/ihPERFnSM1Yr/DuuI9FXTYDB9QHWpBv0ONgMJj2ZQSmJKHPI/0otVnxbXPssDIRDfl\n",
              "TjwNSG2CYoEbwBAZAAAARwGeWGpDfwLfz5IqEBo6glYoigDBzvOTACMz2tSoEgsIma2MKTKHCGSM\n",
              "qAxsdW6mmbK2Z3Xzm/BDsE4nJvV8P+xl/tH86NJwAAAAYkGaWknhDyZTAgj//rUqgCk5xE0AR/AA\n",
              "oEyJWirl4kRco5WbAKLHaQq3UAaX7R+605J02+an85ERIv+MkyO7s84dh2BeBD6/o5wdr5oIH3/j\n",
              "HclUsQlxvId8MEO828TElCMhAAAAqUGafknhDyZTAgj//rUqivgRtuZeaMiAFrmm16gQ3k1jPLbe\n",
              "tk92dXfxZUc9RZK/XXNgm4mkRm28C/j8c7xRe33VeAA4R3o5qW3TAREXJQRQYKss49N267MCLEk/\n",
              "/U33sADv4MXPuu58oJFFh0Rermqn4UYmBdbZuB4Zn3Bifnxk2I6xVk4NLX6PFNvHUlkyCE8bIMV7\n",
              "jnaq11KVOo1M420qpJ7qADNHFpwAAABQQZ6cRRE8O/8B9kAPlQ4ALdQasoaOoSk+E510fla8NyOG\n",
              "UibqePh/wBh4NhMB6uwir+Y+g3tpM9F2P70YZuB4hf6O2/pQEHh9PlTc8qHI1OMAAAA3AZ67dEN/\n",
              "AVeFZDQSALdpqNQxJSX4T5sRpRWMdmGQ6PhLsJD1M4VMfXEgvxHGbXv2sHwLO00jgQAAACYBnr1q\n",
              "Q38CpVCkiv+ABxvQPdLw5Yn7rJcFKld2TFgqVDhQnJC69AAAAKdBmqJJqEFomUwIIf/+qlUU5xmo\n",
              "S4JzGaQAJEb31MPYHxz9Vn9j1jv7SD9xSKMGpx2EP6waCnIEw4d4Vd/xCpnb35TVrFy0tVsqxl/z\n",
              "YalJr5uXcRHZvULYJ8FfelVigD+PqiOhdygnpzVDlyoeb6Vw9k3nCllEutqX72ntzF/VWUCwaf4h\n",
              "WtzfB6VWEud5PhiGGNuT53d4J3sWjl3tBk6LyUltvxZGLwAAAIFBnsBFESw7/wH7HPAF+QiK+g0F\n",
              "X0S1ITnDlut+DDYUXfmtFJRv0p5rIMzm7s3DmimB/86j6lDUJ1n2pPJJUx+D2pQh75c/JNyB9EQ6\n",
              "L/EcBYmuBM7KdJa0NZU7M1DP7jJ9ir0QChEfoG9qZz4KEYW8BTNDm5J0drdrFxhZS8RUjaEAAABd\n",
              "AZ7/dEN/AqXK325hJs60AKc5qvSYdCPJ3J7zYgrq3ipXsO1POPtIPisgG+A267Tna+skU9GJbsBY\n",
              "REi6VpWrVHchSzKvqj7LfClt+iPZ5GKCtucrCyOBI/XYpYigAAAATQGe4WpDfwKj+ChtJqyABwNN\n",
              "jS0/JjT8BMp7+Ecw+xt0N9csVYlnFJ3lLDy2Up07k8DSNsHWsgYluw7IFGqpMKcyQ4r9SLh+0ULr\n",
              "efJ1AAAAeEGa40moQWyZTAgj//61KoFeB50tnQGASC0oWN95o541o2aCdD8uSt9rbH9IERv3LE4l\n",
              "1/tlf/nYO4Y/xu7iaUF1KShDy2P/7NhpjeH49lDn+9NeuoUwD9Y+uyuvc6i713k96LOpl+U1sbyo\n",
              "t0sjl4Us+PaA6zJSVgAAAHRBmwdJ4QpSZTAgj//+tSqATHryyVd+JzEZF1EGACYjSeT6l/jG7rJH\n",
              "f/z6XAk4Z/cMjfWtsz3oE99BjdHT5PCvuyJm1L0G2OH1VOTzfpUV6wShf0XhKgDzBhg2gpbiUnj0\n",
              "mxeM3F33gc4Z5YNUgd9dpVC++wAAAEdBnyVFNEw7/wCWbW8+WwBHyGJXH+Kt/MMxy4e0BuqIV6gI\n",
              "1Uqb6NI2YA9AVvE+ebukqfELEupeySPrT5D+RBGQAYa58yFEgQAAADoBn0R0Q38A169WkAX5AZaQ\n",
              "DIcelSGRqX+YE9rQRDOtxazMFhfkTOKydk/p8XK+fafzLiofRFo0YkJxAAAAPQGfRmpDfwCiWXNv\n",
              "akAH5rO8JqnaYEYORN0NXv5p1p/oz+vOgGhHSpUDm125BZ02/KrNw0Xk6Oig4zaQgtkAAABpQZtJ\n",
              "SahBaJlMFPBH//61KoARn7zaKwfxzCTgAjK9M85zAhtc70lQR6RgOduNFjiqF4lBzMx8h0Tp6o2j\n",
              "BhIXoSLii1OeXY0aV3nA7xsOLP0h1BBelsKsIfJLL2t/nAryYlSLf6aaYbMgAAAARAGfaGpDfwBh\n",
              "wLcgDccu7KBjGdLoijC4UFwHnTO/ajrmWrctfdE6Opd4J+OvqdoKsCbLCvNB2pmAZruXDMZlNSPZ\n",
              "j8mAAAAAikGbbUnhClJlMCCP//61KoANp8ezYnMABuyNYuLATB3K9RaZDXRVT4XoiPvIEiQQl9CS\n",
              "Tl8HVcgSFnIbtnkxJO9MNz8DM/1ZypPeOIKV7GVVpu3DmDn9SX4XntUKmrdHPd93u4VoUtkRKDon\n",
              "jgS24Fk8HEfw8BdD6UvRV973cJ9oV8lLHnRYt0NuwQAAADpBn4tFNEw7/wA1G05Ki0AR4g0rik0L\n",
              "TQ66nJs4aOiteVe8a41s3+pMv2DCFP9O5WYEx5fUToa2+HChAAAAMAGfqnRDfwBLbLOyQBzKZk0z\n",
              "MIzZe/REtPC1FleT4aL8EwCQAEixH9VJLfNWLdp6cAAAACsBn6xqQ38ASXJaiQBTZ7+HX4mnn5z7\n",
              "32qVUU+1c4BJtWd0ODGgwbksTI1hAAAAhUGbsUmoQWiZTAgj//61KoAWx/JhAKAj53iIQ+/93bVh\n",
              "WzHUqvV8Mqru/7TNFtaH8S1UejY8HhFgeCNbxq+CXKTzDH+00gLlpG+HLv1ZaQSo99GMKIYB98sh\n",
              "vldQGwCU5qZI4Jo/WmddorMYwv0r65vW5rxykvGoBeB8xE3s6exJ9oYQ6MEAAABgQZ/PRREsO/8A\n",
              "VxWC7QwW/gpfQA4P7J4Xd9G9loCf+AHjyJtDYHdYgaRVXCyL3Zstb9L1gH5q79tzGeQeEgIwfptJ\n",
              "mhtxmpb6YJXnDNPNUsDCj/GqmtgviANYtUXAK0BjAAAARwGf7nRDfwBJVBbRI7VD+f8vAIAN4uuY\n",
              "8Y7FcR0bTgImb05pcXRo6+v4mVgyLa2xsdMiYQERDwquwSWrZRbQjnKG945wPvsGAAAAZwGf8GpD\n",
              "fwB5SiVttIAvx/xWTzvRWHliHFU4nXKRGg+IWCCFqx55ANg7MG/KAGX+tDoXdXzlZcuX7LZCpnmJ\n",
              "x4FVs3356T2KO21jVL6yH6G2/mNEdYi/pS1/bzui7+0BZYmOCw0/wcgAAAC7QZv0SahBbJlMCCP/\n",
              "/rUqgCT4j/g2X4AA4Syp+OpcK7N+JhHnNrbEEs0/+2sFv2A5dc4hHFGTZSl9UuNfqEPLqjw3Yu/L\n",
              "TKSgYISuijC8s5HD/oXCiJQdkjNpX3RUo/hHp/Ed8OisEYfklAxwTgsOMh7/qiehMYSVepYBvZ/I\n",
              "Of44p35w3LpGzetx9jNrcCaZGhFNbJ5Y0yEZkbnI0cAGfQwf7gUAinnH96pRbpizfw5XtY+UA0o8\n",
              "foy9wQAAADNBnhJFFSw3/wCiWW7mgM3Kfg9S0rE4LOd3IznelXDAEI/rAPu8OSn8CQrV/cT5qtIa\n",
              "zNgAAABHAZ4zakN/AKQ8+ST87XAAmgu+VpFAr0saLzWG2Ny86QPM8JJF8TB+jaPGdqMdErP8t+mr\n",
              "iQmYLAY6szqWxhAtgs3G+419KlAAAABlQZo2SahBbJlMFEwR//61KoAk+I/4J7oACLTGLi2hsgYH\n",
              "paRLkmsrcxQpUNkRrj+eGOhIATolbNv1aOOPXtvusTsDHz/yi8UhBCgbMzJm9dl2VWFeQQpCBAYQ\n",
              "9vjy3qP5spcOkeUAAABCAZ5VakN/AKQiYBKX4XVSTDcAisNmNy9PYWdYPENYOrvliRBPuX/i3Z1B\n",
              "WOs8SneGCPhat+P+HJXhl/oPRlD8S8qAAAAAiEGaWknhClJlMCCP//61KoBMak/iWNQgAFrsyZ56\n",
              "JD0NKPFf1DbmyD38uIaxjjaMwXdC0AK7a3tIcbnJM3PBp/m5UycPAcewVS9m5l9NeqtP15Bbith8\n",
              "zwWFKIfjm4MWsN/KI5qf5XouWmd6qk1/ZzC6oNsCPfIfopV28Q9OCLGp8xUMinwxGcEAAABOQZ54\n",
              "RTRMO/8Am204FXp38AKujxP0MEuQ/2ME0WTZ3CEpTnV1KNS+aK2PdvtlGBYVYU1IdsbCsnH4Oxdx\n",
              "38Q38+Ru6TY63Li/VOzacGPhAAAANQGel3RDfwCkQEzmUEKqTDDgCrgJs/o33u1n8/85GY8AnB34\n",
              "F1JbDceuizNe+NPHoSH0yk6AAAAAVgGemWpDfwDX31sr79M37IAF+QGcpzWk8yaIHmWJgVGzQSEa\n",
              "sMtPexvzNjpECKrD76VOjW10rudbJP9igWd3yOTfWYqnzoDm2vmOLSmOlAqfzKvT6fXBAAAAb0Ga\n",
              "nkmoQWiZTAgj//61LJTV6AP7FFHeYwZb9KrKGqBFIZnf/CuXUWzaNlTd4b3jJjYmVEXwOWEioioQ\n",
              "KFKT8k0Pm0Giu51OQDIqAw1JhZ/ndm47K1JiiaHTfCexNVX8gtoJBTxLQWPYDFy0f7vZwAAAADJB\n",
              "nrxFESw7/wHH/FGUUAF0oP1PPrp/pKLnhgyBHDRwllpLu5JXf8tn3VddP7Ys7lplyQAAACYBntt0\n",
              "Q38BRhC3ADc61yG+3kiv5++v6g359zJryoa9UaQja3p6fwAAAC4Bnt1qQ38CbQV+AI+O1I6VXqFg\n",
              "u6Abig2kuDsZ39b1A1fPILAuH35658urMb0oAAAA50GawkmoQWyZTAgj//61K8VBLwAK3UuZ6ere\n",
              "0vBg8X1HlVsgnymf6UCVNPCRPJmVkQTNqKKNgw6/Q6cm9xBGTEGdnFDUisejUQ1bjR0t08xaP4cP\n",
              "WY/NSao5pY3fo/xTUKy1UyCArL2ZhX/wTgklT6YqXFWWO3uREgJuisVQsSsFh2pidwuIAdjjSa/I\n",
              "5k7b6FVi8PgrOhbY4LK6d+9bvc5LBhbHAKhSSqUUHl63Qk+7irvvqTE6Kn/9mRGx4KC7M0Ir59U4\n",
              "ZjYK+wgaEShFlwdUymy983Ut0hCr4ov2TJcrHf9glT2t4AAAACNBnuBFFSw7/wWVAAHVDgCa5R0j\n",
              "AeYkL4y4liDHn8/yfgjfYQAAADMBnx90Q38CZ4EUvf4AHG9DIoco6vd+7nI96QDvTqBJwpfwvcr8\n",
              "T7XEzRlGdnQhepX2d8AAAAARAZ8BakN/B0HgDlwWsQwRGYEAAAAZQZsGSahBbJlMCCP//rUqgBIG\n",
              "3EADqWdKzAAAAAtBnyRFFSw7/wANWQAAAAkBn0N0Q38AEvEAAAAJAZ9FakN/ABLxAAAAEkGbSkmo\n",
              "QWyZTAgj//61KoADawAAAAtBn2hFFSw7/wANWAAAAAkBn4d0Q38AEvAAAAAJAZ+JakN/ABLxAAAA\n",
              "EkGbjkmoQWyZTAgj//61KoADagAAAAtBn6xFFSw7/wANWAAAAAkBn8t0Q38AEvEAAAAJAZ/NakN/\n",
              "ABLxAAAAHEGb0kmoQWyZTAgj//61KoEB31wHJiTfQmKBf4EAAAALQZ/wRRUsO/8ADVgAAAAJAZ4P\n",
              "dEN/ABLwAAAACQGeEWpDfwAS8QAAABJBmhZJqEFsmUwII//+tSqAA2oAAAALQZ40RRUsO/8ADVgA\n",
              "AAAJAZ5TdEN/ABLxAAAACQGeVWpDfwAS8AAAABJBmlpJqEFsmUwII//+tSqAA2sAAAALQZ54RRUs\n",
              "O/8ADVkAAAAJAZ6XdEN/ABLwAAAACQGemWpDfwAS8QAAABJBmp5JqEFsmUwII//+tSqAA2oAAAAL\n",
              "QZ68RRUsO/8ADVkAAAAJAZ7bdEN/ABLxAAAACQGe3WpDfwAS8AAAANxBmsFJqEFsmUwII//+tSqL\n",
              "FEm3QhxGEgA45FLPuss2lshxnzW757aa9UXR7wUIb3nLqLZZ8oxOuURHvoTobDS5DEpJRIwjDMsk\n",
              "W9tulSPKCvV65qPDgPOWHlJ2nyFU/v0De5dtkL8M/IPYy7kTZBMoVamNCVxa1YoQyHt1AS2WLfMw\n",
              "6nv4mmV7xYG5k1mimoWi6f2yCfnLdp2NEaXGLqRa3GZJe5n9m8hZUrbCW7UKYn5EabeCb9RG7qdJ\n",
              "niZ8cO8kj+DALoU2WQEzx6pfh37RQNzj/GBF9TUlFGtgAAAAGUGe/0UVLDf/AqVQ6d9j3AqdM0zo\n",
              "caMxmB0AAABUAZ8AakN/AqP5XWBAAuUAhfwg86j5R34MVknFkO4OWnA9nvGormkJP9SsqJqDShcy\n",
              "x4n5s5DVBSu1MwN/GduCjxrqygNTX6zYt1xQkTecTtCZt34GAAABF0GbBUmoQWyZTAgj//61Ko58\n",
              "eBfAYw/OnKDotrK/57utDT6vsXEnhA6R8uBt5S+k572Z4gF2PKBqlsFbJ8w+K7Pcwjb5lK55f1of\n",
              "ppOl3qO9XpCdCNnDvetYTJ705oUdzQeocOSmRTogvvAcar8KdPIuFwPmSETS6ODsAL4DvpzPPhOy\n",
              "SHyEAi0Aany9nOa3xoZDeyflU6CULXHPNPyH7AYT/ZowpcQMmumCkAAOu/ixjoAigV1yiMv2B/t+\n",
              "/LMN0WFFBolCXFUUkUGKU5PiRN/YvXn1+TKHkHNGMUTASA5xJZg1VDZ5aijDoZ0gj9CZF9sy6zq7\n",
              "TA65bSpqYqLIYwvVUWBOQRxs6HQX3FYa7goJ3pQIzxjS/QAAAEhBnyNFFSw7/wInkm3yfGAEsoCK\n",
              "AU/b/RWXifYM0vhKeoCpQgp/OoEh+NLRjD1G/3mcbJg2Qu9ybwIPBmFDd8l1GGxCEcRzzjQAAABb\n",
              "AZ9CdEN/At3rVACw+RIkBCA2sC4j+tnD0hpTjYJJWaGXqkU1Uix75MVgVOW8lvy/JibrNzqr8CYk\n",
              "POBB+2j+yjFQrEq2igjDcv8WT+iRHkNeS8ifvtxW+sZJgQAAAD4Bn0RqQ38BagW5AC3UBk18bjlY\n",
              "zJDAL2coCOLY7tO4Bx7gO3BxOhLj8zGH+IplrOeFhxhNK5h0o8eHKy6sUQAAADBBm0lJqEFsmUwI\n",
              "If/+qlUAtQKmZM60BM8s8VAdd8TXtGQ1T9oYCagVc65S7QxlQO0AAAA8QZ9nRRUsO/8AoaqKc6vA\n",
              "CupXviTjYn5wxqkGWkuQ3Qzqv/vrqMpzNeTHF4ly10cKAbFH04voxmrp7ZgtAAAAKgGfhnRDfwDm\n",
              "vmiQBxwWSNKAZtitp65RZA/eC+s/c9NEY6NmcQ8boGadaAAAADUBn4hqQ38Aq39/gS27iANxwmTr\n",
              "dlRATpdrGXB/v/n7S1cVjj+MBsZDV9Gv6ByMiLPvqBbuoAAAAGBBm4tJqEFsmUwUTBD//qpVACUL\n",
              "M4IbDTAHHKULy4aYSfV2oZZLoLfv1u0C//7Cnc6RY3BtSMFpTSclNDmW75FUYBaQKUibmxrvY3Vc\n",
              "L3y6FoXiAtegaL3t9n5D0o2wi1EAAAArAZ+qakN/AGc+tcActAZmTtiOesQjFTjOHvc6X0b8sYgN\n",
              "hEfJQCFipoZGZAAAAGNBm65J4QpSZTAgh//+qlUAHSxCIVByANG04QLsfG606/tjoCPmE1vLz8Wa\n",
              "xaFIwfD3npIY0WL8qQUXnP/4qPU/YUb2VB+lpqhLnWQupToSYxn7pcfaMIATxE7s5Ee2WcOCcOgA\n",
              "AAAnQZ/MRTRMN/8AUd0q9+3AHFbrbW8tOOwY6Q92ADIC4WKCjtdGH2xBAAAAJgGf7WpDfwBRqGI3\n",
              "DROUl+OU3u7nwGAG+oSfbmUAVpCfxYLrEbTjAAAAkkGb8UmoQWiZTAgh//6qVRTU8Hg4Oy7sogf3\n",
              "gAchHJsu0rZZttBTX9de8zpwpbmng6AF6A87UrhDLb6FiwxG2oKF0aO0ob46wACQXxii2PtzkR3z\n",
              "cUt5CufWkhTXUgHFjL2r82FCw03tAAFfs25nPmVeGJuFPxe87Ne9lSuBhnotJQSZ0j6X2cl30xHa\n",
              "w3FOygxzAAAANUGeD0URLDf/AGlLs0mrrPCAEszaaxBunr0sCMALDG1o9rm+XY3GqDR0LSAc3xzT\n",
              "/I1Bg7+4AAAAPAGeMGpDfwBpS65AchJV9wBPEQG+lfSZfzdHoTHIdouoBVAXbbrdH5cKkaKEZyhF\n",
              "MKTSIu+1/i7zRLx0wQAAAHFBmjNJqEFsmUwUTD///qmWAJQs3V8TYYu4MbAMAndgcrVjhzxg64qX\n",
              "+aEDEmqIL2DGueXzqvNkUKy+VfB3odPyXD092fon2wqM+mDYzY+gEICCY+dXSe1hrnK0tNGqzpNB\n",
              "oc7J4Uwh3BubdI4X2Nd+gQAAAEABnlJqQ38AaUn1rZhG/wB1gNqt0jJ49ias8q3RYQCjeYVRaM3+\n",
              "xxL5gbDAigs5FYEeulsSWGpnijBKwHZR/MOIAAAAU0GaVEnhClJlMCCH//6qVQAyg0GkAAzh/W1d\n",
              "qAr8/cvcFA5hvFW7E9MMsejob/AqogyG7jgfdKSrcq4n7aYxoJ47jndJkdwqjjO2mLw1vZ9NjxmC\n",
              "AAAARkGadUnhDomUwIIf/qpVAFHc8AABwldTw7lb3GFxBqnONEnrs/p3pEYNNNVdIcuPnV+wrNMG\n",
              "Pcff3qsxa6P4gHk+JX/sgMEAAACSQZqYSeEPJlMCCH/+qlUAUy0rs83D3UAROuNmdZK6/3Vfm8Ms\n",
              "pcNwcK7WKSYKtR2nplSQ1LXmBPQ9DHH4OSCteKHl1OkCxwOBJ7mipkT/KKJO9tx6bmSrfVMPFDcw\n",
              "Ct5CnXgr6QlDLB8Gx02HWP49VwAVsbSU6nhUzk1VgqBDElC7CW+p0NPDGTlyeYDvgHP+TMAAAAA9\n",
              "QZ62RRE8N/8ArR7brAEovv7wn/AGfHgj6iCYjOiMKTd3N6pv9w267tP5luZ7satl2pL6jiiXjMzx\n",
              "1sk4MQAAADMBntdqQ38AqwNOoglYc2gqvc/AFWpcpF1koW7vabocB1zDhlG/fDNTxi0s8Ry9nZIZ\n",
              "DC8AAAEOQZrZSahBaJlMCCH//qpVG72sVh0voJzWUUhyMtWBpqylSFxTM6ok7pQHY95/9LXgHjJS\n",
              "sLBesb4itYaStPUubWvY4ehmS/PjvEBvBUrCygSoWlLH1Z73xiRp/czckmWAgj5y65ZoWp/4aDkQ\n",
              "swpOi5sG/U+wWmTpxzHR/P2TujoC+V2wGkugk9oWJ/FlnqbqagrSb0IIMR6a1hXmTSdlAqnux7Rh\n",
              "kAjXpd4sDaBp6t5XNz4dkpcIdgY6LhnTMFEx9epdnaaqKJCexcSGtrPv031p94Bks8XllJ/J4z7B\n",
              "7pk13mCc61UzjTczCRVPN3Ajs383NwsM/rmUjiGdodlVfv0eYzBv24PL7O1QNWfAAAAAXUGa+knh\n",
              "ClJlMCCP//61KoAo7JnH4gAWyDmkeIv6s2/s2ZDUpjCKSR82u7X1j6kq3sbMuvFwpzocCdMa9rYg\n",
              "lILrIQQoOt1Bkh5DKjuRejjx4yzEvWtnoBN2iMEQEQAAAJ5Bmx5J4Q6JlMCCP/61KoEsyqYARlem\n",
              "TO04PO6nQfPjonplOCa4vHRem7joOkmAFOXdVirg0A5+WQYKss4onseXLoTBaEpCRyAfHUj2HqFf\n",
              "pAVQ9pD8iYU51V1V6Tj9+YFWyzEgrhsjJ+wj0YPWZ4Mg7UVAGGqk4tJn303+Kijnh0RJfqxpIL26\n",
              "6g383j4Y5lyf9u5dBpdq6Sv4ECyYcAAAAFNBnzxFETw7/wDxkBVn7GhaAIm+x9tcXSLq3Kf2RBGW\n",
              "ZoTLVmJzGVczW8TUtvE460bXkyUMOaWOmv+lTRHAh/+vAqkx6/sTVZ/CYb8M8Ho266++LQAAAEAB\n",
              "n1t0Q38A5uMMHLQSAL8gK+5APg/Zt52+5+4a3uel5HTEvgGhreF9dDQGAld7N1ZpRQqYPBC1nQAv\n",
              "A34QIp9hAAAAKwGfXWpDfwFM9iPxtifQAtpCM5QqAAjfyN48rSJMXimhCCNW4Zlk1RQ8CuAAAACd\n",
              "QZtCSahBaJlMCCH//qpVAlhpssAmvzlE3bxSKMGpxz/qh+LI4K0bEvFCYsLPCbYk7nDt/1KbEyCu\n",
              "sgDogvFEKqvm5dxEJdelxKo0TKy6nysT5PAMNl9UR0LuUP9QtdlT6SIQEpYa26OFGGFTIs+gojpT\n",
              "7FA/piI0d+Pj/38HpVlMaB6pe1OrHdb27h+7yVXr99fjUS4mAjIkj7obfAAAAHxBn2BFESw7/wH2\n",
              "3WmR88AX4D2InbFesFio+eMj4j4bjp5rqEJWE4Qq58EYWSd5pKwMYz54iJvdF1a6DNPPXYlD3UhM\n",
              "w61zv1sk4hfKmcgBXOD9MqZiap3HTbhzB8WiJbHVmj8zR0YRYEbWPjp3S3+Ki7pU083rzwBGNuH5\n",
              "AAAASQGfn3RDfwKIl8cgItMUI8wATrUWHuG1WPDwS+O/wKu+g/B04boh3VqZ1y9aPisgG+AEtqct\n",
              "cMGXJG+u7agUfyoc/Pf8M4LNv6oAAABEAZ+BakN/AqP3T7nQ/GQAOBpsaWn5MagRww102Gcw+xt0\n",
              "N7i3oDgS/Uv9CSdCICyltctDn0WacIXfbPMrAL74T6f8y+EAAAB4QZuDSahBbJlMCCP//rUqgTBY\n",
              "TWfRuI7jSu7M8et/+G9ngBCbM847EJi8VKPE54s+ZBRl9e4rKKLgCIcgkpCPQsqEi0LWJ0TGWlX8\n",
              "9fXS2TgTPsPj/LfHv6X++AQqrHM+ONUh3wnsN4Rl0pYvWReqR2oG2h76ugEYAAAAdEGbp0nhClJl\n",
              "MCCP//61KoBKycpSuzbi9+IhEjHaaAPr1syfUv8Y3dZI8ie7ZjJ9qlPC431rbM96BPfQY3R0+Twr\n",
              "7siZtS9Btannspb8dc3rBKF/ReEqAPMGGDaCluJSePSbF4zcXfeBzhnlg1SB312lUL77AAAAR0Gf\n",
              "xUU0TDv/AJZtbz5bAEfIYjA98q5wEb/O/qT4hXqBAuLyrI80beuPVMtfnXUIEbu4RT/ZWHUq5Hpo\n",
              "6/3DKLLyM1lUUbIdAAAAQQGf5HRDfwDXr1aQBbs+lQNem8CMuwesihveWVp1bdsUE5ljNBgcBJl2\n",
              "XD6IcLKbWyo+eMTS7OHXidFaGhlvWckhAAAAPgGf5mpDfwCkKbIAHSqb4M8AEGpvpJSEaGu9Q6Mu\n",
              "ixewgQ+zH4Erd65TGZTAoZn5EXjJBFw5G5a/YouJ+WOBAAAAi0Gb60moQWiZTAgj//61KoARn/S5\n",
              "q9TH5G/zE0icQALYSVlg+NJesveO4/B9sjJ3uPZ9JIVsvlDFqta77OKEB7z+cLAB/NcNpFDdmZDl\n",
              "vhVTbbSJkO5I5KulniuHdgtf9hFnkjS0bJ9LDVTnNfu856F4ZF++XrhCt7SxMy5Qv2qd4aWxvxK1\n",
              "sR87qmAAAABeQZ4JRREsO/8ARByjEW+AFb901J3fO+LEdaRu5lLS4VZ0qjnrxrfkOh6J6Z64+2LR\n",
              "PCHSHLFzvby83OmeBLJO1OG7xTP8uhrnSqWag3T7oNDZeDAomiW8ICeIo76X8AAAAE4Bnih0Q38A\n",
              "YM6+vYjAFAAdE/9IZEIdy9gVPBfchQULYcRV0ZHB/s7DKlJPYLlwlQXWimPDJKzfLtOTMeCpAEaf\n",
              "H7HSOJVDtEXRphKFnyMAAAA0AZ4qakN/AEtfbYrgDmUxoIMsb5jtMxVQ4J72tyzLDAUF4GYiLtKl\n",
              "DTcPW+uqD/VtvXfmCAAAAItBmi9JqEFsmUwII//+tSqADZS1UvypCyACEemWdmpos8ccri4+IORX\n",
              "Pfl1wiAR0qu2Z58+Dpa095UEk7lObnm99KZC4gJsmnjAkkKPZmQEJItclp1ZrFA/OKcIPgXSM1v1\n",
              "7r2T5hNgUu/iAM101zTtJ7tDfE2G3To7nq6DVpJyb2KZSl2HiQ34SAdgAAAANkGeTUUVLDv/ADPk\n",
              "l30AOldAL7kAivH9h+hZSz42V40MmmEWr+IkQ5y+gpqiiMzzDgSblR8QmQAAABkBnmx0Q38ASVIj\n",
              "vAJNvB1TD0sAT3IxStDzAAAARgGebmpDfwBJa91vt+/pANQAGx6d9CNXe0Cfcu0pjFZ698zx79wA\n",
              "YkU/OCfWmHlEoPAgBt8p0Mc6BiuZgBlcFUk+h50HgBkAAACfQZpySahBbJlMCCP//rUqgA324P4M\n",
              "rUQBrCq5CdF3bdiVVrX9ReDWyGT1V20oMkhDOdm/cRUg72KxwlaRzYb1GGZnhVTnS0thvT8aLkTT\n",
              "gVkwxH6N4yVUXOxjU5vnvy+/tXcCYWDrgoiWlJ0EMyOGW0e7BsC84OVHcMtdQ2q19FFHREhVJnLT\n",
              "6bJxX87DnszsA3lMZRZqybP2Gsgl7FpwAAAAWUGekEUVLDf/AF+/n0AR4YLlph3vtPbldIR7e0I6\n",
              "KIxysBbbDroGDKXVBsYsBvUCE9sK2de+xftSr/8VIJCF1bU+VkGh8deq+rg+99YKARfMfmOhixRN\n",
              "hAxFAAAAQgGesWpDfwB5jykAH8HkBlaYiFD5YGQagh/btvlSMUKMamRIdSsqKZWJCP7FKBYiUBvC\n",
              "ss8mN06D+dQQ516Yp92kgQAAAKZBmrZJqEFsmUwII//+tSqAJPiP+NeDCAHHvTJnyryQDp5sFefe\n",
              "QIPZO1ldQ9PhA/q0fG3bYjbhE8mhDbfQ+4z92qYQY86mYJPuQvUtfJI0IehFUiEsE8p0J+0zbKng\n",
              "6Q2VI2doQYzt0pDIemnnvdTgHx6fIqzB8iYnkGThR99oihztOzh5iUFUtFJHgQL7GkxYuAZ0FMM+\n",
              "xKrg2OffN8qWE0edgbTIAAAAWkGe1EUVLDv/AHHvFTdADmhRykjowy4h0EsFe/KLfFJxjXhVNvQ4\n",
              "j1mqD+2UwnD6kWBhX2Cp4+Gl68/9xFhXbM5FIuix+mSeVi3v3KsPY8P1yvkJsF+o8QRZtAAAAEcB\n",
              "nvN0Q38AollvDQZb/QAlwu+VpFAr0uG3DuLsbl50f6vdJ7axfA1O/fRtHjEVA6y04zo9k0SSFyZz\n",
              "QoNH/smXjIu0T6pewQAAAEgBnvVqQ38Ao+H2z6zwy07khLLAB0TamNy9PZ5Lbd8Kfi7d8sMIJ+BE\n",
              "NTPEp02FamG/2sl/1jwuneFLpx/3vapLoIUveA9YBswAAAB8QZr5SahBbJlMCG///qeEAimQd+mb\n",
              "1mAC/IDOU5rSeZNEDzLEwKjZoJCNWGWnvY35n15Mh7muK9kf2WYEPiIEzCf4rNiIQJDmcg9PxZeQ\n",
              "Veztoj98lQ5l7w2GnU+d8yn8qdJQXYb0cz+sWBKpSMOgX/ClOqwgclo1hsN0+QAAACtBnxdFFSw3\n",
              "/wCkOtWv2fuACXR/HPAFXANhT433n56VVD/vsqharGI48FMxAAAAOgGfOGpDfwCjyz5Zh37kAHAa\n",
              "gcl3YCGHU4CHIrITKYdv/GSVn6kqgLUZNHgtow7HcB59nNtE5R7g5YAAAAeHZYiCAAU//vfHT8Cm\n",
              "6Plmy51FPSEwitj6SCi9nYN/4Xxs0AVD7VZguKxlNTo1Zks6n61MFywJml5/N54wgjHHLmZu0E00\n",
              "Oblxd9FZ5beAdgxoW74OnCuF0EABrUbc4CZGcZ0jrDPQQSO1dL+qmUFa50xSc3lCxYEkrW98mhvv\n",
              "TouBFAJP7iSuNA4mGrR32PDMemvZurwkisDvsXs5s0ZUzzjMkXSX1XdumLVOKHDTKHbpOXcdJukA\n",
              "J3ubh0qcI/vy/auC9bQOkicUYCL0NMkUxw1uZMF+w/2ZB0klNfz3D96hXdTkGZmcUqye/C8+Tc1B\n",
              "7uAks+IIydfeT5qQiSTTHidEjMQhZh1gx92NDn86Zv8eZ8zIdgvWxhjYai91l0dtohvq8vxAzXXt\n",
              "PdNHTQanB7hWF1bZ46H5WZIXNEp159jceLk3s38RA1Nc16kTZeyxhmvQADhbI9w1k7rFxGfT34gd\n",
              "VyFJUufD2KU99S/Ns4wl+/mG1ouSoYGKCuko2Ufd6tO7Zvg0jY1YGXj4V9PKJ8vul5Ks551Odhlw\n",
              "IfZb7BZvD6BARNM3soKRHe2QgWaUqmQpD10AL1IPEL/n+XeGVTwGPVHFnS104geVrtzBXWZrezA4\n",
              "LE/CfyDJusvvGwpdI0Lvv+/pN17YVI/SPi6bfkmGCQePjPJy/LSDnu8Yg8lY92wKDhTuSzgEO7MH\n",
              "cgDKP5QR1FcultY0Uvw1/2E5FuIyJVfxU/zCnoKB3dchO2AReUSh4A99uk9Jm6+xw5hszgRruIZA\n",
              "KJG2LtZJ4YMP4m19i9fHhxfiAFZK+oKaX33USgkZaDvIwhaI4S+yD3xr8DXzBrcfI5LDDnwzIv+e\n",
              "8YH+zOHtkTlne8hT/Bmks5x3cUVCQp21J2GrdAHRFX1VETb3rSH+BRYZErpwk4vSdxkK3fRyG9t7\n",
              "Dd/mLO0nik7w1742/9eZXxkvzejhkDNbzioeCUcGUDsbUjvgJhX9Blhmwa000OiqQq3vqDv8x77m\n",
              "d1p6t3kc511h9KWxcWQvGiW2PD7QbhoB1/PHrh55lfN1q2F8Z+BBoxnE28WAK+YYpCTr53Ft6iQ6\n",
              "6RN1XZBAh4cCYnudIR01duIZg8/OCgUK2RmTLmObXER5ab9NqyUbThQZCF2xxA+6hVMtBRvXx2xq\n",
              "4Svq6J+/wfEAl8C9+jgr6jSQTaccZcDTxuD7vvGJglM3+9DhMtYU+Jxi8fgBdSYHA5rdPRl27URX\n",
              "JUCzR7iFSISnufviqKWG9TqLF/UyQcfH0wPXenrO7alYrGg8jxuW+HpMNK8ZqDpX95X8N1RCryY0\n",
              "x5krMw1okwRIPX4eWgMnuUwP6hj01P0AvuFlrKr7JgjCCMkSaYp5zP9TpFf1fishRo6UsVuAglEc\n",
              "xj/CEpOcVqo+Xre2BzCbP8RflkOQp/9e23oosrPO1oNIT6lth1gOf9cZciLAwQ56+uL3N1m7Lx/t\n",
              "u4EsK41KzCNjt8GPLIV5VsScjZkKdTQW/8tBXmuUqtEX+uR8J2glCb5iRL1XVKCvNqQSlHuXQr6Z\n",
              "ojagVJNSTP4GdbMArAnsVojAyyKMHtM4DM0MCWipHHYqoUlset+x7i/xJ/WQBV0eE4SMgCI2rSnp\n",
              "3hC1SE87umUCxe2YbCnMSdVNCtOKBfoqwW7v7gqucduiPk6vBncM0A6R+UbXm1ADPFsu/OlOlcUr\n",
              "x+nhyF4itOYhas70KxZYalpITl6ifBHRFqiMGR+IeWsreEz+xUtjd8qLSeCFuBIovim5FCoXzswG\n",
              "Zq4iIQqksng7jUUlLlAaIHI5AW4/P/pwwoQ1EfD9ji4l3ohLH47P9rG4ClaVXhzUEoNd5FMa2Hey\n",
              "5t4lc+YQ/OMFIIyYzeN2ESZwaTfdvXjGRKEXhlIi5ICmUGaI2Wph/qx63G5EGoWRVwCN1NlT+7z7\n",
              "tJKDBYR+86/BjeIy92PoR+VQe8urWbkSadxpTeTT82RAULH/PnhSu/fNl79mP5dQ9Ix13d5r5Wf0\n",
              "BnZRO9lnU9lauROTMn4oG8WUXWxrfEs6az+HGfTnt5cfps6oVC0njfBszMxepoEYa80k+3tMzIEv\n",
              "wI87rypOuLKeDd9lgfHrBe5SyI4mmfdHwXe69oN3wP+b4enlcb3P+d6RXo7CppI4aRInlbux71rk\n",
              "Dhbkgq/qmkzz+ZaeRzcKGd4wOsWA4bd6zUQp5HBPnvHX7mqglPzDg92guEJ2gN/632xIE8DgwQSI\n",
              "L6P8VsWZx/NlYpdjEOkUcA7VZkuqUm4ytRrKqNDVgt306FOAT+AMciHz7rywF0b05Ofs3gNTxglk\n",
              "veiw9nxtUea0Pj8ErBsmZ71fO92QKY4nzIz+0dTa+A4gLzvYCI7mg8VgNyW6pwxvIt4OMNlhdrNd\n",
              "WVZRKzLdR08SN23geGH7HjM+PUBskK8QW3a5zvjXQFrJ2vhaHJDgJ0gj9r5Cg2cNe4WGqO0TuKOR\n",
              "dEdnGkIwDCsxbmfy7Ld4PFC4O89LeemfGPpkf7PhC88kZt+FLoiZdRmiMeqCTP+iUxOAFgCQ2s2v\n",
              "ATg9pByJwWnqxsxlOn27dM70w9a+PoWmha5CH9PqwugXMQAAAIRBmiRsQR/+tSqH/XCQAJq+lVlD\n",
              "VAikMzv/jvUvHYTgiStxRv3r6d4YuEa9Ddd6KwfD5FgUKL0XNjlpPOcXbsASH4le9Ao8YhIDP5vW\n",
              "ZKOGz3OuDsLHPnfRg4ahOzZ/XrNVlmXMOG+pzHTWp6WtjEtYOWTl//a7Ogl2Rynkz0bFJTxaroAA\n",
              "AAAvQZ5CeId/AchIoyigAulB+p59dP9JRc6rIiVfGWSy0l3clz0JaiIB9LGNKqqpVnUAAAAiAZ5h\n",
              "dEN/AUYQtwA3Otchvt5Ir76uEuYDv6g359zJorJtwQAAAC8BnmNqQ38CbQV+AI+IPR88JToRV1ML\n",
              "NbqUHFiINu749xZH6Xp4qI3GI9k3ToNCmAAAANBBmmhJqEFomUwII//+tSvTcMCAI9J/nla8a/gu\n",
              "c3bF7uzja1gmHrhTm4F+y5mmCnphtQIKEGRWpIya274t1XDrm/kHhcvghZ1WcKIsMvPnDqegwwLF\n",
              "/J0tbuOTfan5VsB/sxNH0UtED9N6B7iz2XJeCvG43qIf9MG4mYP7fDzgOXrXxju0Ws4y6ZPpXQMT\n",
              "IPD7mcgzdu5PznHpdU/E2UPT1ciMdxF4GLrjRu+yqcVXqSx35OBa2U0ZMbxtJblSMpnJG4HvhGm1\n",
              "rwwfQyCenWTeAAAAF0GehkURLDv/BZFP5SqaO7SF7G0tWryhAAAAKQGepXRDfwdJK+t1yaAtDjsi\n",
              "gPkiloxM6n+XwB7yKJ3hZdIVABsuX4xlAAAACQGep2pDfwAS8QAAABhBmqxJqEFsmUwII//+tSqA\n",
              "DeR/hbivrIAAAAALQZ7KRRUsO/8ADVkAAAAJAZ7pdEN/ABLxAAAACQGe62pDfwAS8QAAABJBmvBJ\n",
              "qEFsmUwII//+tSqAA2sAAAALQZ8ORRUsO/8ADVgAAAAJAZ8tdEN/ABLwAAAACQGfL2pDfwAS8QAA\n",
              "ABJBmzRJqEFsmUwII//+tSqAA2oAAAALQZ9SRRUsO/8ADVgAAAAJAZ9xdEN/ABLxAAAACQGfc2pD\n",
              "fwAS8QAAABJBm3hJqEFsmUwII//+tSqAA2sAAAALQZ+WRRUsO/8ADVgAAAAJAZ+1dEN/ABLwAAAA\n",
              "CQGft2pDfwAS8QAAABJBm7xJqEFsmUwII//+tSqAA2oAAAALQZ/aRRUsO/8ADVgAAAAJAZ/5dEN/\n",
              "ABLxAAAACQGf+2pDfwAS8AAAABJBm+BJqEFsmUwII//+tSqAA2sAAAALQZ4eRRUsO/8ADVkAAAAJ\n",
              "AZ49dEN/ABLwAAAACQGeP2pDfwAS8QAAABJBmiRJqEFsmUwII//+tSqAA2oAAAALQZ5CRRUsO/8A\n",
              "DVkAAAAJAZ5hdEN/ABLxAAAACQGeY2pDfwAS8AAAAQdBmmhJqEFsmUwIIf/+qlUcbtN8gBb1stSs\n",
              "f1EENZSD1EeyiLHkTZ8gOD43J1lxFnV8w9zdf9Wmtm7RQcDtl/O9a5NdMx/syKzq7pXWeXB8ZFQO\n",
              "4O9yjj69bi2xfQuGsoZ7U5AvzCPj1kjbF7iCfVH47aohX4EgaF2rdubbTWsK5D9IJY4qLR6uCMuq\n",
              "bFm6J1o6zW9KyJmRrnUps+xmJ8gLpf5T6r/D8NW1SJSLxkasu1fZxxmXTw1IpUlOj/PyyzEnVHjG\n",
              "NOcfIV/I8VDrOf6VmrBaQWNdyqB874SZIR8jU0g810vMHQSzUyVqt/UB0PHoBsKR4SKHQ32/3Kw1\n",
              "qCTPTM3uvTQ/gAAAAIpBnoZFFSw7/wIofO3hasalKV4AVwu989n7vNhlNVgGgbxDcuOXtHoYbBTA\n",
              "2kTudABNB4wXi7g1KMobwF/DQ9HdOvqxdy2T63RakXr0g0G7EJnjrPKRlvWVmJA6FBEyw09DNrra\n",
              "UunDsDMHh16vxf1a7QXvUDkEpkuKsvKx0GrH71j35zOJDG9Wy7EAAAAXAZ6ldEN/AqXL1CGy0V9u\n",
              "wPGkCHlVjOAAAABIAZ6nakN/At/Pkiv+Y4ANZprm0FU7/w4WYxx1H+iOqn8Tg3at6gbFKxEepgbs\n",
              "AIZO9si9lcZpZyfzF66naZDkFu/LOnuos0JLAAAAuEGaqUmoQWyZTAgj//61Ko44kEQHxcMKHaAu\n",
              "f0wRvVQzb+LQ41cEout7dzvC/oEWu997UWT6huDRKtTVlHFY9Rj0DP3qWygkQUNv9eaqoXCs+p3n\n",
              "kBU2Hbg42CDpO8Ch/TAbL7YQvTEN3+bfydI9ptjRYO134tVUescP4AIVpxuTb2WvqpcmvmlyvfCI\n",
              "TKBt3/JaaNk8h1qkgFVUNBHihKg1LGp1Lr4sFwGnqxAwPEzeAWuseWNF8xgAAACNQZrNSeEKUmUw\n",
              "II///rUqgV+m5ALUksXDOWYADzFt2PrTsSIWDlGNMljpUXqTWSf4Ehs+I9gKm3qTckBjkl99tZUT\n",
              "WLOU63l2GXh1uy+rtFQsMwm9DAgHs6kyPpiTciKuMOD1MpVgN26/CCaCm2o/fxoGD6XF+7OYmVjn\n",
              "DkBPgyGDTAY5gUUX7eadrhZhAAAAPkGe60U0TDv/AP9jX7vcAK6lJTLiggsmdJCcSP/7HYIw3ZpY\n",
              "Dh5Psoi8xTdXCJlTvGzo/GT4lzsvQnkfpHp7AAAALgGfCnRDfwFp2JIAF0n/9AcVvn2zJWuGE0DN\n",
              "hEhmtQWQNYRAPxEdk0t9wNPg718AAAAvAZ8MakN/AObUESAON7XDFHzf9YXGNUWzftr2JNd7oqLc\n",
              "Zcebh77J9vpPbq6wbl8AAABZQZsRSahBaJlMCCP//rUqgCmefxauoiKcAOEKX0uWbeia4rkHRO+v\n",
              "13hKcXsqnLG1zkT2FFVTQSp9EoRk7zOFt+dJwC5ufetNor0tZEAKd8cU5zqe8kAdphAAAAA1QZ8v\n",
              "RREsO/8AntQiW45IItAPndxWKPf7MbDhV+DJqdt+YbQ5FxaWA0A2w0vTXUoYUd85OoAAAAA4AZ9O\n",
              "dEN/AOa77dl6ADoic641dywnKrcIPzQVkd1QiTBqNJE15OCZyCKDwRfOqZY5O5qeorX9FdUAAAA1\n",
              "AZ9QakN/AOb6IFouQAcxtGU478NH82iV1XqBfCz1TDfN9mUKzn9OTlSZTbjqd9QtsBlyhswAAABA\n",
              "QZtTSahBbJlMFEwR//61KoAOk3q7eIy1HPLywog2AohhV2gUHsbzscjrDMkaKdPD6Crvq3Dxb7+Z\n",
              "b9bjNPJjkAAAAB8Bn3JqQ38A5xgmwsOnj4z3vzwAz2wyNNk5dMRya6FRAAAAfEGbd0nhClJlMCCH\n",
              "//6qVQAmCIcAAIyvOQ3OmtSTd9go2xBtZfHvm/yInOPdCzhFjS6j/1uU+2vFvKFgkeRDGz1j6U2s\n",
              "/u3iwMFjnNb+OZ3D6aOdFK1mn2vho8XNAClDRvjty7E2BLKM/+X96+FzYItAzw9ahL93N7qmARkA\n",
              "AABPQZ+VRTRMO/8AodNKStdhCASxouACwUllBQpw12ab38QTwv6JMTnjTFeHcrpEM6plY1jkU/0m\n",
              "ebHxCPMliEd6dFQjUK1sgF9uzCXOmZdSeQAAAEoBn7R0Q38A5rv33MwNG5tkAX2U7l4b1tY01rxa\n",
              "rG9RgdPQm8StrxDh8MAogLEXmxwjyEbmZdoeMyTtJkh/+5KtnHVAVpI3h5tegAAAADsBn7ZqQ38A\n",
              "5vogWEE4w+kbh4XJw3375ADWbyA8y6RvrbUN1MqgoUWStZjvc10cRaSR3/GVjkWhr0dvjAAAAI5B\n",
              "m7tJqEFomUwIIf/+qlUAUdzwAAK6rwNX54vGBSslBV3Zw4KSB9hTOBebHjJK8sovvpNOl49jTXAq\n",
              "/QueEXN8PhhWs1zd+THKlFZQyCED8oy7DuzBIQK0dOdn2UveWVcfMA8Q+R1aAVN+QfICLBiEGBdp\n",
              "CRMvNfpBTtRc5/H0qdApcwrjQiz4ynivspShAAAAYUGf2UURLDv/AKHdRkrWfhYAIPh6GsUbefQp\n",
              "oWYSWsQz/HmJfIm8BZvT+wEre8u1u8yNoEHenBhQBpWhmLWN4lfSRP2EgeNAdUQre/3n2kIKoZEb\n",
              "JgOqhBzZ7LTsAbsQMtwAAAAuAZ/4dEN/AOa7+wxDYjlv4J2xlgAnYva+ChzjIq4K4HS3ICZrkySS\n",
              "VxaOsb8u6AAAAEUBn/pqQ38A5voYittDv0AHO7RgGLbf/J/hvrqLudTf9itmjNMP+EjKMKff+9E9\n",
              "YCRR/ESOixm2X3UTmy27Me2gP5404AkAAABcQZv8SahBbJlMCCH//qpVAFGxq0GyMABHyLxtXiRF\n",
              "xvjQbyHtc/AK1EhBhtRCui8hCxhOyJg11u4K0Jp3Nxpx+PKBXdP4vF5l8JX3bnOfw2cKXb3KlBY9\n",
              "jPQL6NEAAAB+QZodSeEKUmUwIIf//qpVAhdDgEnqaRM2AZMiNAuf4Cg4PnYsCsBceF5XJXqpysvI\n",
              "cK9T6EilCPUQIax+AK1i2SvRwcg6DpNo1aUmg+XhXl5qUaKXobnhUg8LH/+bVeqBLfDX+xpImlnT\n",
              "zF5Qd+IBWDZGvKyytI9LnpC+QbINAAAA6EGaP0nhDomUwU0TBD/+qlUcbvpt4INA25ySssyCglNZ\n",
              "U/y8QwFYPrWfWMi6humSv+77fxwL+/NR87qqg+fkiSjYyo5ZKf7+6FtODuRP6XyOYAQEZBc4jijM\n",
              "tgXa4QJ3o9mVPGXvOIN7QOQhW3zN1vL5fSuW7rQtlVGZ73EX06eLBU4o4176HmOgI7h79g35LJxp\n",
              "hQ7Irr1WkRYaJbqrQezdYD0SGcLXR5GJOqJiw14yzy4vWiBmJv+gWL2s216m+0vAmKr5sQx71NvE\n",
              "HEjo9uoxqtVtEgc18YqTZcOhKuelvWbN5UAM9HkAAABGAZ5eakN/At/PkioQGjqCVyHERWwMxIAW\n",
              "JT9igSEYVK/oCLQJzql/P2VoznslsRE37ndUPUt6LwST2vHeqcaGvGP4cHYSJwAAAF9BmkBJ4Q8m\n",
              "UwII//61KoApeMl9/NHUgAoEyJWirl4kRco5hx0KN9TeONQUEd9uQ+2sX6BJUgjue4DWo6dnYZoP\n",
              "gkRfpQcf//Bfe35dXSclUsQlxvId8L6mJJfDdCaRkQAAAKlBmmRJ4Q8mUwII//61Kos+2urWKDcW\n",
              "Tqz2A54kUQKH+9lpzbHzKKBMRQKezbRJanNghnHsvAEnZVhQf7ENqdOCc8AAkJuqGdpDf4U2bQ5c\n",
              "sqqUbjiAlZwAMFWXCY8RyKmfxmzWplxIJf1YtrsNinMJ1T5vMjnhyv0nOVIwYV1aUbQ3a2ZdyD18\n",
              "ayhc8JbeT96MDS3coQkJFL1dr7KmIN/aN7Rk2kyOXBZgAAAAU0GegkURPDv/AfZAD5UOAC3UGrKG\n",
              "jqkUvwy3XR+Vrw2okZSJup5LHd8iaDGV7GcvSZ6UF/8b7N4n2GeJsMngIvjdfcbPiZFcUA2wyNPc\n",
              "yf6QqL/xAAAANwGeoXRDfwFXhWQ0EgC3aajUMSUl+E+bEaUVjHZhljzHtuHqZwqY+uJYk192sLMI\n",
              "IpCUOFkTCOEAAAAnAZ6jakN/AqVQpIr/gAcb0D3S8OWJ+6yXBSpXdkxYKlQ4UJrAavD3AAAArkGa\n",
              "qEmoQWiZTAgj//61KoqRmk0EHALYTs+w2l129HduTcUd8OSw8ttjvOonu9lio507subUomliqecF\n",
              "VtIdyZAMYpOuaeRSwg0vjist6RkkvtnhBjp3Dhp+1Jpyr9mnSWPVkqmCaTX1QIIys+NuNK0Mh8ck\n",
              "TpvB3pa35JRJAGx5B4id8/TQuMVWcCroVZtoUCnVVoOOak10wIeqiwePXoplPbyeocM8Gr6svhjL\n",
              "wAAAAHVBnsZFESw7/wH7HPAF+QiK+g0FX0S1ITnDlut+DDYUXZQ/YJIwm6xcTKX0Rh7IK/dq/5cp\n",
              "bteD6H02ypYWxc9wwjo4HdpsJHBtwEtGZB2z0o0if0cCUxHRTfFEhJt7K/xIbdVBncEsN342mmh8\n",
              "RHv+6T1unZ0AAABpAZ7ldEN/AqXLK4lmAFhZi1r/2lwck1EucteqduYi/G788LlJSQfDXrZ7xXz7\n",
              "1XN2zUdvvn5GKfwoM1A7zYiUW/RaHEtyc9i1QTyKkQayV95jfNQ0k1MX6Dl3JsE7gsFGJFxABRt3\n",
              "l20oAAAATAGe52pDfwKj92DCqsgAcIgXOUImLSgqjjkn3xTGR96LKlumyWErKPkc679neQl1KE6v\n",
              "1TsjBtQHwUkvG8xIafUycAd+ah9xjBzJtKEAAACbQZrsSahBbJlMCCP//rUqgV+OIAFIYlum3RZB\n",
              "lhF8J+hQ7vJJUPSodHxP/loRkGMN+4drUIWUx8wC6NztaHwplw7QfxoQUUUpMkd3KXLxDVofV/LE\n",
              "pUa+aRjAkgJRsVI5iJqY+ZI54HqRT31T4TEFLQYeOes2Vqewv4Xhs7WqqzqXxF0XKa4UKlqKAXRE\n",
              "QmejUqIKCd9Ozd6//4AAAABLQZ8KRRUsO/8A8VUQHMq0AR4g0eOrkOPTHDJQCrl7qNoOduIjNKUf\n",
              "LYVRDcQGYUjfgVEWlTTzZJ/hIk6Ve8Q0OTN4mCMdEQmiVCJBAAAAOAGfKXRDfwFW1hIThQ0AHRO/\n",
              "5W1/CC1cGUvRzZjGsDSYcLCXDQhog0FLV9a03wnx41QSviLJg0dBAAAARwGfK2pDfwDXvPLmnYAv\n",
              "9yXdXicF/MExy4eWXH9se2S2GF7diELqaA5D+KbISQAp8BIQqCiUgtOJoYNaJp1/xaEvNKxmhE/B\n",
              "AAAAmkGbMEmoQWyZTAgj//61KoApnj5krpsSRfpEB/mkVqX8eouMAF1Xn0+zwNXoqVcShimooIcM\n",
              "L2N7mGZdKhiMEvqog3qwqXlOqpEmoSehL0eexoP7ONILFMgN0TNYu2mt3bp8SF+XrlEHoWFLJcNj\n",
              "y0TPeNOL5f3kK81kNbEo35Jy5qWUJm4FAYd6b0PCp8xgGSu301Xuxl9hlJUAAABjQZ9ORRUsO/8A\n",
              "cfQmCb/bAFMkptrciACDdgXeoHqADDxMIpvTdx7dZAhAaWFBOSkzNFbARgrbooWzK8NYuylbUUb5\n",
              "F20zxGEv7yIPdWhybdCqk05gYxCdI43LIoXtx22tx9/AAAAAPwGfbXRDfwCkHfeW2tmwDrZAZQJP\n",
              "4gG6SWIwDhQMndDbPYyZLXchQ4v80zXX3xGHqMKem8v2oOCAoilYxZ02tQAAAEgBn29qQ38AYcA1\n",
              "ajIi4A433GCSicqJOwRm7bIm4hrBNxvjD61Ft6hjkwV90X16v9DlqAou/8uS8hZW0lhfr1HKk/YH\n",
              "2MchS0EAAACIQZt0SahBbJlMCCP//rUqgA2nx7NicwAImvTH9ZNyNZ9Xp0PWZagbX4ZKNyeX4RNh\n",
              "91aGK3l9p9EykcbnJjyekqdo+OpEZKR2HLedUX2Uj1ofPihMEwGD4jJQqaU96lMyJGgZV4fgOMiN\n",
              "aG5B98TJDM+l/frvGklv8wqeD6PaeetYtcTf1IxBkwAAAC5Bn5JFFSw7/wA1G07vw4AQkqtwrQaW\n",
              "8C7TBbVn2WHBMEsUREEEP6aBlcDa7IzrAAAAKAGfsXRDfwBLX1dlfRbawli33jBNXYgBSTYybCF/\n",
              "O60xJmNtZXcw2nEAAAAWAZ+zakN/AElLfcknBHO9yWxRoTCawQAAAJpBm7hJqEFsmUwII//+tSqA\n",
              "Dfbg/gytRAGsKrkJ0Xdt2JVWtf1F4NbIZPVXbSgySEM52b9xFSDvYrHCVpHNhvUYZmeFVOdLS2G9\n",
              "PxouRNOBWTDEfo3jJVRc7GMQnx/O1dwJiHZsQoiWlJ0ELa6Qz2VK+ol6zfkvUbfi3aYAmU5PiA9g\n",
              "nQrVNfJ67dKfihC78XsERbUBjrRLVzyBAAAAYUGf1kUVLDv/AEJ/DoAR4gisM6p8NJparhVsJ1yk\n",
              "vZQDnm6C0zKDSQhcrgHv4H8ucVwWRGiwCq5V/7vonGqJLSYW3ScH04cgwFD9zut7UEPE73RHwBWs\n",
              "T/QKdqGtYfhU88AAAABPAZ/1dEN/AF9iZBHfChoAK6UPagmrxvgcOlZnpbwi40bDxrqySMZtMnmf\n",
              "l4tq3U8YhftdoFyqIZOT26Eol3MCTPTYFqqs1WwQmauYfJY2VQAAAEEBn/dqQ38AeY8pAB+94jBo\n",
              "ZEKJhL7xZHUN19QBIug4kHSHrmFuo1w+VoKJtTCGw3TSk+z8J4p0H86ghzr0xmkcAwAAALBBm/xJ\n",
              "qEFsmUwII//+tSqAJIodQARCYxcW0NkDCLDRQ+YNtzVxP/QEfrDfr4MP+f0pS1QT4ogIqc27PiO1\n",
              "yzCHO6VAwb3JK6eGfcXWu6yNGUkjxHskXj2eYPs5CR6AfOuq4t7ZQfhjIosaOvUKUb4O3VzQRrIh\n",
              "wjP+1FTDaI+8ppSxxjynciaAF1uEuK+KEJ1N7cpbvIikbPEWQaj+RMiVFvVBPggruTy2h6yXtiBh\n",
              "gAAAAFJBnhpFFSw7/wBx//ogBf6oNR2zoOaSFH9O3ZEI6jN/1pruQ+hZhFk7DJ3ymHBkbOKYrsQf\n",
              "HqDnZCbnQXQEAhsYNCBBrQCguyoe32B9y/fZa9wgAAAAUgGeOXRDfwCkRJTsc7XAAmicV1h4Wu8n\n",
              "a4msNsbCZbb/iwz7ijY0E9G7pp9YitGDhEomwrH4NKnT4On2Jlh0QXAUMo0B83w1mtKJ200T769a\n",
              "17EAAABGAZ47akN/AKQitYPIAOMj7QoHK8Mdi9TV6v+toRHJnRDrHF9d8MaKQYpIoz1YAII/lFXB\n",
              "5lIvQpb8mtq6DNdruyHaYsshoAAAAJlBmj9JqEFsmUwII//+tSqAJPiPzWR+JkAF0pLFvYJvYJik\n",
              "C8dKSDTF8AjwUJu32as6ZLqQzuFbZak0m6B9e0rOIBWLRhqrOquSrpRs89hNKphJ1M77kr8A1JPm\n",
              "PxBUi2R3KQGxw5kgU90rn0uzNi2SnlFBbsFiqMb0vMAY53ivhIFsP0IBYCbZLcLA/2/YW2WnLQCH\n",
              "1iMmh4EAAAArQZ5dRRUsN/8ApDrWcyV0oMyI2AOVaoTaexfWNwMmrfJo77GxarDtvTO3gQAAADwB\n",
              "nn5qQ38ApAktXMvpAG9y9GgP2btbw1XB3gJmxWpnllDCPnHR9oyNTRcGTb3e2sNBf1QPJMbNUEIJ\n",
              "pmwAAABnQZpjSahBbJlMCCP//rUqh/27oAJ26pwZ99LJ43B+Fob54cFDlwQq8vwP8hl7kYfYHH+o\n",
              "2Eu7nhBxaHDEm1RSdw+54vkxZgdri6qxfU352y2/QXc+1y2m4+dX0TFa3RAC5U1StT/VGwAAADNB\n",
              "noFFFSw7/wHH/FBFwAW5kej4m8l6IZN03uRerzdd/OpUfpYlVmzVHp5WfrHPyfrnCrgAAAAxAZ6g\n",
              "dEN/AUYNZwG4A3HLura+IBRnHcqoQfsvLd/fRD3hoF+R7MqVGd4+RGkxXd+JPQAAACsBnqJqQ38C\n",
              "bPsLtBAA4tai8U4fDn5TI0Aco2une2paEjdEAym9GW8U3O89AAAA0EGap0moQWyZTAgj//61K8UG\n",
              "WtCAIh8XJnGF2hoY5oR2TmOB3RGPMulytlUQZfe6HHajfF/JovOrHpCEmzsdMAfFk01xK6DxOWRc\n",
              "GbpvQKaaAmpuJJ8ZgJ5AhpSwTTuTbI3SrhFmEx08cydt9CuUkbLpzIPjhjP/jJxoQLEjBcSxq4C8\n",
              "GY2eb0vchJTr6B2GXntia18fqRyDzRvsHnv+iPUcw9kpg6qYJPQvZ11ql5NItNpJ6Hpgz2uKjao+\n",
              "w4/GMF8V7QZvcCI17Pp/nt5+bpAAAAAvQZ7FRRUsO/8FlQABrcw0Zz9pu1DN0tvAeB7SAGbyb5YD\n",
              "5GBhHYelxmq7bbrtwiAAAABFAZ7kdEN/AnVgoAj5CMmvWHEShYDN3KT0rXqVTt6k+7zMqLeD1M0w\n",
              "TT/JoRwJeHh9QuJBLO3Eg4/CVE3Qa4h7fxOpQS1vAAAAGQGe5mpDfwdHQg/70AHSgJumgon+IcH2\n",
              "ycwAAAASQZrrSahBbJlMCCP//rUqgANrAAAAC0GfCUUVLDv/AA1YAAAACQGfKHRDfwAS8QAAAAkB\n",
              "nypqQ38AEvEAAAASQZsvSahBbJlMCCP//rUqgANrAAAAC0GfTUUVLDv/AA1ZAAAACQGfbHRDfwAS\n",
              "8AAAAAkBn25qQ38AEvAAAAASQZtzSahBbJlMCCP//rUqgANrAAAAC0GfkUUVLDv/AA1YAAAACQGf\n",
              "sHRDfwAS8AAAAAkBn7JqQ38AEvEAAAASQZu3SahBbJlMCCP//rUqgANrAAAAC0Gf1UUVLDv/AA1Z\n",
              "AAAACQGf9HRDfwAS8AAAAAkBn/ZqQ38AEvAAAAAiQZv7SahBbJlMCCP//rUqgAhP+nauB8B1b8lc\n",
              "XX6fPIb3nQAAAAtBnhlFFSw7/wANWAAAAAkBnjh0Q38AEvAAAAAJAZ46akN/ABLxAAAAIUGaP0mo\n",
              "QWyZTAgj//61KoAK7xH/6ErPmdLu17feuSqf9QAAAAtBnl1FFSw7/wANWQAAAAkBnnx0Q38AEvEA\n",
              "AAAJAZ5+akN/ABLwAAAAEkGaY0moQWyZTAgj//61KoADawAAAAtBnoFFFSw7/wANWAAAAAkBnqB0\n",
              "Q38AEvEAAAAJAZ6iakN/ABLxAAADcUGap0moQWyZTAgj//61Ko8Fe/4GjcAK39FWQn/n0t4G/SQl\n",
              "iK3U9z6ibNb9yQDd36TAXe0Y+UpzSajd2W/VBM0UqBpMQuqEQ5/wCTSwXCOjUy+tParm09lkgbuY\n",
              "+6Ww/ksfVm3yv4GTim2t2Y0ONf0l3QWcbIe5hYp7aaYcquc1/iXusJ03Bbk+tbGXGmewFUZOjnF1\n",
              "3ExQiVaBFCEyc/fnxB7NqrV509ZGMmDUTUP/7aHXV1T2NJTls7CdgBIsmr9QNOXF9NJDwCmudc7x\n",
              "Fdubm6DAm0yo3xg0AoG2btaH96tgxG69nP8PkZhIEHftaHkwtEqt/BCQwiGa+4/tZGSbggNm79fe\n",
              "1UrTVbw5fPNKkfErtq2Bppa9WvKOhcnaJWfxhcD/G4uwzAW1ZhLtMBYqYCgE9xOpczyWVzEVHJve\n",
              "4Zk6pwmOUyjhHT/6Hp/ltCc9BQ+TTrCgs/4m0DfZ+etnvTL21vQJJOiSdwsecsUc1cX2xO3Pdsxn\n",
              "zLIZXTclKuw2utECSUcgcJLBt0ip4j+R8Ulxh4JoUB6ECxvDB2PAka54yg8XQmz0XtZBonrgKkDH\n",
              "jp55SZoW1MUJQX+MuFByNpeLXGp5O5HpFAiFBQ4AGQEZ/9dJuQfKMTGwkd8ZcoOViYJGDLEq4/6V\n",
              "TBb70vsH+v2oLlKuPYYrBHZyC2RNRoOFOgyB0pAxzfKyrA/UnCoA/ZL7zuDXc0z2W3xscNvU6AVJ\n",
              "rdL79hlFuFp8Q4PuAXBwRcMSW0PrbUs/qBh3AE/P3VlVOkvkUPMEMTphBkmYhvBkEWdiaqP+BLHr\n",
              "A49kcb3foVPJXGkU/kaY7eLBgJwDs+7IN8zwbCEAcZhPtDjt+6i4sp2Ac/YYLcUeiy3DvISmLtIT\n",
              "vy9cz1cKmtUar1/4VsvcJjIHXSVxMxHAjy7kNVn7r3f+0q/U6P5iorHzD5I5eAPnP0eIYry5Ybov\n",
              "FyEsFROPnrXYJXinYdKVg4GY64G4ZbBWK6/qDyA24rNDT+f8YKDoIuoiliC83lWSZ3TMx/oYB2Qt\n",
              "rmAzM8SEWfamHlnna5Kji9ui3GHuqESNVlDwQ/CdNzKhCYw/yPnTCFDcVrjr5sK9AvbOR4jYg6P4\n",
              "vmS8PlNcjfMwdSivRcmlapmRiSMysFnb+/YLhacl4G4SMAsh9VPWZ8HhCvJJAqeEAAAAI0GexUUV\n",
              "LDv/Aih/Xr3UOA+0B7AOl77jzLgYXHQY63TCUfg0AAAACQGe5HRDfwAS8QAAAEQBnuZqQ38C2Qr1\n",
              "ZgAquCUG2CXt8vdICO44Nhb4T2uS+AFd03sgq8wZi2IQAOvqRDlTqftflIFEIPTsJUBn9+ACR4cO\n",
              "qgAAAFlBmutJqEFsmUwII//+tSqOFDqABMyDoKkA1wLl22yMNx0JLxvz3ZT9N7mdaaMHoBYZjL3V\n",
              "h/rup/CSLi8lyImqUtIdM6ncet5lx4TN7M+qj+hmmZjXRIGLtwAAAChBnwlFFSw7/wIsqoARKtS6\n",
              "1hBjprivrf6R/snvW2FVrkLrXqBIQy7wAAAAIgGfKHRDfwLgVyQBHx2haEClNThK3gDoBBp9Ye9k\n",
              "HdMOboEAAAANAZ8qakN/At50ifl7gQAAAC5Bmy9JqEFsmUwII//+tSqN+ktcSiAJQQAEtXnzz95N\n",
              "m2gTIVernknFfJA29NGBAAAAJUGfTUUVLDv/AieeVACw/DSuK/wWTz/bdS1r/OgvRyjw1Q/0+aUA\n",
              "AAAcAZ9sdEN/AuT5ABXUPolU/y0Hhu1JbfmtsjZX4AAAABgBn25qQ38C3nSJoxbcAHB2M/Wbo9WO\n",
              "chwAAAA4QZtzSahBbJlMCCH//qpVHBS0gAEWlZKhebffF4QL/IPdsUSixXxfWze6CD617S6rH8Ky\n",
              "yxQOHUEAAAAeQZ+RRRUsO/8CKH9erIkOAC3roBPXwj9t6OQo0zWeAAAAFwGfsHRDfwFqKy3ADdkI\n",
              "ycEtq6h7kDqgAAAAGAGfsmpDfwLfz350O80ALTj7sQVFYgzkOQAAADpBm7RJqEFsmUwII//+tSqN\n",
              "7ei15AAtO1ijklQZV2Lyyf2Xfg1sR4I12disrMH3SBCo4Gq/fhGGiqmpAAAAm0Gb2EnhClJlMCCP\n",
              "//61Ko8Fe/4GP4AEqnOFtaj6Ei062NrsCRhGpktR6ZP/sPsBTp43oncIgARabrLoCAb2WrYzcouj\n",
              "mT3ONvpui7rnX8qdHmAul65zw6pYQEz96vhwiINebtM8t72HAYaM8Loy1OdFh4KzxOziBKH5SSE0\n",
              "DQcIsXlXRu8Yq4AzgZJkA4Zx9nCIyMaYZrYzcg/xAAAASUGf9kU0TDv/AgsjdR0oAVnCbDfmHehy\n",
              "GRKpMxzzWU2auQVSLHB7f0kiZJKKJPncFyRD1XmgujU9XyWjlXVZgZuxZfD5k7c0leYAAAAlAZ4V\n",
              "dEN/AuCj7IAqRP2ph9nGs7+mxCb3pOuCkI0k1PbZnA5+BAAAAFYBnhdqQ38C3ej5QAQUTE7yDGxv\n",
              "rW7VWPSqu0ZJ9O6CbxD/NeRZUbXKLavSi6IXyNgLtj7cEC4pUmU3dyc3D+sDVkJI+XnP81dtdLoJ\n",
              "amJSsl7Yl3uXcQAAAJVBmhxJqEFomUwII//+tSqO55rkYB6HyoVxTnvb3BLOZ2dKSgyy6fzjcg6e\n",
              "QMfZSPbT1wf7wWd4ASjLZhZYRO19jYzZtBZsOpIG8UVC1P+mg6R/PyAzgjFE4rNGdqzUeNhl2lZG\n",
              "LmNpfebLR5ohJyaOtIHg+KUOpW94jOpUHZ9rQn+DkTPY+dOAvmwg79/mAViR68MxJAAAAChBnjpF\n",
              "ESw7/wInkm3xW+tABdKERgeV3UUafMvdXs4Do9z9bWwE/768AAAAMwGeWXRDfwLd3RrOgHpaQAtp\n",
              "BRmTmeH/McuZqgXLAAUWk/cQWXwkvGmXYSPTnZOHzTN3oQAAACMBnltqQ38BVwGx/k4A3GswQlkA\n",
              "4O7j+/MXIXEgR5VhW+aJcAAAACtBmkBJqEFsmUwII//+tSqAVHnHwZcHoaABKl9xgOu7wplr9/OH\n",
              "ihyaEUDhAAAALEGefkUVLDv/AJttXGo9iQAFgrvSVPD5u6G5YUM72eJpTarU+5AfTJSufc0VAAAA\n",
              "HAGenXRDfwDe6/K2yAL/chjwe55zx/B/ZtjqEIAAAAAcAZ6fakN/AKi89LvqwyALCAdKy5WP1t52\n",
              "zIkTVwAAACdBmoNJqEFsmUwIIf/+qlUAIwx4UP6aYAazya/XPUyco6Vma8At1jYAAAAbQZ6hRRUs\n",
              "N/8AqMwUR9rZhwWW1wAdKn0GzXJBAAAAFwGewmpDfwCovRDIB2TT9xAGeWsbhx+BAAAAWEGaxEmo\n",
              "QWyZTAgj//61Ko7qRxblk4J7XRqAOlXIzahCJH1r34iSOQHsy2mJkktl7SI/ygaq4A3NQ1HtWVA2\n",
              "adWumT7CpsR8tu788fW8xigdYjer5PEjLrAAAAEXQZroSeEKUmUwII///rUrxV6xAEfHImkZUDbR\n",
              "jDsXdCZMEzCQn+G6y3ssnf/24qCrOayAPllPchTvAlTZ7RJBpoDdFyL0QqysmmgqE8qulSHO7PIb\n",
              "nNEKbpo0Xkg+6oAQePX3lqSq4C622m4qLUeQxptHGRTGmSndjuv06cCdsnnRc56hIzam1ucBej0y\n",
              "ZQBNjD81ghOwffNL5ubrQM+INdqjjuC5KCBZcthfI1wloEU+cbt1R+h0oIGyEmIXI88/URlMfmkl\n",
              "bYi1IIZPxa2WzLeECDkOqD/dA8q5VVdtkKxylqP0cAHSZA/+OYv0x6TttrRzyHAKyKKyXvPUEDF+\n",
              "VhACNG3b5pfpJbOfp025AcZCvXZM0ejEAAAAVkGfBkU0TDv/BZUArILQb4d/gT+q1xId8zNFYQOr\n",
              "aPBcqL277OjCj75wtiUoV3dHn9OQghBjlO3Na8luA2bVdMqNvWql5gP9s78RPGWYJvxje47WLpUh\n",
              "AAAANAGfJXRDfwLd3ToPpmIJHuDRtRLgBTlhkgO5AAPDaj+naU/s5avr+x37RVUSkYWQNEv6LfgA\n",
              "AAAVAZ8nakN/B0Hjtft/ZcvAILXx3FnhAAAAGUGbLEmoQWiZTAgj//61KoEsoPEAxj0C+YAAAAAO\n",
              "QZ9KRREsO/8CKSooXsEAAAALAZ9pdEN/At3fSfkAAAALAZ9rakN/At/QqXsAAAASQZtwSahBbJlM\n",
              "CCP//rUqgANrAAAADkGfjkUVLDv/AikqKF7AAAAACwGfrXRDfwLd30n5AAAACwGfr2pDfwLf0Kl7\n",
              "AAAAEkGbtEmoQWyZTAgj//61KoADagAAAA5Bn9JFFSw7/wIpKihewAAAAAsBn/F0Q38C3d9J+QAA\n",
              "AAsBn/NqQ38C39CpewAAABJBm/hJqEFsmUwII//+tSqAA2sAAAAOQZ4WRRUsO/8CKSooXsAAAAAL\n",
              "AZ41dEN/At3fSfkAAAALAZ43akN/At/QqXsAAAASQZo8SahBbJlMCCP//rUqgANqAAAADkGeWkUV\n",
              "LDv/AikqKF7AAAAACwGeeXRDfwLd30n5AAAACwGee2pDfwLf0Kl7AAAAEkGaYEmoQWyZTAgj//61\n",
              "KoADawAAAA5Bnp5FFSw7/wIpKihewQAAAAsBnr10Q38C3d9J+QAAAAsBnr9qQ38C39CpewAAABJB\n",
              "mqRJqEFsmUwII//+tSqAA2oAAAAOQZ7CRRUsO/8CKSooXsEAAAALAZ7hdEN/At3fSfkAAAALAZ7j\n",
              "akN/At/QqXsAAACVQZroSahBbJlMCCP//rUqjwV7/gaNwArf0VZCf+fS3gb9JCWIrdT3PqJs1v3J\n",
              "AN3fpMBd7Rj5SnNJqN36B1tjxqVAZEhDocFdHPPnV6mN2HuZPpbDI+xUGqiOkdCvcWBduRWjZDWU\n",
              "zRu3/SWWEf06hVWpUqp8uwwfJxP+9Owjt7uEZ6HxG5MBhGzsphYC8fMAeeN03NoAAAATQZ8GRRUs\n",
              "O/8CKSolZCl9T6xQ4QAAAAsBnyV0Q38C3d9J+QAAADUBnydqQ38C2QrCDLpA0OMq4AW0g/L91lY1\n",
              "+bUXWmQV4eAeL+JN8+kWWxQYfWrCdZ+7W3B3cQAAAD5BmypJqEFsmUwUTBH//rUqjhQ6gAq61ZEX\n",
              "lbR/VgixS/lWeUyE4DOSQmb9brj9OJouytZzDoDesoaO47a/8AAAAB8Bn0lqQ38C39aSAI+QjOVo\n",
              "cNA0Y5QEfVi4B59W/LafAAAAEkGbTUnhClJlMCCP//61KoADawAAACJBn2tFNEw3/wLgw5IATwZd\n",
              "UHPZxTnPZHYyqOzQ5JFX7BDNAAAADQGfjGpDfwLfz5I4QzEAAAA1QZuRSahBaJlMCCP//rUqjfVR\n",
              "uAK6tV8uExL77+0+43SwucAmlox2tUSti8GRZ1SciMRT/1sAAAAeQZ+vRREsO/8CJ45BK/tThe6A\n",
              "Eqj/myzw03E+dNvQAAAAIAGfznRDfwLd53IArfoHtEYRvUHat4AenjclYe+Vr5JJAAAAGAGf0GpD\n",
              "fwKlUOlNrgBs4PrasgssGLY2vgAAAC9Bm9VJqEFsmUwII//+tSqOFDqACIQZn28r3Zfymk/Vztcd\n",
              "LuFVd9cgiV/zal7WgAAAACNBn/NFFSw7/wIohSoAWH04xa72PLuNYZbkO4sTnWkD/02eLwAAABwB\n",
              "nhJ0Q38C4EGhUa5erykAOEiXys1HP0z85yHBAAAAIQGeFGpDfwLk+QAVgn7hI5DjkKeFKlt0M9L9\n",
              "bYVoVpWfbwAAAHdBmhlJqEFsmUwII//+tSqODsxg86/ApnOZkJT+O9D6JwWQ7M/M/KfOxZ+S9oxp\n",
              "GDQTqcI0wLdWfTvCxjPg65l5xdL+D2XtkgXrIuKzFTv3Kpf336hGrCFNf5sYG/R8fI6c23lZvtEU\n",
              "GR+AxVWeh2VI8iLKj3mZ2gAAAFtBnjdFFSw7/wIN0uvUqUAIymqEplMih860LPv23+07PNZN9nbM\n",
              "ug+LSNNZ5WRppU7irmWAGJLZXvQIah5CLd26gxXSD5dwwwNdqBimlZfoyOypLkVnOHxSTC14AAAA\n",
              "EAGeVnRDfwLgSU5NdqdI3XcAAABPAZ5YakN/At3m/0AEFnUuLQqekVcvqlQbOIuavzxV9PmD0X3A\n",
              "xG0uckiu3BnFJyv9hmujvcAlUJOE99zAVnZdRP8TAW0aBirlQRBXcbU04AAAAG9Bml1JqEFsmUwI\n",
              "I//+tSqKyMUFXmAQRBgsXmbgIQG3eFqL4Jgm4gTzhGtDDUrghKJ8BHSGibBd+tQiiyB4SnxDwKmi\n",
              "pVI/+c5xd0NZoqZeUTovqsMk9uHwXZqJY2gwbYRoODUrWxS4/HaNcnY7SoAAAAAdQZ57RRUsO/8B\n",
              "9VRt075dDrQ0EYB8vjPpyaD+4wkAAAAmAZ6adEN/AqNfqZX7fQAOEgi/+T6ic30CS1DRFY/aeAFP\n",
              "OfmUYOwAAAAgAZ6cakN/AN8s3pAHLQGbx5SWF65cz1tv19EvWfmv/cEAAAA2QZqBSahBbJlMCCP/\n",
              "/rUqgFR5xGtJLTcpMyAFtI1i4tj2vZGdGcTa6KilChRw2ITz8Q/YTPARAAAAK0Gev0UVLDv/AJtt\n",
              "LbgaROr+uQAauZ36obNOni7TndiTyGkxE25kpYLHOOAAAAAfAZ7edEN/AN7ro16d9oA5lx2UPfFD\n",
              "ycGET9s5ckKAwQAAACUBnsBqQ38AqL0TK4e0ACdar01YiEyh3IDS7nWtoet7qCDOaIxAAAAAQkGa\n",
              "xEmoQWyZTAgh//6qVRx4YBiPijFB/BwANlOO38wbkRWYe0T7tXBjgVtuipl8LJ0CxE/1WP9H9rRz\n",
              "ePzC6FfpQQAAAB5BnuJFFSw3/wLfz5IqEBo3NjhZjq2OkxgC/0zJuEkAAAAhAZ8DakN/At/PkioQ\n",
              "Gjb2av/I3LgBmARU1IzJcep1N6SAAAAAQEGbBUmoQWyZTAgj//61Ko8eomXyIbGNsR0AGiVOEQWv\n",
              "UNz9JPOwEHwCks7ejMZ4ShmGkpljKEJIaW7wHH8Z+3AAAADxQZspSeEKUmUwII///rUrxUDKwAbo\n",
              "gWpN0zV8PfdZ/krfH0QlsL+RzXRuXyXqacutt8Rh+ouqQRzshxVTCVSbM66SnKRkQ4cN1bDFnfei\n",
              "R5JX5I89q+hOGSF9/1Xk+p0ou1k9VwehoNXD/jOYwtmJbW7NY+5HE0PvCTuPg/dROH4DYa5xELLu\n",
              "5UD1+MaX38MShGxHw3HDKSDDn48ZpRW6sUyVM6BBOd7g02V1xyS/z/ZvdY4TraiMPHJxjlV/nYR4\n",
              "pIpe6k8my/T5ktwq+VuCNrv5QW9jEBOp5D4j34xGWsOgZm+v7lJ253cVW+gcN0XZFQAAAGJBn0dF\n",
              "NEw7/wWVAH+OoNid3kgBbpfEtafJoAPhv1rSm2hyEnea/zSvkdeQoa+/0ktogqfjeO1x64Ozgpb4\n",
              "GsuMRIoukK+feW+D9xACf5Qr3iSNC6VpgGxCn9J4Os+8T63RuAAAADkBn2Z0Q38CpKMgQKdUCc+w\n",
              "bPE3f2puMWo4fcLsHi1dySM7nSkyy8tdJ6K/L0Zj2w5B4KCvo/g3WyEAAAAWAZ9oakN/B0Hiw8LS\n",
              "Qi9s5mo2jA/jzgAAABJBm21JqEFomUwII//+tSqAA2sAAAAQQZ+LRREsO/8AdMjVU4MRUwAAAA4B\n",
              "n6p0Q38AqJ38/MtC4QAAAA4Bn6xqQ38AqL0QPiD98QAAABJBm7FJqEFsmUwIIf/+qlUABtQAAAAQ\n",
              "QZ/PRRUsO/8AdMjVU4MRUwAAAA4Bn+50Q38AqJ38/MtC4QAAAA4Bn/BqQ38AqL0QPiD98AAAABJB\n",
              "m/VJqEFsmUwIIf/+qlUABtQAAAAQQZ4TRRUsO/8AdMjVU4MRUwAAAA4BnjJ0Q38AqJ38/MtC4QAA\n",
              "AA4BnjRqQ38AqL0QPiD98QAAABJBmjlJqEFsmUwIb//+p4QANSAAAAAQQZ5XRRUsO/8AdMjVU4MR\n",
              "UwAAAA4BnnZ0Q38AqJ38/MtC4QAAAA4BnnhqQ38AqL0QPiD98AAAGhttb292AAAAbG12aGQAAAAA\n",
              "AAAAAAAAAAAAAAPoAADDUAABAAABAAAAAAAAAAAAAAAAAQAAAAAAAAAAAAAAAAAAAAEAAAAAAAAA\n",
              "AAAAAAAAAEAAAAAAAAAAAAAAAAAAAAAAAAAAAAAAAAAAAAAAAAACAAAZRXRyYWsAAABcdGtoZAAA\n",
              "AAMAAAAAAAAAAAAAAAEAAAAAAADDUAAAAAAAAAAAAAAAAAAAAAAAAQAAAAAAAAAAAAAAAAAAAAEA\n",
              "AAAAAAAAAAAAAAAAAEAAAAAAoAAAANIAAAAAACRlZHRzAAAAHGVsc3QAAAAAAAAAAQAAw1AAAAgA\n",
              "AAEAAAAAGL1tZGlhAAAAIG1kaGQAAAAAAAAAAAAAAAAAACgAAAfQAFXEAAAAAAAtaGRscgAAAAAA\n",
              "AAAAdmlkZQAAAAAAAAAAAAAAAFZpZGVvSGFuZGxlcgAAABhobWluZgAAABR2bWhkAAAAAQAAAAAA\n",
              "AAAAAAAAJGRpbmYAAAAcZHJlZgAAAAAAAAABAAAADHVybCAAAAABAAAYKHN0YmwAAAC0c3RzZAAA\n",
              "AAAAAAABAAAApGF2YzEAAAAAAAAAAQAAAAAAAAAAAAAAAAAAAAAAoADSAEgAAABIAAAAAAAAAAEA\n",
              "AAAAAAAAAAAAAAAAAAAAAAAAAAAAAAAAAAAAAAAAAAAY//8AAAAyYXZjQwFkAAv/4QAZZ2QAC6zZ\n",
              "Qod+IhAAAAMAEAAAAwFA8UKZYAEABmjr48siwAAAABx1dWlka2hA8l8kT8W6OaUbzwMj8wAAAAAA\n",
              "AAAYc3R0cwAAAAAAAAABAAAB9AAABAAAAAAYc3RzcwAAAAAAAAACAAAAAQAAAPsAAA8oY3R0cwAA\n",
              "AAAAAAHjAAAAAQAACAAAAAABAAAUAAAAAAEAAAgAAAAAAQAAAAAAAAABAAAEAAAAAAEAABQAAAAA\n",
              "AQAACAAAAAABAAAAAAAAAAEAAAQAAAAAAQAAFAAAAAABAAAIAAAAAAEAAAAAAAAAAQAABAAAAAAB\n",
              "AAAMAAAAAAEAAAQAAAAAAQAAFAAAAAABAAAIAAAAAAEAAAAAAAAAAQAABAAAAAABAAAIAAAAAAEA\n",
              "AAwAAAAAAQAABAAAAAACAAAIAAAAAAEAAAwAAAAAAQAABAAAAAABAAAIAAAAAAEAABQAAAAAAQAA\n",
              "CAAAAAABAAAAAAAAAAEAAAQAAAAAAQAAFAAAAAABAAAIAAAAAAEAAAAAAAAAAQAABAAAAAABAAAI\n",
              "AAAAAAEAAAwAAAAAAQAABAAAAAABAAAUAAAAAAEAAAgAAAAAAQAAAAAAAAABAAAEAAAAAAEAABQA\n",
              "AAAAAQAACAAAAAABAAAAAAAAAAEAAAQAAAAAAQAAFAAAAAABAAAIAAAAAAEAAAAAAAAAAQAABAAA\n",
              "AAABAAAUAAAAAAEAAAgAAAAAAQAAAAAAAAABAAAEAAAAAAEAABQAAAAAAQAACAAAAAABAAAAAAAA\n",
              "AAEAAAQAAAAAAQAAFAAAAAABAAAIAAAAAAEAAAAAAAAAAQAABAAAAAABAAAUAAAAAAEAAAgAAAAA\n",
              "AQAAAAAAAAABAAAEAAAAAAEAABQAAAAAAQAACAAAAAABAAAAAAAAAAEAAAQAAAAAAQAAFAAAAAAB\n",
              "AAAIAAAAAAEAAAAAAAAAAQAABAAAAAABAAAUAAAAAAEAAAgAAAAAAQAAAAAAAAABAAAEAAAAAAEA\n",
              "ABQAAAAAAQAACAAAAAABAAAAAAAAAAEAAAQAAAAAAQAAFAAAAAABAAAIAAAAAAEAAAAAAAAAAQAA\n",
              "BAAAAAABAAAUAAAAAAEAAAgAAAAAAQAAAAAAAAABAAAEAAAAAAEAABQAAAAAAQAACAAAAAABAAAA\n",
              "AAAAAAEAAAQAAAAAAQAAFAAAAAABAAAIAAAAAAEAAAAAAAAAAQAABAAAAAABAAAUAAAAAAEAAAgA\n",
              "AAAAAQAAAAAAAAABAAAEAAAAAAEAABQAAAAAAQAACAAAAAABAAAAAAAAAAEAAAQAAAAAAQAAFAAA\n",
              "AAABAAAIAAAAAAEAAAAAAAAAAQAABAAAAAABAAAUAAAAAAEAAAgAAAAAAQAAAAAAAAABAAAEAAAA\n",
              "AAEAAAgAAAAAAQAAEAAAAAACAAAEAAAAAAIAAAgAAAAAAQAADAAAAAABAAAEAAAAAAEAAAgAAAAA\n",
              "AQAAFAAAAAABAAAIAAAAAAEAAAAAAAAAAQAABAAAAAABAAAUAAAAAAEAAAgAAAAAAQAAAAAAAAAB\n",
              "AAAEAAAAAAEAAAgAAAAAAQAAFAAAAAABAAAIAAAAAAEAAAAAAAAAAQAABAAAAAABAAAMAAAAAAEA\n",
              "AAQAAAAAAQAAFAAAAAABAAAIAAAAAAEAAAAAAAAAAQAABAAAAAABAAAUAAAAAAEAAAgAAAAAAQAA\n",
              "AAAAAAABAAAEAAAAAAEAABAAAAAAAgAABAAAAAABAAAMAAAAAAEAAAQAAAAAAQAAFAAAAAABAAAI\n",
              "AAAAAAEAAAAAAAAAAQAABAAAAAABAAAUAAAAAAEAAAgAAAAAAQAAAAAAAAABAAAEAAAAAAEAABQA\n",
              "AAAAAQAACAAAAAABAAAAAAAAAAEAAAQAAAAAAQAAFAAAAAABAAAIAAAAAAEAAAAAAAAAAQAABAAA\n",
              "AAABAAAUAAAAAAEAAAgAAAAAAQAAAAAAAAABAAAEAAAAAAEAABQAAAAAAQAACAAAAAABAAAAAAAA\n",
              "AAEAAAQAAAAAAQAAFAAAAAABAAAIAAAAAAEAAAAAAAAAAQAABAAAAAABAAAUAAAAAAEAAAgAAAAA\n",
              "AQAAAAAAAAABAAAEAAAAAAEAABQAAAAAAQAACAAAAAABAAAAAAAAAAEAAAQAAAAAAQAAFAAAAAAB\n",
              "AAAIAAAAAAEAAAAAAAAAAQAABAAAAAABAAAQAAAAAAIAAAQAAAAAAQAAFAAAAAABAAAIAAAAAAEA\n",
              "AAAAAAAAAQAABAAAAAABAAAUAAAAAAEAAAgAAAAAAQAAAAAAAAABAAAEAAAAAAEAAAwAAAAAAQAA\n",
              "BAAAAAABAAAQAAAAAAIAAAQAAAAAAQAAEAAAAAACAAAEAAAAAAEAAAwAAAAAAQAABAAAAAACAAAI\n",
              "AAAAAAEAABAAAAAAAgAABAAAAAACAAAIAAAAAAEAABQAAAAAAQAACAAAAAABAAAAAAAAAAEAAAQA\n",
              "AAAAAQAAFAAAAAABAAAIAAAAAAEAAAAAAAAAAQAABAAAAAABAAAIAAAAAAEAABQAAAAAAQAACAAA\n",
              "AAABAAAAAAAAAAEAAAQAAAAAAQAAFAAAAAABAAAIAAAAAAEAAAAAAAAAAQAABAAAAAABAAAUAAAA\n",
              "AAEAAAgAAAAAAQAAAAAAAAABAAAEAAAAAAEAABAAAAAAAgAABAAAAAABAAAUAAAAAAEAAAgAAAAA\n",
              "AQAAAAAAAAABAAAEAAAAAAEAABAAAAAAAgAABAAAAAABAAAIAAAAAAEAABQAAAAAAQAACAAAAAAB\n",
              "AAAAAAAAAAEAAAQAAAAAAQAAFAAAAAABAAAIAAAAAAEAAAAAAAAAAQAABAAAAAABAAAUAAAAAAEA\n",
              "AAgAAAAAAQAAAAAAAAABAAAEAAAAAAEAABQAAAAAAQAACAAAAAABAAAAAAAAAAEAAAQAAAAAAQAA\n",
              "FAAAAAABAAAIAAAAAAEAAAAAAAAAAQAABAAAAAABAAAUAAAAAAEAAAgAAAAAAQAAAAAAAAABAAAE\n",
              "AAAAAAEAABQAAAAAAQAACAAAAAABAAAAAAAAAAEAAAQAAAAAAQAAFAAAAAABAAAIAAAAAAEAAAAA\n",
              "AAAAAQAABAAAAAABAAAUAAAAAAEAAAgAAAAAAQAAAAAAAAABAAAEAAAAAAEAABQAAAAAAQAACAAA\n",
              "AAABAAAAAAAAAAEAAAQAAAAAAQAACAAAAAABAAAUAAAAAAEAAAgAAAAAAQAAAAAAAAABAAAEAAAA\n",
              "AAEAABQAAAAAAQAACAAAAAABAAAAAAAAAAEAAAQAAAAAAQAADAAAAAABAAAEAAAAAAEAABQAAAAA\n",
              "AQAACAAAAAABAAAAAAAAAAEAAAQAAAAAAQAAFAAAAAABAAAIAAAAAAEAAAAAAAAAAQAABAAAAAAC\n",
              "AAAIAAAAAAEAAAwAAAAAAQAABAAAAAABAAAIAAAAAAEAABQAAAAAAQAACAAAAAABAAAAAAAAAAEA\n",
              "AAQAAAAAAQAAFAAAAAABAAAIAAAAAAEAAAAAAAAAAQAABAAAAAABAAAUAAAAAAEAAAgAAAAAAQAA\n",
              "AAAAAAABAAAEAAAAAAEAABQAAAAAAQAACAAAAAABAAAAAAAAAAEAAAQAAAAAAQAAFAAAAAABAAAI\n",
              "AAAAAAEAAAAAAAAAAQAABAAAAAABAAAUAAAAAAEAAAgAAAAAAQAAAAAAAAABAAAEAAAAAAEAABQA\n",
              "AAAAAQAACAAAAAABAAAAAAAAAAEAAAQAAAAAAQAAEAAAAAACAAAEAAAAAAEAABQAAAAAAQAACAAA\n",
              "AAABAAAAAAAAAAEAAAQAAAAAAQAAFAAAAAABAAAIAAAAAAEAAAAAAAAAAQAABAAAAAABAAAUAAAA\n",
              "AAEAAAgAAAAAAQAAAAAAAAABAAAEAAAAAAEAABQAAAAAAQAACAAAAAABAAAAAAAAAAEAAAQAAAAA\n",
              "AQAAFAAAAAABAAAIAAAAAAEAAAAAAAAAAQAABAAAAAABAAAUAAAAAAEAAAgAAAAAAQAAAAAAAAAB\n",
              "AAAEAAAAAAEAABQAAAAAAQAACAAAAAABAAAAAAAAAAEAAAQAAAAAAQAAFAAAAAABAAAIAAAAAAEA\n",
              "AAAAAAAAAQAABAAAAAABAAAUAAAAAAEAAAgAAAAAAQAAAAAAAAABAAAEAAAAAAEAABQAAAAAAQAA\n",
              "CAAAAAABAAAAAAAAAAEAAAQAAAAAAQAAFAAAAAABAAAIAAAAAAEAAAAAAAAAAQAABAAAAAABAAAU\n",
              "AAAAAAEAAAgAAAAAAQAAAAAAAAABAAAEAAAAAAEAABQAAAAAAQAACAAAAAABAAAAAAAAAAEAAAQA\n",
              "AAAAAQAACAAAAAABAAAUAAAAAAEAAAgAAAAAAQAAAAAAAAABAAAEAAAAAAEAABQAAAAAAQAACAAA\n",
              "AAABAAAAAAAAAAEAAAQAAAAAAQAAFAAAAAABAAAIAAAAAAEAAAAAAAAAAQAABAAAAAABAAAQAAAA\n",
              "AAIAAAQAAAAAAQAACAAAAAABAAAUAAAAAAEAAAgAAAAAAQAAAAAAAAABAAAEAAAAAAEAABQAAAAA\n",
              "AQAACAAAAAABAAAAAAAAAAEAAAQAAAAAAQAAFAAAAAABAAAIAAAAAAEAAAAAAAAAAQAABAAAAAAB\n",
              "AAAUAAAAAAEAAAgAAAAAAQAAAAAAAAABAAAEAAAAAAEAABQAAAAAAQAACAAAAAABAAAAAAAAAAEA\n",
              "AAQAAAAAAQAAFAAAAAABAAAIAAAAAAEAAAAAAAAAAQAABAAAAAABAAAUAAAAAAEAAAgAAAAAAQAA\n",
              "AAAAAAABAAAEAAAAAAEAABQAAAAAAQAACAAAAAABAAAAAAAAAAEAAAQAAAAAAQAAFAAAAAABAAAI\n",
              "AAAAAAEAAAAAAAAAAQAABAAAAAABAAAMAAAAAAEAAAQAAAAAAQAAEAAAAAACAAAEAAAAAAEAABQA\n",
              "AAAAAQAACAAAAAABAAAAAAAAAAEAAAQAAAAAAQAAFAAAAAABAAAIAAAAAAEAAAAAAAAAAQAABAAA\n",
              "AAABAAAUAAAAAAEAAAgAAAAAAQAAAAAAAAABAAAEAAAAAAEAABQAAAAAAQAACAAAAAABAAAAAAAA\n",
              "AAEAAAQAAAAAAQAAFAAAAAABAAAIAAAAAAEAAAAAAAAAAQAABAAAAAABAAAQAAAAAAIAAAQAAAAA\n",
              "AQAACAAAAAABAAAUAAAAAAEAAAgAAAAAAQAAAAAAAAABAAAEAAAAAAEAABQAAAAAAQAACAAAAAAB\n",
              "AAAAAAAAAAEAAAQAAAAAAQAAFAAAAAABAAAIAAAAAAEAAAAAAAAAAQAABAAAAAABAAAUAAAAAAEA\n",
              "AAgAAAAAAQAAAAAAAAABAAAEAAAAAAEAABQAAAAAAQAACAAAAAABAAAAAAAAAAEAAAQAAAAAHHN0\n",
              "c2MAAAAAAAAAAQAAAAEAAAH0AAAAAQAAB+RzdHN6AAAAAAAAAAAAAAH0AAAItwAAAUoAAABxAAAA\n",
              "WwAAAEMAAABiAAAAPgAAADgAAAAvAAAAUgAAAE0AAAAtAAAAJgAAAHsAAAAeAAAAkQAAAFYAAAA1\n",
              "AAAAVwAAAGcAAACIAAAAUwAAAHAAAAA8AAAAoAAAAEgAAAEZAAAAmQAAAGIAAAA5AAAALAAAAJUA\n",
              "AACeAAAAVQAAAFMAAABnAAAAUQAAAFEAAACHAAAAbAAAAEwAAABoAAAAjQAAAEYAAAAtAAAANwAA\n",
              "AJgAAAByAAAAVwAAAGAAAAC6AAAARgAAAE4AAAA7AAAAkAAAAGAAAAA/AAAAPQAAAHYAAAAzAAAA\n",
              "LQAAACcAAAD4AAAAMAAAADQAAAAVAAAAHQAAAA8AAAANAAAADQAAABYAAAAPAAAADQAAAA0AAAAW\n",
              "AAAADwAAAA0AAAANAAAAFgAAAA8AAAANAAAADQAAACIAAAAPAAAADQAAAA0AAAAWAAAADwAAAA0A\n",
              "AAANAAAAFgAAAA8AAAANAAAADQAAAOsAAAAdAAAADQAAAGwAAAEEAAAATAAAAGAAAAA6AAAAbQAA\n",
              "ADsAAAAuAAAANwAAAGUAAABAAAAALgAAACQAAACXAAAAVwAAAEYAAABBAAAARgAAAI4AAAA/AAAA\n",
              "TwAAAFsAAABvAAAA7QAAAEsAAABmAAAArQAAAFQAAAA7AAAAKgAAAKsAAACFAAAAYQAAAFEAAAB8\n",
              "AAAAeAAAAEsAAAA+AAAAQQAAAG0AAABIAAAAjgAAAD4AAAA0AAAALwAAAIkAAABkAAAASwAAAGsA\n",
              "AAC/AAAANwAAAEsAAABpAAAARgAAAIwAAABSAAAAOQAAAFoAAABzAAAANgAAACoAAAAyAAAA6wAA\n",
              "ACcAAAA3AAAAFQAAAB0AAAAPAAAADQAAAA0AAAAWAAAADwAAAA0AAAANAAAAFgAAAA8AAAANAAAA\n",
              "DQAAACAAAAAPAAAADQAAAA0AAAAWAAAADwAAAA0AAAANAAAAFgAAAA8AAAANAAAADQAAABYAAAAP\n",
              "AAAADQAAAA0AAADgAAAAHQAAAFgAAAEbAAAATAAAAF8AAABCAAAANAAAAEAAAAAuAAAAOQAAAGQA\n",
              "AAAvAAAAZwAAACsAAAAqAAAAlgAAADkAAABAAAAAdQAAAEQAAABXAAAASgAAAJYAAABBAAAANwAA\n",
              "ARIAAABhAAAAogAAAFcAAABEAAAALwAAAKEAAACAAAAATQAAAEgAAAB8AAAAeAAAAEsAAABFAAAA\n",
              "QgAAAI8AAABiAAAAUgAAADgAAACPAAAAOgAAAB0AAABKAAAAowAAAF0AAABGAAAAqgAAAF4AAABL\n",
              "AAAATAAAAIAAAAAvAAAAPgAAB4sAAACIAAAAMwAAACYAAAAzAAAA1AAAABsAAAAtAAAADQAAABwA\n",
              "AAAPAAAADQAAAA0AAAAWAAAADwAAAA0AAAANAAAAFgAAAA8AAAANAAAADQAAABYAAAAPAAAADQAA\n",
              "AA0AAAAWAAAADwAAAA0AAAANAAAAFgAAAA8AAAANAAAADQAAABYAAAAPAAAADQAAAA0AAAELAAAA\n",
              "jgAAABsAAABMAAAAvAAAAJEAAABCAAAAMgAAADMAAABdAAAAOQAAADwAAAA5AAAARAAAACMAAACA\n",
              "AAAAUwAAAE4AAAA/AAAAkgAAAGUAAAAyAAAASQAAAGAAAACCAAAA7AAAAEoAAABjAAAArQAAAFcA\n",
              "AAA7AAAAKwAAALIAAAB5AAAAbQAAAFAAAACfAAAATwAAADwAAABLAAAAngAAAGcAAABDAAAATAAA\n",
              "AIwAAAAyAAAALAAAABoAAACeAAAAZQAAAFMAAABFAAAAtAAAAFYAAABWAAAASgAAAJ0AAAAvAAAA\n",
              "QAAAAGsAAAA3AAAANQAAAC8AAADUAAAAMwAAAEkAAAAdAAAAFgAAAA8AAAANAAAADQAAABYAAAAP\n",
              "AAAADQAAAA0AAAAWAAAADwAAAA0AAAANAAAAFgAAAA8AAAANAAAADQAAACYAAAAPAAAADQAAAA0A\n",
              "AAAlAAAADwAAAA0AAAANAAAAFgAAAA8AAAANAAAADQAAA3UAAAAnAAAADQAAAEgAAABdAAAALAAA\n",
              "ACYAAAARAAAAMgAAACkAAAAgAAAAHAAAADwAAAAiAAAAGwAAABwAAAA+AAAAnwAAAE0AAAApAAAA\n",
              "WgAAAJkAAAAsAAAANwAAACcAAAAvAAAAMAAAACAAAAAgAAAAKwAAAB8AAAAbAAAAXAAAARsAAABa\n",
              "AAAAOAAAABkAAAAdAAAAEgAAAA8AAAAPAAAAFgAAABIAAAAPAAAADwAAABYAAAASAAAADwAAAA8A\n",
              "AAAWAAAAEgAAAA8AAAAPAAAAFgAAABIAAAAPAAAADwAAABYAAAASAAAADwAAAA8AAAAWAAAAEgAA\n",
              "AA8AAAAPAAAAmQAAABcAAAAPAAAAOQAAAEIAAAAjAAAAFgAAACYAAAARAAAAOQAAACIAAAAkAAAA\n",
              "HAAAADMAAAAnAAAAIAAAACUAAAB7AAAAXwAAABQAAABTAAAAcwAAACEAAAAqAAAAJAAAADoAAAAv\n",
              "AAAAIwAAACkAAABGAAAAIgAAACUAAABEAAAA9QAAAGYAAAA9AAAAGgAAABYAAAAUAAAAEgAAABIA\n",
              "AAAWAAAAFAAAABIAAAASAAAAFgAAABQAAAASAAAAEgAAABYAAAAUAAAAEgAAABIAAAAUc3RjbwAA\n",
              "AAAAAAABAAAALAAAAGJ1ZHRhAAAAWm1ldGEAAAAAAAAAIWhkbHIAAAAAAAAAAG1kaXJhcHBsAAAA\n",
              "AAAAAAAAAAAALWlsc3QAAAAlqXRvbwAAAB1kYXRhAAAAAQAAAABMYXZmNTcuODMuMTAw\n",
              "\">\n",
              "  Your browser does not support the video tag.\n",
              "</video>"
            ]
          },
          "metadata": {},
          "execution_count": 199
        }
      ],
      "source": [
        "HTML(anim.to_html5_video())"
      ]
    },
    {
      "cell_type": "code",
      "execution_count": null,
      "metadata": {
        "colab": {
          "base_uri": "https://localhost:8080/",
          "height": 678
        },
        "id": "7dgSogEPaR2J",
        "outputId": "db7c5713-101f-4ed8-92d1-a186b0522711"
      },
      "outputs": [
        {
          "output_type": "execute_result",
          "data": {
            "text/plain": [
              "<IPython.core.display.HTML object>"
            ],
            "text/html": [
              "\n",
              "<video width=500 controls>\n",
              "      <source src=\"data:video/mp4;base64,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\" type=\"video/mp4\">\n",
              "</video>\n"
            ]
          },
          "metadata": {},
          "execution_count": 200
        }
      ],
      "source": [
        "from IPython.display import HTML\n",
        "from base64 import b64encode\n",
        "mp4 = open('/content/tennis_no_ai.mp4','rb').read()\n",
        "data_url = \"data:video/mp4;base64,\" + b64encode(mp4).decode()\n",
        "HTML(\"\"\"\n",
        "<video width=500 controls>\n",
        "      <source src=\"%s\" type=\"video/mp4\">\n",
        "</video>\n",
        "\"\"\" % data_url)"
      ]
    },
    {
      "cell_type": "code",
      "execution_count": null,
      "metadata": {
        "id": "Sqrzq07egqd8"
      },
      "outputs": [],
      "source": [
        "\n",
        "import cv2\n",
        "import numpy as np\n",
        "\n",
        "\n",
        "def resize_frame(frame):\n",
        "    frame = frame[30:-12,5:-4]\n",
        "    #frame = np.average(frame,axis = 2)\n",
        "    frame = cv2.cvtColor(frame, cv2.COLOR_BGR2GRAY)\n",
        "    frame = cv2.resize(frame,(200,200),interpolation = cv2.INTER_NEAREST)\n",
        "    frame = np.array(frame,dtype = np.uint8)\n",
        "    \n",
        "    return frame\n"
      ]
    },
    {
      "cell_type": "code",
      "execution_count": null,
      "metadata": {
        "colab": {
          "base_uri": "https://localhost:8080/",
          "height": 182
        },
        "id": "-F0989HLhEAs",
        "outputId": "bb2669ce-b0b3-408e-eb11-7ae45bd98d87"
      },
      "outputs": [
        {
          "data": {
            "image/png": "[encoded data removed]",
            "text/plain": [
              "<Figure size 200x200 with 1 Axes>"
            ]
          },
          "metadata": {},
          "output_type": "display_data"
        }
      ],
      "source": [
        "import gym\n",
        "from gym.utils.save_video import save_video\n",
        "import numpy as np\n",
        "\n",
        "#ENV = \"FrozenLake-v1\"\n",
        "#ENV = 'ALE/Breakout-v5'\n",
        "#ENV = 'Breakout-v4'\n",
        "#ENV ='Pong-v4'\n",
        "#ENV =\"ALE/KungFuMaster-v5\"\n",
        "ENV = 'ALE/Tennis-v5'\n",
        "#env = gym.make(ENV, render_mode=\"rgb_array_list\")\n",
        "env = gym.make(ENV,render_mode='rgb_array')\n",
        "frames = []\n",
        "env.reset()\n",
        "step_starting_index = 0\n",
        "episode_index = 0\n",
        "terminated = False\n",
        "\n",
        "env.unwrapped.get_action_meanings()\n",
        "\n",
        "for step_index in range(500):\n",
        "   action = np.random.randint(0, len(env.unwrapped.get_action_meanings())) \n",
        "   env.render()\n",
        "   observation, reward, terminated, truncated, info = env.step(action)\n",
        "   frames.append(resize_frame(observation))\n",
        "\n",
        "   if terminated or truncated:\n",
        "      step_starting_index = step_index + 1\n",
        "      episode_index += 1\n",
        "      env.reset()\n",
        "  \n",
        "env.close()\n",
        "display_frames_as_gif(frames)"
      ]
    },
    {
      "cell_type": "code",
      "execution_count": null,
      "metadata": {
        "id": "h-95Q-9xhV80"
      },
      "outputs": [],
      "source": [
        "plt.figure(figsize=(frames[0].shape[1]/72.0, frames[0].shape[0]/72.0),dpi=72)\n",
        "#patch = plt.imshow(frames[0])\n",
        "patch = plt.imshow(frames[0])\n",
        "plt.axis('off')\n",
        "def animate(i):\n",
        "  patch.set_data(frames[i])\n",
        "\n",
        "anim = animation.FuncAnimation(plt.gcf(), animate, frames=len(frames),interval=100)\n",
        "HTML(anim.to_html5_video())"
      ]
    },
    {
      "cell_type": "code",
      "execution_count": null,
      "metadata": {
        "colab": {
          "base_uri": "https://localhost:8080/",
          "height": 520
        },
        "id": "S6mZCBIMhYLq",
        "outputId": "929e50eb-24eb-445b-d18c-bcd86b99f4f7"
      },
      "outputs": [
        {
          "data": {
            "text/html": [
              "\n",
              "<video width=500 controls>\n",
              "      <source src=\"data:video/mp4;base64,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\" type=\"video/mp4\">\n",
              "</video>\n"
            ],
            "text/plain": [
              "<IPython.core.display.HTML object>"
            ]
          },
          "execution_count": 149,
          "metadata": {},
          "output_type": "execute_result"
        }
      ],
      "source": [
        "from IPython.display import HTML\n",
        "from base64 import b64encode\n",
        "mp4 = open('/content/tennis_no_ai.mp4','rb').read()\n",
        "data_url = \"data:video/mp4;base64,\" + b64encode(mp4).decode()\n",
        "HTML(\"\"\"\n",
        "<video width=500 controls>\n",
        "      <source src=\"%s\" type=\"video/mp4\">\n",
        "</video>\n",
        "\"\"\" % data_url)"
      ]
    },
    {
      "cell_type": "markdown",
      "source": [
        "#model"
      ],
      "metadata": {
        "id": "xVzjmXbFivZ0"
      }
    },
    {
      "cell_type": "code",
      "execution_count": null,
      "metadata": {
        "id": "yw_g4SE3MKok"
      },
      "outputs": [],
      "source": [
        "\n",
        "# namedtuple 생성\n",
        "from collections import namedtuple\n",
        "\n",
        "Transition = namedtuple(\n",
        "    'Transition', ('state', 'action', 'next_state', 'reward'))\n"
      ]
    },
    {
      "cell_type": "code",
      "execution_count": null,
      "metadata": {
        "id": "fBpPFmbgMTck"
      },
      "outputs": [],
      "source": [
        "GAMMA = 0.99  # 시간할인율\n",
        "MAX_STEPS = 10000000  # 1에피소드 당 최대 단계 수\n",
        "NUM_EPISODES = 300000000  # 최대 에피소드 수"
      ]
    },
    {
      "cell_type": "code",
      "execution_count": null,
      "metadata": {
        "id": "fGUxBvF6QN5D"
      },
      "outputs": [],
      "source": [
        "\n",
        "import cv2\n",
        "import numpy as np\n",
        "\n",
        "\n",
        "def resize_frame(frame):\n",
        "    frame = frame[30:-12,5:-4]\n",
        "    frame = cv2.cvtColor(frame, cv2.COLOR_BGR2GRAY)\n",
        "    frame = cv2.resize(frame,(84,84),interpolation = cv2.INTER_NEAREST)\n",
        "    frame = np.array(frame,dtype = np.uint8)\n",
        "   \n",
        "    \n",
        "    return frame"
      ]
    },
    {
      "cell_type": "code",
      "execution_count": null,
      "metadata": {
        "id": "mXqIBxPrMUyS"
      },
      "outputs": [],
      "source": [
        "# transition을 저장하기 위한 메모리 클래스\n",
        "\n",
        "\n",
        "class ReplayMemory:\n",
        "\n",
        "    def __init__(self, CAPACITY):\n",
        "        self.capacity = CAPACITY  # 메모리의 최대 저장 건수\n",
        "        self.memory = []  # 실제 transition을 저장할 변수\n",
        "        self.index = 0  # 저장 위치를 가리킬 인덱스 변수\n",
        "\n",
        "    def push(self, state, action, state_next, reward):\n",
        "        '''transition = (state, action, state_next, reward)을 메모리에 저장'''\n",
        "\n",
        "        if len(self.memory) < self.capacity:\n",
        "            self.memory.append(None)  # 메모리가 가득차지 않은 경우\n",
        "\n",
        "        # Transition이라는 namedtuple을 사용하여 키-값 쌍의 형태로 값을 저장\n",
        "        self.memory[self.index] = Transition(state, action, state_next, reward)\n",
        "\n",
        "        self.index = (self.index + 1) % self.capacity  # 다음 저장할 위치를 한 자리 뒤로 수정\n",
        "\n",
        "    def sample(self, batch_size):\n",
        "        '''batch_size 갯수 만큼 무작위로 저장된 transition을 추출'''\n",
        "        return random.sample(self.memory, batch_size)\n",
        "\n",
        "    def __len__(self):\n",
        "        '''len 함수로 현재 저장된 transition 갯수를 반환'''\n",
        "        return len(self.memory)\n"
      ]
    },
    {
      "cell_type": "code",
      "execution_count": null,
      "metadata": {
        "id": "EQkSSqWpMmzd"
      },
      "outputs": [],
      "source": [
        "# CartPole 태스크의 에이전트 클래스. 봉 달린 수레 자체라고 보면 된다\n",
        "\n",
        "\n",
        "class Agent:\n",
        "    def __init__(self, num_states, num_actions):\n",
        "        '''태스크의 상태 및 행동의 가짓수를 설정'''\n",
        "        self.brain = Brain(num_states, num_actions)  # 에이전트의 행동을 결정할 두뇌 역할 객체를 생성\n",
        "\n",
        "    def update_q_function(self):\n",
        "        '''Q함수를 수정'''\n",
        "        self.brain.replay()\n",
        "\n",
        "    def get_action(self, state, episode):\n",
        "        '''행동을 결정'''\n",
        "        action = self.brain.decide_action(state, episode)\n",
        "        return action\n",
        "\n",
        "    def memorize(self, state, action, state_next, reward):\n",
        "        '''memory 객체에 state, action, state_next, reward 내용을 저장'''\n",
        "        self.brain.memory.push(state, action, state_next, reward)\n"
      ]
    },
    {
      "cell_type": "code",
      "execution_count": null,
      "metadata": {
        "id": "SQApFqE0i8hJ"
      },
      "outputs": [],
      "source": [
        "from JSAnimation.IPython_display import display_animation\n",
        "from matplotlib import animation\n",
        "from IPython.display import display\n",
        "from IPython.display import HTML\n",
        "\n",
        "%matplotlib inline\n",
        "a = np.array(0)\n",
        "def display_frames_as_gif(frames,episode,step):\n",
        "    \"\"\"\n",
        "    Displays a list of frames as a gif, with controls\n",
        "    \"\"\"\n",
        "    #print(frames)\n",
        "    frames = np.array(frames)\n",
        "    print(frames.shape)\n",
        "    plt.figure(figsize=(frames[0].shape[1]/72.0, frames[0].shape[0]/72.0),dpi=72)\n",
        "    patch = plt.imshow(frames[0])\n",
        "    plt.axis('off')\n",
        "    \n",
        "    def animate(i):\n",
        "        patch.set_data(frames[i])\n",
        "\n",
        "    anim = animation.FuncAnimation(plt.gcf(), animate, frames=len(frames),interval=100)\n",
        "\n",
        "\n",
        "    #anim.save('tennis.mp4')  # 주석 추가 : 애니메이션을 저장하는 부분\n",
        "    anim.save('tennis'+str(episode)+'_'+str(step)+'.mp4')  # 주석 추가 : 애니메이션을 저장하는 부분\n"
      ]
    },
    {
      "cell_type": "markdown",
      "source": [
        "#1"
      ],
      "metadata": {
        "id": "OZH82BTn1NFd"
      }
    },
    {
      "cell_type": "code",
      "source": [
        "# 에이전트의 두뇌 역할을 하는 클래스, DQN을 실제 수행한다\n",
        "# Q함수를 딥러닝 신경망 형태로 정의\n",
        "\n",
        "import random\n",
        "import torch\n",
        "from torch import nn\n",
        "from torch import optim\n",
        "import torch.nn.functional as F\n",
        "import matplotlib.pyplot as plt\n",
        "BATCH_SIZE = 64\n",
        "CAPACITY = 100000\n",
        "\n",
        "\n",
        "class Brain:\n",
        "    def __init__(self, num_states, num_actions):\n",
        "        self.num_actions = num_actions  # 행동의 가짓수(왼쪽, 오른쪽)를 구함\n",
        "\n",
        "        # transition을 기억하기 위한 메모리 객체 생성\n",
        "        self.memory = ReplayMemory(CAPACITY)\n",
        "        \n",
        "        # 신경망 구성\n",
        "        self.model = nn.Sequential()\n",
        "        \n",
        "        self.model.add_module('fc1', nn.Linear(84*84,2000))\n",
        "        self.model.add_module('relu1', nn.ReLU())\n",
        "        self.model.add_module('fc5', nn.Linear(2000, num_actions))\n",
        "\n",
        "        #print(self.model)  # 신경망 구조 출력\n",
        "        \n",
        "        # 최적화 기법 선택\n",
        "        self.optimizer = optim.Adam(self.model.parameters(), lr=0.0001)\n",
        "\n",
        "    def replay(self):\n",
        "        '''Experience Replay로 신경망의 결합 가중치 학습'''\n",
        "\n",
        "        # -----------------------------------------\n",
        "        # 1. 저장된 transition 수 확인\n",
        "        # -----------------------------------------\n",
        "        # 1.1 저장된 transition의 수가 미니배치 크기보다 작으면 아무 것도 하지 않음\n",
        "        if len(self.memory) < BATCH_SIZE:\n",
        "            return\n",
        "\n",
        "        # -----------------------------------------\n",
        "        # 2. 미니배치 생성\n",
        "        # -----------------------------------------\n",
        "        # 2.1 메모리 객체에서 미니배치를 추출\n",
        "        transitions = self.memory.sample(BATCH_SIZE)\n",
        "\n",
        "        # 2.2 각 변수를 미니배치에 맞는 형태로 변형\n",
        "        # transitions는 각 단계 별로 (state, action, state_next, reward) 형태로 BATCH_SIZE 갯수만큼 저장됨\n",
        "        # 다시 말해, (state, action, state_next, reward) * BATCH_SIZE 형태가 된다\n",
        "        # 이것을 미니배치로 만들기 위해\n",
        "        # (state*BATCH_SIZE, action*BATCH_SIZE, state_next*BATCH_SIZE, reward*BATCH_SIZE) 형태로 변환한다\n",
        "        batch = Transition(*zip(*transitions))\n",
        "\n",
        "        # 2.3 각 변수의 요소를 미니배치에 맞게 변형하고, 신경망으로 다룰 수 있도록 Variable로 만든다\n",
        "        # state를 예로 들면, [torch.FloatTensor of size 1*4] 형태의 요소가 BATCH_SIZE 갯수만큼 있는 형태이다\n",
        "        # 이를 torch.FloatTensor of size BATCH_SIZE*4 형태로 변형한다\n",
        "        # 상태, 행동, 보상, non_final 상태로 된 미니배치를 나타내는 Variable을 생성\n",
        "        # cat은 Concatenates(연접)을 의미한다\n",
        "        state_batch = torch.cat(batch.state)\n",
        "        action_batch = torch.cat(batch.action)\n",
        "        reward_batch = torch.cat(batch.reward)\n",
        "        non_final_next_states = torch.cat([s for s in batch.next_state\n",
        "                                           if s is not None])\n",
        "\n",
        "        # -----------------------------------------\n",
        "        # 3. 정답신호로 사용할 Q(s_t, a_t)를 계산\n",
        "        # -----------------------------------------\n",
        "        # 3.1 신경망을 추론 모드로 전환\n",
        "        self.model.eval()\n",
        "\n",
        "        # 3.2 신경망으로 Q(s_t, a_t)를 계산\n",
        "        # self.model(state_batch)은 왼쪽, 오른쪽에 대한 Q값을 출력하며\n",
        "        # [torch.FloatTensor of size BATCH_SIZEx2] 형태이다\n",
        "        # 여기서부터는 실행한 행동 a_t에 대한 Q값을 계산하므로 action_batch에서 취한 행동 a_t가 \n",
        "        # 왼쪽이냐 오른쪽이냐에 대한 인덱스를 구하고, 이에 대한 Q값을 gather 메서드로 모아온다\n",
        "        state_action_values = self.model(state_batch).gather(1, action_batch)\n",
        "\n",
        "        # 3.3 max{Q(s_t+1, a)}값을 계산한다 이때 다음 상태가 존재하는지에 주의해야 한다\n",
        "\n",
        "        # cartpole이 done 상태가 아니고, next_state가 존재하는지 확인하는 인덱스 마스크를 만듬\n",
        "        non_final_mask = torch.ByteTensor(tuple(map(lambda s: s is not None,\n",
        "                                                    batch.next_state)))\n",
        "        # 먼저 전체를 0으로 초기화\n",
        "        next_state_values = torch.zeros(BATCH_SIZE)\n",
        "\n",
        "        # 다음 상태가 있는 인덱스에 대한 최대 Q값을 구한다\n",
        "        # 출력에 접근하여 열방향 최대값(max(1))이 되는 [값, 인덱스]를 구한다\n",
        "        # 그리고 이 Q값(인덱스=0)을 출력한 다음\n",
        "        # detach 메서드로 이 값을 꺼내온다\n",
        "        next_state_values[non_final_mask] = self.model(\n",
        "            non_final_next_states).max(1)[0].detach()\n",
        "\n",
        "        # 3.4 정답신호로 사용할 Q(s_t, a_t)값을 Q러닝 식으로 계산한다\n",
        "        expected_state_action_values = reward_batch + GAMMA * next_state_values\n",
        "\n",
        "        # -----------------------------------------\n",
        "        # 4. 결합 가중치 수정\n",
        "        # -----------------------------------------\n",
        "        # 4.1 신경망을 학습 모드로 전환\n",
        "        self.model.train()\n",
        "\n",
        "        # 4.2 손실함수를 계산 (smooth_l1_loss는 Huber 함수)\n",
        "        # expected_state_action_values은\n",
        "        # size가 [minibatch]이므로 unsqueeze하여 [minibatch*1]로 만든다\n",
        "        loss = F.smooth_l1_loss(state_action_values,\n",
        "                                expected_state_action_values.unsqueeze(1))\n",
        "\n",
        "        # 4.3 결합 가중치를 수정한다\n",
        "        self.optimizer.zero_grad()  # 경사를 초기화\n",
        "        loss.backward()  # 역전파 계산\n",
        "        self.optimizer.step()  # 결합 가중치 수정\n",
        "\n",
        "    def decide_action(self, state, episode):\n",
        "        '''현재 상태에 따라 행동을 결정한다'''\n",
        "        # ε-greedy 알고리즘에서 서서히 최적행동의 비중을 늘린다\n",
        "        epsilon = 0.5 * (1 / (episode + 1))\n",
        "\n",
        "        if epsilon <= np.random.uniform(0, 1):\n",
        "            self.model.eval()  # 신경망을 추론 모드로 전환\n",
        "            with torch.no_grad():\n",
        "                #action = self.model(state).max(1)[1].view(1, 1)\n",
        "                \n",
        "                action = self.model(state).max(1)[1].view(1, 1)\n",
        "                \n",
        "            # 신경망 출력의 최댓값에 대한 인덱스 = max(1)[1]\n",
        "            # .view(1,1)은 [torch.LongTensor of size 1] 을 size 1*1로 변환하는 역할을 한다\n",
        "\n",
        "        else:\n",
        "            # 행동을 무작위로 반환(0 혹은 1)\n",
        "            action = torch.LongTensor(\n",
        "                [[random.randrange(self.num_actions)]])  # 행동을 무작위로 반환(0 혹은 1)\n",
        "            # action은 [torch.LongTensor of size 1*1] 형태가 된다\n",
        "\n",
        "        return action"
      ],
      "metadata": {
        "id": "lHr5VtHe0MlN"
      },
      "execution_count": null,
      "outputs": []
    },
    {
      "cell_type": "code",
      "source": [
        "# CartPole을 실행하는 환경 역할을 하는 클래스\n",
        "\n",
        "import random\n",
        "\n",
        "class Environment:\n",
        "\n",
        "    def __init__(self):\n",
        "        self.env = gym.make(ENV,render_mode='rgb_array')  # 태스크를 설정\n",
        "        num_states = self.env.observation_space.shape[0]  # 태스크의 상태 변수 수를 받아옴\n",
        "        num_actions = self.env.action_space.n  # 태스크의 행동 가짓수를 받아옴\n",
        "        self.agent = Agent(num_states, num_actions)  # 에이전트 역할을 할 객체를 생성\n",
        "  \n",
        "\n",
        "        \n",
        "    def run(self):\n",
        "        '''실행'''\n",
        "        episode_10_list = np.zeros(10)  # 최근 10에피소드 동안 버틴 단계 수를 저장함(평균 단계 수를 출력할 때 사용)\n",
        "        complete_episodes = 0  # 현재까지 195단계를 버틴 에피소드 수\n",
        "        episode_final = False  # 마지막 에피소드 여부\n",
        "        frames = []  # 애니메이션을 만들기 위해 마지막 에피소드의 프레임을 저장할 배열\n",
        "        \n",
        "        for episode in range(NUM_EPISODES):  # 최대 에피소드 수만큼 반복\n",
        "            observation = self.env.reset()  # 환경 초기화\n",
        "            frames = [] \n",
        "            episode_final = False\n",
        "            observation = list(observation)\n",
        "\n",
        "            frames.append(observation[0])\n",
        "            \n",
        "            state = resize_frame(observation[0])\n",
        "\n",
        "            state = state.reshape(1,84*84)\n",
        "            state = torch.from_numpy(state).type(torch.FloatTensor)  # NumPy 변수를 파이토치 텐서로 변환\n",
        "            last_step = 0\n",
        "            episode_reward = 0.0\n",
        "            for step in range(MAX_STEPS):  # 1 에피소드에 해당하는 반복문\n",
        "\n",
        "                #self.env.render()\n",
        "                action = self.agent.get_action(state, episode)  # 다음 행동을 결정\n",
        "\n",
        "                # 행동 a_t를 실행하여 다음 상태 s_{t+1}과 done 플래그 값을 결정\n",
        "                # action에 .item()을 호출하여 행동 내용을 구함\n",
        "                \n",
        "                self.env.render()\n",
        "                observation_next, step_reward, terminated, truncated, info = self.env.step(action.item())  \n",
        "                #print(observation_next)\n",
        "                #observation_next = observation\n",
        "                frames.append(observation_next)\n",
        "                pre_step = step-last_step\n",
        "                if step_reward ==-1 :\n",
        "                  episode_reward = episode_reward-1.0\n",
        "                  complete_episodes = 0  # 연속 성공 에피소드 기록을 초기화\n",
        "      \n",
        "\n",
        "                elif step_reward==1 or pre_step>10 :\n",
        "                  last_step = step\n",
        "                  if step_reward == 1:\n",
        "                    episode_reward = episode_reward+100.0\n",
        "                  else:\n",
        "                    episode_reward = episode_reward+1.0\n",
        "\n",
        "                \n",
        "                elif step_reward==0:\n",
        "\n",
        "                  state_next = observation_next  # 관측 결과를 그대로 상태로 사용\n",
        "                  state_next = resize_frame(state_next)\n",
        "                \n",
        "                  state_next = state_next.reshape(1,84*84)\n",
        "                  \n",
        "                  state_next = torch.from_numpy(state_next).type(torch.FloatTensor)  # numpy 변수를 파이토치 텐서로 변환\n",
        "                  #state_next = torch.unsqueeze(state_next, 0)  # size 4를 size 1*4로 변환///////////////////////////////\n",
        "                  #state_next = state_next.unsqueeze(0)\n",
        "                \n",
        "                # 메모리에 경험을 저장\n",
        "                reward = torch.FloatTensor([episode_reward])\n",
        "                self.agent.memorize(state, action, state_next, reward)\n",
        "                #print(reward)\n",
        "                # Experience Replay로 Q함수를 수정\n",
        "                self.agent.update_q_function()\n",
        "\n",
        "       \n",
        "\n",
        "                # 관측 결과를 업데이트\n",
        "                state = state_next\n",
        "                episode_10_list = np.hstack(\n",
        "                        (episode_10_list[1:], step + 1))\n",
        "                \n",
        "                # 에피소드 종료 처리\n",
        "                if step_reward==1 or step_reward==-1 :\n",
        "                    print('%d Episode: Finished after %d steps：최근 10 에피소드의 평균 단계 수 = %.1lf 보상: %1lf' % (\n",
        "                        episode, step + 1, episode_10_list.mean(),reward))\n",
        "                    if step_reward ==1:\n",
        "                      episode_final=True\n",
        "                    break\n",
        "            if episode_final is True:\n",
        "\n",
        "                # 애니메이션 생성 및 저장\n",
        "              display_frames_as_gif(frames,episode,step)\n",
        "                #break\n",
        "            if step>500:\n",
        "\n",
        "              display_frames_as_gif(frames,episode,step)\n",
        "\n",
        "            '''\n",
        "            # 10 에피소드 연속으로 195단계를 버티면 태스크 성공\n",
        "            if step >= 3000:\n",
        "                print('3000 성공')\n",
        "                episode_final = True  # 다음 에피소드에서 애니메이션을 생성\n",
        "            '''\n"
      ],
      "metadata": {
        "id": "AZFzLbEbzZpc"
      },
      "execution_count": null,
      "outputs": []
    },
    {
      "cell_type": "code",
      "source": [
        "# 실행 엔트리 포인트\n",
        "cartpole_env = Environment()\n",
        "cartpole_env.run()"
      ],
      "metadata": {
        "colab": {
          "base_uri": "https://localhost:8080/"
        },
        "id": "9eWqan2LLcs7",
        "outputId": "4d8eb991-6e0c-4326-b969-00eab6d719b7"
      },
      "execution_count": null,
      "outputs": [
        {
          "metadata": {
            "tags": null
          },
          "name": "stderr",
          "output_type": "stream",
          "text": [
            "/usr/local/lib/python3.8/dist-packages/gym/utils/passive_env_checker.py:289: UserWarning: \u001b[33mWARN: No render fps was declared in the environment (env.metadata['render_fps'] is None or not defined), rendering may occur at inconsistent fps.\u001b[0m\n",
            "  logger.warn(\n"
          ]
        },
        {
          "metadata": {
            "tags": null
          },
          "name": "stdout",
          "output_type": "stream",
          "text": [
            "0 Episode: Finished after 34 steps：최근 10 에피소드의 평균 단계 수 = 29.5 보상: 1.000000\n"
          ]
        },
        {
          "metadata": {
            "tags": null
          },
          "name": "stderr",
          "output_type": "stream",
          "text": [
            "<ipython-input-353-1e51c76bd112>:112: UserWarning: indexing with dtype torch.uint8 is now deprecated, please use a dtype torch.bool instead. (Triggered internally at  ../aten/src/ATen/native/IndexingUtils.h:27.)\n",
            "  next_state_values[non_final_mask] = self.model(\n"
          ]
        },
        {
          "metadata": {
            "tags": null
          },
          "name": "stdout",
          "output_type": "stream",
          "text": [
            "1 Episode: Finished after 66 steps：최근 10 에피소드의 평균 단계 수 = 61.5 보상: 4.000000\n",
            "2 Episode: Finished after 35 steps：최근 10 에피소드의 평균 단계 수 = 30.5 보상: 2.000000\n",
            "3 Episode: Finished after 34 steps：최근 10 에피소드의 평균 단계 수 = 29.5 보상: 1.000000\n",
            "4 Episode: Finished after 35 steps：최근 10 에피소드의 평균 단계 수 = 30.5 보상: 2.000000\n",
            "5 Episode: Finished after 35 steps：최근 10 에피소드의 평균 단계 수 = 30.5 보상: 2.000000\n",
            "6 Episode: Finished after 34 steps：최근 10 에피소드의 평균 단계 수 = 29.5 보상: 1.000000\n",
            "7 Episode: Finished after 34 steps：최근 10 에피소드의 평균 단계 수 = 29.5 보상: 1.000000\n",
            "8 Episode: Finished after 70 steps：최근 10 에피소드의 평균 단계 수 = 65.5 보상: 5.000000\n",
            "9 Episode: Finished after 129 steps：최근 10 에피소드의 평균 단계 수 = 124.5 보상: 10.000000\n",
            "10 Episode: Finished after 35 steps：최근 10 에피소드의 평균 단계 수 = 30.5 보상: 2.000000\n",
            "11 Episode: Finished after 49 steps：최근 10 에피소드의 평균 단계 수 = 44.5 보상: 3.000000\n",
            "12 Episode: Finished after 35 steps：최근 10 에피소드의 평균 단계 수 = 30.5 보상: 2.000000\n",
            "13 Episode: Finished after 34 steps：최근 10 에피소드의 평균 단계 수 = 29.5 보상: 1.000000\n",
            "14 Episode: Finished after 35 steps：최근 10 에피소드의 평균 단계 수 = 30.5 보상: 2.000000\n",
            "15 Episode: Finished after 66 steps：최근 10 에피소드의 평균 단계 수 = 61.5 보상: 4.000000\n",
            "16 Episode: Finished after 179 steps：최근 10 에피소드의 평균 단계 수 = 174.5 보상: 15.000000\n",
            "17 Episode: Finished after 34 steps：최근 10 에피소드의 평균 단계 수 = 29.5 보상: 1.000000\n",
            "18 Episode: Finished after 35 steps：최근 10 에피소드의 평균 단계 수 = 30.5 보상: 2.000000\n",
            "19 Episode: Finished after 34 steps：최근 10 에피소드의 평균 단계 수 = 29.5 보상: 1.000000\n",
            "20 Episode: Finished after 36 steps：최근 10 에피소드의 평균 단계 수 = 31.5 보상: 2.000000\n",
            "21 Episode: Finished after 47 steps：최근 10 에피소드의 평균 단계 수 = 42.5 보상: 3.000000\n",
            "22 Episode: Finished after 34 steps：최근 10 에피소드의 평균 단계 수 = 29.5 보상: 1.000000\n",
            "23 Episode: Finished after 35 steps：최근 10 에피소드의 평균 단계 수 = 30.5 보상: 2.000000\n",
            "24 Episode: Finished after 34 steps：최근 10 에피소드의 평균 단계 수 = 29.5 보상: 1.000000\n",
            "25 Episode: Finished after 34 steps：최근 10 에피소드의 평균 단계 수 = 29.5 보상: 1.000000\n",
            "26 Episode: Finished after 63 steps：최근 10 에피소드의 평균 단계 수 = 58.5 보상: 4.000000\n",
            "27 Episode: Finished after 35 steps：최근 10 에피소드의 평균 단계 수 = 30.5 보상: 2.000000\n",
            "28 Episode: Finished after 34 steps：최근 10 에피소드의 평균 단계 수 = 29.5 보상: 1.000000\n",
            "29 Episode: Finished after 36 steps：최근 10 에피소드의 평균 단계 수 = 31.5 보상: 2.000000\n",
            "30 Episode: Finished after 34 steps：최근 10 에피소드의 평균 단계 수 = 29.5 보상: 1.000000\n",
            "31 Episode: Finished after 34 steps：최근 10 에피소드의 평균 단계 수 = 29.5 보상: 1.000000\n",
            "32 Episode: Finished after 35 steps：최근 10 에피소드의 평균 단계 수 = 30.5 보상: 2.000000\n",
            "33 Episode: Finished after 37 steps：최근 10 에피소드의 평균 단계 수 = 32.5 보상: 2.000000\n",
            "34 Episode: Finished after 37 steps：최근 10 에피소드의 평균 단계 수 = 32.5 보상: 2.000000\n",
            "35 Episode: Finished after 98 steps：최근 10 에피소드의 평균 단계 수 = 93.5 보상: 7.000000\n",
            "36 Episode: Finished after 36 steps：최근 10 에피소드의 평균 단계 수 = 31.5 보상: 2.000000\n",
            "37 Episode: Finished after 34 steps：최근 10 에피소드의 평균 단계 수 = 29.5 보상: 1.000000\n",
            "38 Episode: Finished after 34 steps：최근 10 에피소드의 평균 단계 수 = 29.5 보상: 1.000000\n",
            "39 Episode: Finished after 65 steps：최근 10 에피소드의 평균 단계 수 = 60.5 보상: 4.000000\n",
            "40 Episode: Finished after 34 steps：최근 10 에피소드의 평균 단계 수 = 29.5 보상: 1.000000\n",
            "41 Episode: Finished after 194 steps：최근 10 에피소드의 평균 단계 수 = 189.5 보상: 16.000000\n",
            "42 Episode: Finished after 34 steps：최근 10 에피소드의 평균 단계 수 = 29.5 보상: 1.000000\n",
            "43 Episode: Finished after 34 steps：최근 10 에피소드의 평균 단계 수 = 29.5 보상: 1.000000\n",
            "44 Episode: Finished after 243 steps：최근 10 에피소드의 평균 단계 수 = 238.5 보상: 20.000000\n",
            "45 Episode: Finished after 66 steps：최근 10 에피소드의 평균 단계 수 = 61.5 보상: 4.000000\n",
            "46 Episode: Finished after 34 steps：최근 10 에피소드의 평균 단계 수 = 29.5 보상: 1.000000\n",
            "47 Episode: Finished after 64 steps：최근 10 에피소드의 평균 단계 수 = 59.5 보상: 4.000000\n",
            "48 Episode: Finished after 68 steps：최근 10 에피소드의 평균 단계 수 = 63.5 보상: 5.000000\n",
            "49 Episode: Finished after 34 steps：최근 10 에피소드의 평균 단계 수 = 29.5 보상: 1.000000\n",
            "50 Episode: Finished after 34 steps：최근 10 에피소드의 평균 단계 수 = 29.5 보상: 1.000000\n",
            "51 Episode: Finished after 34 steps：최근 10 에피소드의 평균 단계 수 = 29.5 보상: 1.000000\n",
            "52 Episode: Finished after 34 steps：최근 10 에피소드의 평균 단계 수 = 29.5 보상: 1.000000\n",
            "53 Episode: Finished after 60 steps：최근 10 에피소드의 평균 단계 수 = 55.5 보상: 4.000000\n",
            "54 Episode: Finished after 322 steps：최근 10 에피소드의 평균 단계 수 = 317.5 보상: 28.000000\n",
            "55 Episode: Finished after 34 steps：최근 10 에피소드의 평균 단계 수 = 29.5 보상: 1.000000\n",
            "56 Episode: Finished after 37 steps：최근 10 에피소드의 평균 단계 수 = 32.5 보상: 2.000000\n",
            "57 Episode: Finished after 34 steps：최근 10 에피소드의 평균 단계 수 = 29.5 보상: 1.000000\n",
            "58 Episode: Finished after 34 steps：최근 10 에피소드의 평균 단계 수 = 29.5 보상: 1.000000\n",
            "59 Episode: Finished after 34 steps：최근 10 에피소드의 평균 단계 수 = 29.5 보상: 1.000000\n",
            "60 Episode: Finished after 34 steps：최근 10 에피소드의 평균 단계 수 = 29.5 보상: 1.000000\n",
            "61 Episode: Finished after 62 steps：최근 10 에피소드의 평균 단계 수 = 57.5 보상: 4.000000\n",
            "62 Episode: Finished after 34 steps：최근 10 에피소드의 평균 단계 수 = 29.5 보상: 1.000000\n",
            "63 Episode: Finished after 84 steps：최근 10 에피소드의 평균 단계 수 = 79.5 보상: 6.000000\n",
            "64 Episode: Finished after 34 steps：최근 10 에피소드의 평균 단계 수 = 29.5 보상: 1.000000\n",
            "65 Episode: Finished after 34 steps：최근 10 에피소드의 평균 단계 수 = 29.5 보상: 1.000000\n",
            "66 Episode: Finished after 62 steps：최근 10 에피소드의 평균 단계 수 = 57.5 보상: 4.000000\n",
            "67 Episode: Finished after 36 steps：최근 10 에피소드의 평균 단계 수 = 31.5 보상: 2.000000\n",
            "68 Episode: Finished after 36 steps：최근 10 에피소드의 평균 단계 수 = 31.5 보상: 2.000000\n",
            "69 Episode: Finished after 65 steps：최근 10 에피소드의 평균 단계 수 = 60.5 보상: 4.000000\n",
            "70 Episode: Finished after 36 steps：최근 10 에피소드의 평균 단계 수 = 31.5 보상: 2.000000\n",
            "71 Episode: Finished after 34 steps：최근 10 에피소드의 평균 단계 수 = 29.5 보상: 1.000000\n",
            "72 Episode: Finished after 34 steps：최근 10 에피소드의 평균 단계 수 = 29.5 보상: 1.000000\n",
            "73 Episode: Finished after 34 steps：최근 10 에피소드의 평균 단계 수 = 29.5 보상: 1.000000\n",
            "74 Episode: Finished after 64 steps：최근 10 에피소드의 평균 단계 수 = 59.5 보상: 4.000000\n",
            "75 Episode: Finished after 66 steps：최근 10 에피소드의 평균 단계 수 = 61.5 보상: 4.000000\n",
            "76 Episode: Finished after 34 steps：최근 10 에피소드의 평균 단계 수 = 29.5 보상: 1.000000\n",
            "77 Episode: Finished after 34 steps：최근 10 에피소드의 평균 단계 수 = 29.5 보상: 1.000000\n",
            "78 Episode: Finished after 65 steps：최근 10 에피소드의 평균 단계 수 = 60.5 보상: 4.000000\n",
            "79 Episode: Finished after 66 steps：최근 10 에피소드의 평균 단계 수 = 61.5 보상: 4.000000\n",
            "80 Episode: Finished after 65 steps：최근 10 에피소드의 평균 단계 수 = 60.5 보상: 4.000000\n",
            "81 Episode: Finished after 34 steps：최근 10 에피소드의 평균 단계 수 = 29.5 보상: 1.000000\n",
            "82 Episode: Finished after 34 steps：최근 10 에피소드의 평균 단계 수 = 29.5 보상: 1.000000\n",
            "83 Episode: Finished after 34 steps：최근 10 에피소드의 평균 단계 수 = 29.5 보상: 1.000000\n",
            "84 Episode: Finished after 65 steps：최근 10 에피소드의 평균 단계 수 = 60.5 보상: 4.000000\n",
            "85 Episode: Finished after 34 steps：최근 10 에피소드의 평균 단계 수 = 29.5 보상: 1.000000\n",
            "86 Episode: Finished after 66 steps：최근 10 에피소드의 평균 단계 수 = 61.5 보상: 4.000000\n",
            "87 Episode: Finished after 34 steps：최근 10 에피소드의 평균 단계 수 = 29.5 보상: 1.000000\n",
            "88 Episode: Finished after 34 steps：최근 10 에피소드의 평균 단계 수 = 29.5 보상: 1.000000\n",
            "89 Episode: Finished after 34 steps：최근 10 에피소드의 평균 단계 수 = 29.5 보상: 1.000000\n",
            "90 Episode: Finished after 36 steps：최근 10 에피소드의 평균 단계 수 = 31.5 보상: 2.000000\n",
            "91 Episode: Finished after 34 steps：최근 10 에피소드의 평균 단계 수 = 29.5 보상: 1.000000\n",
            "92 Episode: Finished after 35 steps：최근 10 에피소드의 평균 단계 수 = 30.5 보상: 2.000000\n",
            "93 Episode: Finished after 34 steps：최근 10 에피소드의 평균 단계 수 = 29.5 보상: 1.000000\n",
            "94 Episode: Finished after 34 steps：최근 10 에피소드의 평균 단계 수 = 29.5 보상: 1.000000\n",
            "95 Episode: Finished after 34 steps：최근 10 에피소드의 평균 단계 수 = 29.5 보상: 1.000000\n",
            "96 Episode: Finished after 66 steps：최근 10 에피소드의 평균 단계 수 = 61.5 보상: 4.000000\n",
            "97 Episode: Finished after 34 steps：최근 10 에피소드의 평균 단계 수 = 29.5 보상: 1.000000\n",
            "98 Episode: Finished after 53 steps：최근 10 에피소드의 평균 단계 수 = 48.5 보상: 3.000000\n",
            "99 Episode: Finished after 34 steps：최근 10 에피소드의 평균 단계 수 = 29.5 보상: 1.000000\n",
            "100 Episode: Finished after 37 steps：최근 10 에피소드의 평균 단계 수 = 32.5 보상: 2.000000\n",
            "101 Episode: Finished after 388 steps：최근 10 에피소드의 평균 단계 수 = 383.5 보상: 34.000000\n",
            "102 Episode: Finished after 34 steps：최근 10 에피소드의 평균 단계 수 = 29.5 보상: 1.000000\n",
            "103 Episode: Finished after 62 steps：최근 10 에피소드의 평균 단계 수 = 57.5 보상: 4.000000\n",
            "104 Episode: Finished after 35 steps：최근 10 에피소드의 평균 단계 수 = 30.5 보상: 2.000000\n",
            "105 Episode: Finished after 34 steps：최근 10 에피소드의 평균 단계 수 = 29.5 보상: 1.000000\n",
            "106 Episode: Finished after 34 steps：최근 10 에피소드의 평균 단계 수 = 29.5 보상: 1.000000\n",
            "107 Episode: Finished after 34 steps：최근 10 에피소드의 평균 단계 수 = 29.5 보상: 1.000000\n",
            "108 Episode: Finished after 34 steps：최근 10 에피소드의 평균 단계 수 = 29.5 보상: 1.000000\n",
            "109 Episode: Finished after 36 steps：최근 10 에피소드의 평균 단계 수 = 31.5 보상: 2.000000\n",
            "110 Episode: Finished after 66 steps：최근 10 에피소드의 평균 단계 수 = 61.5 보상: 4.000000\n",
            "111 Episode: Finished after 36 steps：최근 10 에피소드의 평균 단계 수 = 31.5 보상: 2.000000\n",
            "112 Episode: Finished after 34 steps：최근 10 에피소드의 평균 단계 수 = 29.5 보상: 1.000000\n",
            "113 Episode: Finished after 34 steps：최근 10 에피소드의 평균 단계 수 = 29.5 보상: 1.000000\n",
            "114 Episode: Finished after 38 steps：최근 10 에피소드의 평균 단계 수 = 33.5 보상: 2.000000\n",
            "115 Episode: Finished after 34 steps：최근 10 에피소드의 평균 단계 수 = 29.5 보상: 1.000000\n",
            "116 Episode: Finished after 806 steps：최근 10 에피소드의 평균 단계 수 = 801.5 보상: 72.000000\n",
            "(807, 210, 160, 3)\n"
          ]
        },
        {
          "metadata": {
            "tags": null
          },
          "name": "stderr",
          "output_type": "stream",
          "text": [
            "<ipython-input-353-1e51c76bd112>:112: UserWarning: indexing with dtype torch.uint8 is now deprecated, please use a dtype torch.bool instead. (Triggered internally at  ../aten/src/ATen/native/IndexingUtils.h:27.)\n",
            "  next_state_values[non_final_mask] = self.model(\n"
          ]
        },
        {
          "output_type": "stream",
          "name": "stdout",
          "text": [
            "117 Episode: Finished after 34 steps：최근 10 에피소드의 평균 단계 수 = 29.5 보상: 1.000000\n",
            "118 Episode: Finished after 54 steps：최근 10 에피소드의 평균 단계 수 = 49.5 보상: 3.000000\n",
            "119 Episode: Finished after 66 steps：최근 10 에피소드의 평균 단계 수 = 61.5 보상: 4.000000\n",
            "120 Episode: Finished after 34 steps：최근 10 에피소드의 평균 단계 수 = 29.5 보상: 1.000000\n",
            "121 Episode: Finished after 35 steps：최근 10 에피소드의 평균 단계 수 = 30.5 보상: 2.000000\n",
            "122 Episode: Finished after 292 steps：최근 10 에피소드의 평균 단계 수 = 287.5 보상: 25.000000\n",
            "123 Episode: Finished after 67 steps：최근 10 에피소드의 평균 단계 수 = 62.5 보상: 4.000000\n",
            "124 Episode: Finished after 35 steps：최근 10 에피소드의 평균 단계 수 = 30.5 보상: 2.000000\n",
            "125 Episode: Finished after 65 steps：최근 10 에피소드의 평균 단계 수 = 60.5 보상: 4.000000\n",
            "126 Episode: Finished after 34 steps：최근 10 에피소드의 평균 단계 수 = 29.5 보상: 1.000000\n",
            "127 Episode: Finished after 34 steps：최근 10 에피소드의 평균 단계 수 = 29.5 보상: 1.000000\n",
            "128 Episode: Finished after 36 steps：최근 10 에피소드의 평균 단계 수 = 31.5 보상: 2.000000\n",
            "129 Episode: Finished after 34 steps：최근 10 에피소드의 평균 단계 수 = 29.5 보상: 1.000000\n",
            "130 Episode: Finished after 35 steps：최근 10 에피소드의 평균 단계 수 = 30.5 보상: 2.000000\n",
            "131 Episode: Finished after 98 steps：최근 10 에피소드의 평균 단계 수 = 93.5 보상: 7.000000\n",
            "132 Episode: Finished after 66 steps：최근 10 에피소드의 평균 단계 수 = 61.5 보상: 4.000000\n",
            "133 Episode: Finished after 34 steps：최근 10 에피소드의 평균 단계 수 = 29.5 보상: 1.000000\n",
            "134 Episode: Finished after 34 steps：최근 10 에피소드의 평균 단계 수 = 29.5 보상: 1.000000\n",
            "135 Episode: Finished after 67 steps：최근 10 에피소드의 평균 단계 수 = 62.5 보상: 4.000000\n",
            "136 Episode: Finished after 34 steps：최근 10 에피소드의 평균 단계 수 = 29.5 보상: 1.000000\n",
            "137 Episode: Finished after 34 steps：최근 10 에피소드의 평균 단계 수 = 29.5 보상: 1.000000\n",
            "138 Episode: Finished after 34 steps：최근 10 에피소드의 평균 단계 수 = 29.5 보상: 1.000000\n",
            "139 Episode: Finished after 34 steps：최근 10 에피소드의 평균 단계 수 = 29.5 보상: 1.000000\n",
            "140 Episode: Finished after 63 steps：최근 10 에피소드의 평균 단계 수 = 58.5 보상: 4.000000\n",
            "141 Episode: Finished after 79 steps：최근 10 에피소드의 평균 단계 수 = 74.5 보상: 6.000000\n",
            "142 Episode: Finished after 66 steps：최근 10 에피소드의 평균 단계 수 = 61.5 보상: 4.000000\n",
            "143 Episode: Finished after 35 steps：최근 10 에피소드의 평균 단계 수 = 30.5 보상: 2.000000\n",
            "144 Episode: Finished after 34 steps：최근 10 에피소드의 평균 단계 수 = 29.5 보상: 1.000000\n",
            "145 Episode: Finished after 35 steps：최근 10 에피소드의 평균 단계 수 = 30.5 보상: 2.000000\n",
            "146 Episode: Finished after 34 steps：최근 10 에피소드의 평균 단계 수 = 29.5 보상: 1.000000\n",
            "147 Episode: Finished after 34 steps：최근 10 에피소드의 평균 단계 수 = 29.5 보상: 1.000000\n",
            "148 Episode: Finished after 34 steps：최근 10 에피소드의 평균 단계 수 = 29.5 보상: 1.000000\n",
            "149 Episode: Finished after 36 steps：최근 10 에피소드의 평균 단계 수 = 31.5 보상: 2.000000\n",
            "150 Episode: Finished after 35 steps：최근 10 에피소드의 평균 단계 수 = 30.5 보상: 2.000000\n",
            "151 Episode: Finished after 34 steps：최근 10 에피소드의 평균 단계 수 = 29.5 보상: 1.000000\n",
            "152 Episode: Finished after 35 steps：최근 10 에피소드의 평균 단계 수 = 30.5 보상: 2.000000\n",
            "153 Episode: Finished after 62 steps：최근 10 에피소드의 평균 단계 수 = 57.5 보상: 4.000000\n",
            "154 Episode: Finished after 34 steps：최근 10 에피소드의 평균 단계 수 = 29.5 보상: 1.000000\n",
            "155 Episode: Finished after 37 steps：최근 10 에피소드의 평균 단계 수 = 32.5 보상: 2.000000\n",
            "156 Episode: Finished after 34 steps：최근 10 에피소드의 평균 단계 수 = 29.5 보상: 1.000000\n",
            "157 Episode: Finished after 722 steps：최근 10 에피소드의 평균 단계 수 = 717.5 보상: 64.000000\n",
            "(723, 210, 160, 3)\n"
          ]
        },
        {
          "output_type": "stream",
          "name": "stderr",
          "text": [
            "<ipython-input-353-1e51c76bd112>:112: UserWarning: indexing with dtype torch.uint8 is now deprecated, please use a dtype torch.bool instead. (Triggered internally at  ../aten/src/ATen/native/IndexingUtils.h:27.)\n",
            "  next_state_values[non_final_mask] = self.model(\n"
          ]
        },
        {
          "output_type": "stream",
          "name": "stdout",
          "text": [
            "158 Episode: Finished after 34 steps：최근 10 에피소드의 평균 단계 수 = 29.5 보상: 1.000000\n",
            "159 Episode: Finished after 63 steps：최근 10 에피소드의 평균 단계 수 = 58.5 보상: 4.000000\n",
            "160 Episode: Finished after 66 steps：최근 10 에피소드의 평균 단계 수 = 61.5 보상: 4.000000\n",
            "161 Episode: Finished after 35 steps：최근 10 에피소드의 평균 단계 수 = 30.5 보상: 2.000000\n",
            "162 Episode: Finished after 38 steps：최근 10 에피소드의 평균 단계 수 = 33.5 보상: 2.000000\n",
            "163 Episode: Finished after 34 steps：최근 10 에피소드의 평균 단계 수 = 29.5 보상: 1.000000\n",
            "164 Episode: Finished after 64 steps：최근 10 에피소드의 평균 단계 수 = 59.5 보상: 4.000000\n",
            "165 Episode: Finished after 66 steps：최근 10 에피소드의 평균 단계 수 = 61.5 보상: 4.000000\n",
            "166 Episode: Finished after 52 steps：최근 10 에피소드의 평균 단계 수 = 47.5 보상: 3.000000\n",
            "167 Episode: Finished after 36 steps：최근 10 에피소드의 평균 단계 수 = 31.5 보상: 2.000000\n",
            "168 Episode: Finished after 36 steps：최근 10 에피소드의 평균 단계 수 = 31.5 보상: 2.000000\n",
            "169 Episode: Finished after 34 steps：최근 10 에피소드의 평균 단계 수 = 29.5 보상: 1.000000\n",
            "170 Episode: Finished after 34 steps：최근 10 에피소드의 평균 단계 수 = 29.5 보상: 1.000000\n",
            "171 Episode: Finished after 35 steps：최근 10 에피소드의 평균 단계 수 = 30.5 보상: 2.000000\n",
            "172 Episode: Finished after 34 steps：최근 10 에피소드의 평균 단계 수 = 29.5 보상: 1.000000\n",
            "173 Episode: Finished after 1009 steps：최근 10 에피소드의 평균 단계 수 = 1004.5 보상: 90.000000\n",
            "(1010, 210, 160, 3)\n"
          ]
        },
        {
          "output_type": "stream",
          "name": "stderr",
          "text": [
            "<ipython-input-353-1e51c76bd112>:112: UserWarning: indexing with dtype torch.uint8 is now deprecated, please use a dtype torch.bool instead. (Triggered internally at  ../aten/src/ATen/native/IndexingUtils.h:27.)\n",
            "  next_state_values[non_final_mask] = self.model(\n"
          ]
        },
        {
          "output_type": "stream",
          "name": "stdout",
          "text": [
            "174 Episode: Finished after 35 steps：최근 10 에피소드의 평균 단계 수 = 30.5 보상: 2.000000\n",
            "175 Episode: Finished after 36 steps：최근 10 에피소드의 평균 단계 수 = 31.5 보상: 2.000000\n",
            "176 Episode: Finished after 66 steps：최근 10 에피소드의 평균 단계 수 = 61.5 보상: 4.000000\n",
            "177 Episode: Finished after 36 steps：최근 10 에피소드의 평균 단계 수 = 31.5 보상: 2.000000\n",
            "178 Episode: Finished after 35 steps：최근 10 에피소드의 평균 단계 수 = 30.5 보상: 2.000000\n",
            "179 Episode: Finished after 37 steps：최근 10 에피소드의 평균 단계 수 = 32.5 보상: 2.000000\n",
            "180 Episode: Finished after 36 steps：최근 10 에피소드의 평균 단계 수 = 31.5 보상: 2.000000\n",
            "181 Episode: Finished after 220 steps：최근 10 에피소드의 평균 단계 수 = 215.5 보상: 18.000000\n",
            "182 Episode: Finished after 38 steps：최근 10 에피소드의 평균 단계 수 = 33.5 보상: 2.000000\n",
            "183 Episode: Finished after 67 steps：최근 10 에피소드의 평균 단계 수 = 62.5 보상: 4.000000\n",
            "184 Episode: Finished after 34 steps：최근 10 에피소드의 평균 단계 수 = 29.5 보상: 1.000000\n",
            "185 Episode: Finished after 37 steps：최근 10 에피소드의 평균 단계 수 = 32.5 보상: 2.000000\n",
            "186 Episode: Finished after 34 steps：최근 10 에피소드의 평균 단계 수 = 29.5 보상: 1.000000\n",
            "187 Episode: Finished after 67 steps：최근 10 에피소드의 평균 단계 수 = 62.5 보상: 4.000000\n",
            "188 Episode: Finished after 36 steps：최근 10 에피소드의 평균 단계 수 = 31.5 보상: 2.000000\n",
            "189 Episode: Finished after 34 steps：최근 10 에피소드의 평균 단계 수 = 29.5 보상: 1.000000\n",
            "190 Episode: Finished after 36 steps：최근 10 에피소드의 평균 단계 수 = 31.5 보상: 2.000000\n",
            "191 Episode: Finished after 34 steps：최근 10 에피소드의 평균 단계 수 = 29.5 보상: 1.000000\n",
            "192 Episode: Finished after 164 steps：최근 10 에피소드의 평균 단계 수 = 159.5 보상: 13.000000\n",
            "193 Episode: Finished after 34 steps：최근 10 에피소드의 평균 단계 수 = 29.5 보상: 1.000000\n",
            "194 Episode: Finished after 1475 steps：최근 10 에피소드의 평균 단계 수 = 1470.5 보상: 132.000000\n",
            "(1476, 210, 160, 3)\n"
          ]
        },
        {
          "output_type": "stream",
          "name": "stderr",
          "text": [
            "<ipython-input-353-1e51c76bd112>:112: UserWarning: indexing with dtype torch.uint8 is now deprecated, please use a dtype torch.bool instead. (Triggered internally at  ../aten/src/ATen/native/IndexingUtils.h:27.)\n",
            "  next_state_values[non_final_mask] = self.model(\n"
          ]
        },
        {
          "output_type": "stream",
          "name": "stdout",
          "text": [
            "195 Episode: Finished after 37 steps：최근 10 에피소드의 평균 단계 수 = 32.5 보상: 2.000000\n",
            "196 Episode: Finished after 37 steps：최근 10 에피소드의 평균 단계 수 = 32.5 보상: 2.000000\n",
            "197 Episode: Finished after 54 steps：최근 10 에피소드의 평균 단계 수 = 49.5 보상: 3.000000\n",
            "198 Episode: Finished after 34 steps：최근 10 에피소드의 평균 단계 수 = 29.5 보상: 1.000000\n",
            "199 Episode: Finished after 34 steps：최근 10 에피소드의 평균 단계 수 = 29.5 보상: 1.000000\n",
            "200 Episode: Finished after 65 steps：최근 10 에피소드의 평균 단계 수 = 60.5 보상: 4.000000\n"
          ]
        }
      ]
    },
    {
      "cell_type": "code",
      "source": [
        "from IPython.display import HTML\n",
        "from base64 import b64encode\n",
        "mp4 = open('/content/tennis169_79.mp4','rb').read()\n",
        "data_url = \"data:video/mp4;base64,\" + b64encode(mp4).decode()\n",
        "HTML(\"\"\"\n",
        "<video width=500 controls>\n",
        "      <source src=\"%s\" type=\"video/mp4\">\n",
        "</video>\n",
        "\"\"\" % data_url)"
      ],
      "metadata": {
        "id": "AULR0nqKLq0X",
        "colab": {
          "base_uri": "https://localhost:8080/",
          "height": 678
        },
        "outputId": "101a8264-d7ff-4e78-8fc3-03645f9603bf"
      },
      "execution_count": null,
      "outputs": [
        {
          "output_type": "execute_result",
          "data": {
            "text/plain": [
              "<IPython.core.display.HTML object>"
            ],
            "text/html": [
              "\n",
              "<video width=500 controls>\n",
              "      <source src=\"data:video/mp4;base64,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\" type=\"video/mp4\">\n",
              "</video>\n"
            ]
          },
          "metadata": {},
          "execution_count": 349
        }
      ]
    },
    {
      "cell_type": "code",
      "source": [
        "\n",
        "observation_next, step_reward, terminated, truncated, info = env.step(1)  # reward와 info는 사용하지 않으므로 _로 처리\n",
        "state_next = observation_next  # 관측 결과를 그대로 상태로 사용\n",
        "state_next = resize_frame(state_next)\n",
        "\n",
        "state_next = state_next.reshape(1,84*84)\n",
        "state_next = torch.from_numpy(state_next).type(torch.FloatTensor)  # numpy 변수를 파이토치 텐서로 변환\n",
        "#state_next = state_next.unsqueeze(0)\n",
        "\n",
        "print(state_next.size())\n",
        "con = nn.Conv1d(1,10,5)\n",
        "#print(state_next.unsqueeze(0).size())\n",
        "\n",
        "\n",
        "#x = nn.Flatten(0,-1)(x)\n",
        "#print(x.size())\n",
        "x = nn.Linear(84*84,84*84)(state_next)\n",
        "print(x.size())\n",
        "x = con(x)\n",
        "\n",
        "print(x.size())\n",
        "x = nn.MaxPool1d(2,2)(x)\n",
        "print(x.size())\n",
        "x = nn.Flatten(0,-1)(x)\n",
        "print(x.size())\n",
        "x = nn.Linear(35260,200)(x)\n",
        "print(x.size())\n",
        "#\n",
        "#print(x.size())"
      ],
      "metadata": {
        "colab": {
          "base_uri": "https://localhost:8080/"
        },
        "id": "rJ6ei_MvNXOQ",
        "outputId": "1a067973-d157-4b2c-c737-11b56b8c86bb"
      },
      "execution_count": null,
      "outputs": [
        {
          "output_type": "stream",
          "name": "stdout",
          "text": [
            "torch.Size([1, 7056])\n",
            "torch.Size([1, 7056])\n",
            "torch.Size([10, 7052])\n",
            "torch.Size([10, 3526])\n",
            "torch.Size([35260])\n",
            "torch.Size([200])\n"
          ]
        }
      ]
    },
    {
      "cell_type": "code",
      "source": [
        "m = nn.Conv1d(16, 33, 3, stride=2)\n",
        "input = torch.randn(20, 16, 50)\n",
        "output = m(input)"
      ],
      "metadata": {
        "id": "zQzfX-W2kUtJ"
      },
      "execution_count": null,
      "outputs": []
    },
    {
      "cell_type": "code",
      "source": [
        "output.size()"
      ],
      "metadata": {
        "colab": {
          "base_uri": "https://localhost:8080/"
        },
        "id": "0gfIATtWNgB7",
        "outputId": "cc993ba0-ac14-426e-b8a1-c0f8e18ab125"
      },
      "execution_count": null,
      "outputs": [
        {
          "output_type": "execute_result",
          "data": {
            "text/plain": [
              "torch.Size([20, 33, 24])"
            ]
          },
          "metadata": {},
          "execution_count": 65
        }
      ]
    }
  ],
  "metadata": {
    "colab": {
      "provenance": [],
      "authorship_tag": "ABX9TyOx6SE1R2OQ86QlEX87fzIB",
      "include_colab_link": true
    },
    "kernelspec": {
      "display_name": "Python 3",
      "name": "python3"
    },
    "language_info": {
      "name": "python"
    }
  },
  "nbformat": 4,
  "nbformat_minor": 0
}